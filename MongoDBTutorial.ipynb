{
 "cells": [
  {
   "cell_type": "code",
   "execution_count": 1,
   "metadata": {
    "collapsed": true
   },
   "outputs": [],
   "source": [
    "from IPython.core.display import HTML "
   ]
  },
  {
   "cell_type": "markdown",
   "metadata": {},
   "source": [
    "# Introduction to MongoDB with PyMongo and NOAA Data\n",
    "\n",
    "This notebook provides a basic walkthrough of how to use MongoDB and is based on a tutorial originally by [Alberto Negron](http://altons.github.io/python/2013/01/21/gentle-introduction-to-mongodb-using-pymongo/).\n",
    "\n",
    "Metadata records are frequently stored as JSON, and almost anything you get from an API will be JSON. For example, check out the [metadata records](https://data.noaa.gov/data.json) for the National Oceanic and Atmospheric Administration. \n",
    "\n",
    "MongoDB is a great tool to use with JSON data because it stores structured data as JSON-like documents, using dynamic schemas (called BSON), rather than predefined schemas. \n",
    "\n",
    "In MongoDB, an element of data is called a document, and documents are stored in collections. One collection may have any number of documents. Collections are a bit like tables in a relational database, and documents are like records. But there is one big difference: every record in a table has the same fields (with, usually, differing values) in the same order, while each document in a collection can have completely different fields from the other documents.\n",
    "\n",
    "Documents are Python dictionaries that can have strings as keys and can contain various primitive types (int, float,unicode, datetime) as well as other documents (Python dicts) and arrays (Python lists).\n",
    "\n",
    "## Getting started\n",
    "First we need to import `json` and `pymongo`.\n",
    "\n",
    "Note that the `pprint` module provides a capability to “pretty-print” arbitrary Python data structures in a form which can be used as input to the interpreter. This is particularly helpful with JSON. You can read more about `pprint` [here](https://docs.python.org/2/library/pprint.html)."
   ]
  },
  {
   "cell_type": "code",
   "execution_count": 2,
   "metadata": {
    "collapsed": true
   },
   "outputs": [],
   "source": [
    "import json\n",
    "import pymongo\n",
    "from pprint import pprint"
   ]
  },
  {
   "cell_type": "markdown",
   "metadata": {},
   "source": [
    "## Connect    \n",
    "Just as with the relational database example with `sqlite`, we need to begin by setting up a connection. With MongoDB, we will be using `pymongo`, though MongoDB also comes with a [console API that uses Javascript](https://docs.mongodb.org/manual/tutorial/write-scripts-for-the-mongo-shell/).    \n",
    "\n",
    "\n",
    "To make our connection, we will use the PyMongo method `MongoClient`:"
   ]
  },
  {
   "cell_type": "code",
   "execution_count": 3,
   "metadata": {
    "collapsed": false
   },
   "outputs": [
    {
     "data": {
      "text/plain": [
       "MongoClient(host=['localhost:27017'], document_class=dict, tz_aware=False, connect=True)"
      ]
     },
     "execution_count": 3,
     "metadata": {},
     "output_type": "execute_result"
    }
   ],
   "source": [
    "conn=pymongo.MongoClient()\n",
    "conn"
   ]
  },
  {
   "cell_type": "markdown",
   "metadata": {},
   "source": [
    "## Create and access a database    \n",
    "Mongodb creates databases and collections automatically for you if they don't exist already. A single instance of MongoDB can support multiple independent databases. When working with PyMongo, we access databases using attribute style access, just like we did with `sqlite`:"
   ]
  },
  {
   "cell_type": "code",
   "execution_count": 4,
   "metadata": {
    "collapsed": false
   },
   "outputs": [
    {
     "data": {
      "text/plain": [
       "Database(MongoClient(host=['localhost:27017'], document_class=dict, tz_aware=False, connect=True), u'mydb')"
      ]
     },
     "execution_count": 4,
     "metadata": {},
     "output_type": "execute_result"
    }
   ],
   "source": [
    "db = conn.mydb\n",
    "db"
   ]
  },
  {
   "cell_type": "markdown",
   "metadata": {},
   "source": [
    "## Collections    \n",
    "A collection is a group of documents stored in MongoDB, and can be thought of as roughly the equivalent of a table in a relational database. Getting a collection in PyMongo works the same as getting a database:"
   ]
  },
  {
   "cell_type": "code",
   "execution_count": 5,
   "metadata": {
    "collapsed": false
   },
   "outputs": [
    {
     "data": {
      "text/plain": [
       "Collection(Database(MongoClient(host=['localhost:27017'], document_class=dict, tz_aware=False, connect=True), u'mydb'), u'my_collection')"
      ]
     },
     "execution_count": 5,
     "metadata": {},
     "output_type": "execute_result"
    }
   ],
   "source": [
    "collection = db.my_collection\n",
    "collection"
   ]
  },
  {
   "cell_type": "markdown",
   "metadata": {},
   "source": [
    "## Insert data   \n",
    "To insert some data into MongoDB, all we need to do is create a dict and call `insert_one` on the collection object:"
   ]
  },
  {
   "cell_type": "code",
   "execution_count": 6,
   "metadata": {
    "collapsed": false
   },
   "outputs": [
    {
     "data": {
      "text/plain": [
       "<pymongo.results.InsertOneResult at 0x104dce230>"
      ]
     },
     "execution_count": 6,
     "metadata": {},
     "output_type": "execute_result"
    }
   ],
   "source": [
    "doc = {\"class\":\"XBUS-502\",\"date\":\"03-05-2016\",\"instructor\":\"Bengfort\",\"classroom\":\"C222\",\"roster_count\":\"25\"}\n",
    "collection.insert_one(doc)"
   ]
  },
  {
   "cell_type": "code",
   "execution_count": 7,
   "metadata": {
    "collapsed": false
   },
   "outputs": [
    {
     "data": {
      "text/plain": [
       "[u'local', u'mydb']"
      ]
     },
     "execution_count": 7,
     "metadata": {},
     "output_type": "execute_result"
    }
   ],
   "source": [
    "conn.database_names()"
   ]
  },
  {
   "cell_type": "code",
   "execution_count": 8,
   "metadata": {
    "collapsed": false
   },
   "outputs": [
    {
     "data": {
      "text/plain": [
       "[u'my_collection', u'system.indexes']"
      ]
     },
     "execution_count": 8,
     "metadata": {},
     "output_type": "execute_result"
    }
   ],
   "source": [
    "db.collection_names()"
   ]
  },
  {
   "cell_type": "markdown",
   "metadata": {},
   "source": [
    "## A practical example\n",
    "\n",
    "Let's say you wanted to gather up a bunch of JSON metadata records and store them for analysis. \n",
    "\n",
    "```python\n",
    "import requests\n",
    "\n",
    "NOAA_URL = \"https://data.noaa.gov/data.json\"\n",
    "\n",
    "def load_data(URL):\n",
    "    \"\"\"\n",
    "    Loads the data from URL and returns data in JSON format.\n",
    "    \"\"\"\n",
    "    r = requests.get(URL)\n",
    "    data = r.json()\n",
    "    return data\n",
    "    \n",
    "noaa = load_data(NOAA_URL)\n",
    "```\n",
    "\n",
    "This takes a long time, so I've created a file for you that contains a small chunk of the records to use for today's workshop."
   ]
  },
  {
   "cell_type": "code",
   "execution_count": 9,
   "metadata": {
    "collapsed": false
   },
   "outputs": [],
   "source": [
    "with open(\"data_sample.json\") as data_file:    \n",
    "    noaa = json.load(data_file)"
   ]
  },
  {
   "cell_type": "code",
   "execution_count": 10,
   "metadata": {
    "collapsed": false
   },
   "outputs": [
    {
     "data": {
      "text/plain": [
       "1722"
      ]
     },
     "execution_count": 10,
     "metadata": {},
     "output_type": "execute_result"
    }
   ],
   "source": [
    "len(noaa)"
   ]
  },
  {
   "cell_type": "markdown",
   "metadata": {},
   "source": [
    "### Checking out the data\n",
    "Now let's print out just one record to examine the structure. "
   ]
  },
  {
   "cell_type": "code",
   "execution_count": 11,
   "metadata": {
    "collapsed": false
   },
   "outputs": [
    {
     "name": "stdout",
     "output_type": "stream",
     "text": [
      "{u'@type': u'dcat:Dataset',\n",
      " u'accessLevel': u'public',\n",
      " u'accrualPeriodicity': u'irregular',\n",
      " u'bureauCode': [u'006:48'],\n",
      " u'contactPoint': {u'@type': u'vcard:Contact',\n",
      "                   u'fn': u'Ilya P. Romanov',\n",
      "                   u'hasEmail': u'mailto:nsidc@nsidc.org'},\n",
      " u'description': u\"This data set contains sea ice and snow measurements collected during aircraft landings associated with the Soviet Union's historical Sever airborne and North Pole drifting station programs. The High-Latitude Airborne Annual Expeditions Sever (Sever means North) took place in 1937, 1941, 1948-1952, and 1954-1993 (Konstantinov and Grachev, 2000). In Spring 1993, the last (45th) Sever expedition finished long-term activity in the Arctic. Snow and sea ice data were collected, along with meteorological and hydrological measurements (the latter are not part of this data set). Up to 202 landings were accomplished each year.  The data set contains measurements of 23 parameters, including ice thickness and snow depth on the runway and surrounding area; ridge, hummock, and sastrugi dimensions and areal coverage; and snow density. The sea ice thickness data are of particular importance, as ice thickness measurements for the Arctic Basin are scarce. These data are a subset of those used to create the atlas Morphometric Characteristics of Ice and Snow in the Arctic Basin, self-published by Ilya P. Romanov in 1993, and republished by Backbone Publishing Company in 1995. Romanov provided these data to the National Snow and Ice Data Center (NSIDC) in 1994.\",\n",
      " u'distribution': [{u'@type': u'dcat:Distribution',\n",
      "                    u'downloadURL': u'ftp://sidads.colorado.edu/pub/DATASETS/NOAA/G02140/',\n",
      "                    u'mediaType': u'text/html',\n",
      "                    u'title': u'Unnamed resource'},\n",
      "                   {u'@type': u'dcat:Distribution',\n",
      "                    u'downloadURL': u'http://nsidc.org/data/docs/noaa/g02140_romanov_arctic_seaice/index.html',\n",
      "                    u'mediaType': u'text/html',\n",
      "                    u'title': u'Unnamed resource'},\n",
      "                   {u'@type': u'dcat:Distribution',\n",
      "                    u'downloadURL': u'http://nsidc.org',\n",
      "                    u'mediaType': u'text/html',\n",
      "                    u'title': u'Unnamed resource'},\n",
      "                   {u'@type': u'dcat:Distribution',\n",
      "                    u'downloadURL': u'http://nsidc.org/noaa/',\n",
      "                    u'mediaType': u'text/html',\n",
      "                    u'title': u'Unnamed resource'}],\n",
      " u'identifier': u'noaa.ncei.nsidc.G02140',\n",
      " u'keyword': [u'Continent > Europe > Eastern Europe > Russia',\n",
      "              u'Geographic Region > Arctic > Arctic Basin',\n",
      "              u'EARTH SCIENCE > Cryosphere > Sea Ice > Ice Deformation',\n",
      "              u'EARTH SCIENCE > Cryosphere > Sea Ice > Ice Depth/Thickness',\n",
      "              u'EARTH SCIENCE > Cryosphere > Sea Ice > Ice Floes > Length',\n",
      "              u'EARTH SCIENCE > Cryosphere > Sea Ice > Ice Floes > Width',\n",
      "              u'EARTH SCIENCE > Cryosphere > Sea Ice > Ice Roughness > Hummocks',\n",
      "              u'EARTH SCIENCE > Cryosphere > Sea Ice > Sea Ice Elevation > Hummocks',\n",
      "              u'EARTH SCIENCE > Cryosphere > Sea Ice > Snow Depth',\n",
      "              u'EARTH SCIENCE > Cryosphere > Snow/Ice > Snow Density',\n",
      "              u'EARTH SCIENCE > Cryosphere > Snow/Ice > Snow Depth',\n",
      "              u'EARTH SCIENCE > Oceans > Sea Ice > Ice Deformation',\n",
      "              u'EARTH SCIENCE > Oceans > Sea Ice > Ice Depth/Thickness',\n",
      "              u'EARTH SCIENCE > Oceans > Sea Ice > Ice Floes > Length',\n",
      "              u'EARTH SCIENCE > Oceans > Sea Ice > Ice Floes > Width',\n",
      "              u'EARTH SCIENCE > Oceans > Sea Ice > Ice Roughness > Hummocks',\n",
      "              u'EARTH SCIENCE > Oceans > Sea Ice > Sea Ice Elevation',\n",
      "              u'EARTH SCIENCE > Oceans > Sea Ice > Snow Depth',\n",
      "              u'EARTH SCIENCE > Terrestrial Hydrosphere > Snow/Ice > Snow Density',\n",
      "              u'EARTH SCIENCE > Terrestrial Hydrosphere > Snow/Ice > Snow Depth',\n",
      "              u'Aircraft',\n",
      "              u'Arctic Basin',\n",
      "              u'Arctic Sea Ice',\n",
      "              u'g02140',\n",
      "              u'NOAA',\n",
      "              u'North Pole',\n",
      "              u'North Pole drifting station',\n",
      "              u'Sever'],\n",
      " u'language': [u'en-US'],\n",
      " u'modified': u'2004-03-17',\n",
      " u'programCode': [u'000:000'],\n",
      " u'publisher': {u'@type': u'org:Organization',\n",
      "                u'name': u' (Principal Investigator); National Snow and Ice Data Center (Point of Contact)'},\n",
      " u'spatial': u'{\"type\": \"Polygon\", \"coordinates\": [[[-180.0, 64.0], [180.0, 64.0], [180.0, 90.0], [-180.0, 90.0], [-180.0, 64.0]]]}',\n",
      " u'temporal': u'1928-06-01T00:00:00/1989-05-31T00:00:00',\n",
      " u'title': u'Morphometric Characteristics of Ice and Snow in the Arctic Basin: Aircraft Landing Observations from the Former Soviet Union, 1928-1989'}\n"
     ]
    }
   ],
   "source": [
    "pprint(noaa[0])"
   ]
  },
  {
   "cell_type": "markdown",
   "metadata": {},
   "source": [
    "Or say we wanted just the \"description\" field:"
   ]
  },
  {
   "cell_type": "code",
   "execution_count": 12,
   "metadata": {
    "collapsed": false
   },
   "outputs": [
    {
     "name": "stdout",
     "output_type": "stream",
     "text": [
      "u\"This data set contains sea ice and snow measurements collected during aircraft landings associated with the Soviet Union's historical Sever airborne and North Pole drifting station programs. The High-Latitude Airborne Annual Expeditions Sever (Sever means North) took place in 1937, 1941, 1948-1952, and 1954-1993 (Konstantinov and Grachev, 2000). In Spring 1993, the last (45th) Sever expedition finished long-term activity in the Arctic. Snow and sea ice data were collected, along with meteorological and hydrological measurements (the latter are not part of this data set). Up to 202 landings were accomplished each year.  The data set contains measurements of 23 parameters, including ice thickness and snow depth on the runway and surrounding area; ridge, hummock, and sastrugi dimensions and areal coverage; and snow density. The sea ice thickness data are of particular importance, as ice thickness measurements for the Arctic Basin are scarce. These data are a subset of those used to create the atlas Morphometric Characteristics of Ice and Snow in the Arctic Basin, self-published by Ilya P. Romanov in 1993, and republished by Backbone Publishing Company in 1995. Romanov provided these data to the National Snow and Ice Data Center (NSIDC) in 1994.\"\n"
     ]
    }
   ],
   "source": [
    "pprint(noaa[0]['description'])"
   ]
  },
  {
   "cell_type": "markdown",
   "metadata": {},
   "source": [
    "### Define the database\n",
    "We will want to enter these records into our database. But first, we'll define a specific database for the NOAA records:"
   ]
  },
  {
   "cell_type": "code",
   "execution_count": 13,
   "metadata": {
    "collapsed": true
   },
   "outputs": [],
   "source": [
    "db = conn.earthwindfire"
   ]
  },
  {
   "cell_type": "markdown",
   "metadata": {},
   "source": [
    "### Define the collection\n",
    "Next we define the collection where we'll insert the NOAA metadata records:"
   ]
  },
  {
   "cell_type": "code",
   "execution_count": 14,
   "metadata": {
    "collapsed": true
   },
   "outputs": [],
   "source": [
    "records = db.records"
   ]
  },
  {
   "cell_type": "markdown",
   "metadata": {},
   "source": [
    "### Insert data    \n",
    "Then we loop through each record in the NOAA dataset and insert just the target information for each into the collection:"
   ]
  },
  {
   "cell_type": "code",
   "execution_count": 15,
   "metadata": {
    "collapsed": false
   },
   "outputs": [],
   "source": [
    "def insert(metadata):\n",
    "    for dataset in metadata:\n",
    "        data ={}\n",
    "        data[\"title\"] = dataset[\"title\"]\n",
    "        data[\"description\"] = dataset[\"description\"]\n",
    "        data[\"keywords\"] = dataset[\"keyword\"]\n",
    "        data[\"accessLevel\"] = dataset[\"accessLevel\"]\n",
    "        data[\"lang\"] = dataset[\"language\"]\n",
    "        # choose your own\n",
    "        # choose your own\n",
    "        # choose your own \n",
    "        # choose your own\n",
    "\n",
    "        records.insert_one(data)\n",
    "\n",
    "insert(noaa)"
   ]
  },
  {
   "cell_type": "code",
   "execution_count": 16,
   "metadata": {
    "collapsed": false
   },
   "outputs": [
    {
     "data": {
      "text/plain": [
       "1722"
      ]
     },
     "execution_count": 16,
     "metadata": {},
     "output_type": "execute_result"
    }
   ],
   "source": [
    "records.count()"
   ]
  },
  {
   "cell_type": "markdown",
   "metadata": {},
   "source": [
    "### Querying \n",
    "\n",
    "#### Querying with `.findOne( )`    \n",
    "The find_one() method selects and returns a single document from a collection and returns that document (or None if there are no matches). It is useful when you know there is only one matching document, or are only interested in the first match"
   ]
  },
  {
   "cell_type": "code",
   "execution_count": 17,
   "metadata": {
    "collapsed": false
   },
   "outputs": [
    {
     "data": {
      "text/plain": [
       "{u'_id': ObjectId('56d9a92abe18b11a0849df1f'),\n",
       " u'accessLevel': u'public',\n",
       " u'description': u\"This data set contains sea ice and snow measurements collected during aircraft landings associated with the Soviet Union's historical Sever airborne and North Pole drifting station programs. The High-Latitude Airborne Annual Expeditions Sever (Sever means North) took place in 1937, 1941, 1948-1952, and 1954-1993 (Konstantinov and Grachev, 2000). In Spring 1993, the last (45th) Sever expedition finished long-term activity in the Arctic. Snow and sea ice data were collected, along with meteorological and hydrological measurements (the latter are not part of this data set). Up to 202 landings were accomplished each year.  The data set contains measurements of 23 parameters, including ice thickness and snow depth on the runway and surrounding area; ridge, hummock, and sastrugi dimensions and areal coverage; and snow density. The sea ice thickness data are of particular importance, as ice thickness measurements for the Arctic Basin are scarce. These data are a subset of those used to create the atlas Morphometric Characteristics of Ice and Snow in the Arctic Basin, self-published by Ilya P. Romanov in 1993, and republished by Backbone Publishing Company in 1995. Romanov provided these data to the National Snow and Ice Data Center (NSIDC) in 1994.\",\n",
       " u'keywords': [u'Continent > Europe > Eastern Europe > Russia',\n",
       "  u'Geographic Region > Arctic > Arctic Basin',\n",
       "  u'EARTH SCIENCE > Cryosphere > Sea Ice > Ice Deformation',\n",
       "  u'EARTH SCIENCE > Cryosphere > Sea Ice > Ice Depth/Thickness',\n",
       "  u'EARTH SCIENCE > Cryosphere > Sea Ice > Ice Floes > Length',\n",
       "  u'EARTH SCIENCE > Cryosphere > Sea Ice > Ice Floes > Width',\n",
       "  u'EARTH SCIENCE > Cryosphere > Sea Ice > Ice Roughness > Hummocks',\n",
       "  u'EARTH SCIENCE > Cryosphere > Sea Ice > Sea Ice Elevation > Hummocks',\n",
       "  u'EARTH SCIENCE > Cryosphere > Sea Ice > Snow Depth',\n",
       "  u'EARTH SCIENCE > Cryosphere > Snow/Ice > Snow Density',\n",
       "  u'EARTH SCIENCE > Cryosphere > Snow/Ice > Snow Depth',\n",
       "  u'EARTH SCIENCE > Oceans > Sea Ice > Ice Deformation',\n",
       "  u'EARTH SCIENCE > Oceans > Sea Ice > Ice Depth/Thickness',\n",
       "  u'EARTH SCIENCE > Oceans > Sea Ice > Ice Floes > Length',\n",
       "  u'EARTH SCIENCE > Oceans > Sea Ice > Ice Floes > Width',\n",
       "  u'EARTH SCIENCE > Oceans > Sea Ice > Ice Roughness > Hummocks',\n",
       "  u'EARTH SCIENCE > Oceans > Sea Ice > Sea Ice Elevation',\n",
       "  u'EARTH SCIENCE > Oceans > Sea Ice > Snow Depth',\n",
       "  u'EARTH SCIENCE > Terrestrial Hydrosphere > Snow/Ice > Snow Density',\n",
       "  u'EARTH SCIENCE > Terrestrial Hydrosphere > Snow/Ice > Snow Depth',\n",
       "  u'Aircraft',\n",
       "  u'Arctic Basin',\n",
       "  u'Arctic Sea Ice',\n",
       "  u'g02140',\n",
       "  u'NOAA',\n",
       "  u'North Pole',\n",
       "  u'North Pole drifting station',\n",
       "  u'Sever'],\n",
       " u'lang': [u'en-US'],\n",
       " u'title': u'Morphometric Characteristics of Ice and Snow in the Arctic Basin: Aircraft Landing Observations from the Former Soviet Union, 1928-1989'}"
      ]
     },
     "execution_count": 17,
     "metadata": {},
     "output_type": "execute_result"
    }
   ],
   "source": [
    "records.find_one()"
   ]
  },
  {
   "cell_type": "markdown",
   "metadata": {},
   "source": [
    "#### Querying with `.find( )`\n",
    "To get more than a single document as the result of a query we use the `find()` method. `find()` returns a Cursor instance, which allows us to iterate over all matching documents.\n",
    "\n",
    "```python\n",
    "records.find()\n",
    "```\n",
    "\n",
    "For example, we can iterate over the first 2 documents (there are a lot in the collection and this is just an example) in the records collection"
   ]
  },
  {
   "cell_type": "code",
   "execution_count": 18,
   "metadata": {
    "collapsed": false
   },
   "outputs": [
    {
     "name": "stdout",
     "output_type": "stream",
     "text": [
      "{u'_id': ObjectId('56d9a92abe18b11a0849df1f'),\n",
      " u'accessLevel': u'public',\n",
      " u'description': u\"This data set contains sea ice and snow measurements collected during aircraft landings associated with the Soviet Union's historical Sever airborne and North Pole drifting station programs. The High-Latitude Airborne Annual Expeditions Sever (Sever means North) took place in 1937, 1941, 1948-1952, and 1954-1993 (Konstantinov and Grachev, 2000). In Spring 1993, the last (45th) Sever expedition finished long-term activity in the Arctic. Snow and sea ice data were collected, along with meteorological and hydrological measurements (the latter are not part of this data set). Up to 202 landings were accomplished each year.  The data set contains measurements of 23 parameters, including ice thickness and snow depth on the runway and surrounding area; ridge, hummock, and sastrugi dimensions and areal coverage; and snow density. The sea ice thickness data are of particular importance, as ice thickness measurements for the Arctic Basin are scarce. These data are a subset of those used to create the atlas Morphometric Characteristics of Ice and Snow in the Arctic Basin, self-published by Ilya P. Romanov in 1993, and republished by Backbone Publishing Company in 1995. Romanov provided these data to the National Snow and Ice Data Center (NSIDC) in 1994.\",\n",
      " u'keywords': [u'Continent > Europe > Eastern Europe > Russia',\n",
      "               u'Geographic Region > Arctic > Arctic Basin',\n",
      "               u'EARTH SCIENCE > Cryosphere > Sea Ice > Ice Deformation',\n",
      "               u'EARTH SCIENCE > Cryosphere > Sea Ice > Ice Depth/Thickness',\n",
      "               u'EARTH SCIENCE > Cryosphere > Sea Ice > Ice Floes > Length',\n",
      "               u'EARTH SCIENCE > Cryosphere > Sea Ice > Ice Floes > Width',\n",
      "               u'EARTH SCIENCE > Cryosphere > Sea Ice > Ice Roughness > Hummocks',\n",
      "               u'EARTH SCIENCE > Cryosphere > Sea Ice > Sea Ice Elevation > Hummocks',\n",
      "               u'EARTH SCIENCE > Cryosphere > Sea Ice > Snow Depth',\n",
      "               u'EARTH SCIENCE > Cryosphere > Snow/Ice > Snow Density',\n",
      "               u'EARTH SCIENCE > Cryosphere > Snow/Ice > Snow Depth',\n",
      "               u'EARTH SCIENCE > Oceans > Sea Ice > Ice Deformation',\n",
      "               u'EARTH SCIENCE > Oceans > Sea Ice > Ice Depth/Thickness',\n",
      "               u'EARTH SCIENCE > Oceans > Sea Ice > Ice Floes > Length',\n",
      "               u'EARTH SCIENCE > Oceans > Sea Ice > Ice Floes > Width',\n",
      "               u'EARTH SCIENCE > Oceans > Sea Ice > Ice Roughness > Hummocks',\n",
      "               u'EARTH SCIENCE > Oceans > Sea Ice > Sea Ice Elevation',\n",
      "               u'EARTH SCIENCE > Oceans > Sea Ice > Snow Depth',\n",
      "               u'EARTH SCIENCE > Terrestrial Hydrosphere > Snow/Ice > Snow Density',\n",
      "               u'EARTH SCIENCE > Terrestrial Hydrosphere > Snow/Ice > Snow Depth',\n",
      "               u'Aircraft',\n",
      "               u'Arctic Basin',\n",
      "               u'Arctic Sea Ice',\n",
      "               u'g02140',\n",
      "               u'NOAA',\n",
      "               u'North Pole',\n",
      "               u'North Pole drifting station',\n",
      "               u'Sever'],\n",
      " u'lang': [u'en-US'],\n",
      " u'title': u'Morphometric Characteristics of Ice and Snow in the Arctic Basin: Aircraft Landing Observations from the Former Soviet Union, 1928-1989'}\n",
      "{u'_id': ObjectId('56d9a92abe18b11a0849df20'),\n",
      " u'accessLevel': u'public',\n",
      " u'description': u'This data set was distributed by NSIDC until October, 2003, when it was withdrawn from distribution because it duplicates the NOAA National Climatic Data Center (NCDC) data set DSI-3720. The NCDC data set is revised and updated beyond what was distributed by NSIDC. This archive consists of monthly precipitation measurements from 622 stations located in the Former Soviet Union.',\n",
      " u'keywords': [u'Continent > Europe > Eastern Europe > Russia',\n",
      "               u'EARTH SCIENCE > Atmosphere > Precipitation > Precipitation Amount',\n",
      "               u'EARTH SCIENCE > Atmosphere > Precipitation > Precipitation Rate',\n",
      "               u'EARTH SCIENCE > Atmosphere > Precipitation > Rain',\n",
      "               u'EARTH SCIENCE > Atmosphere > Precipitation > Snow',\n",
      "               u'EARTH SCIENCE > Terrestrial Hydrosphere > Snow/Ice > Snow Cover',\n",
      "               u'EOSDIS > Earth Observing System Data Information System',\n",
      "               u'ESIP > Earth Science Information Partners Program',\n",
      "               u'Asia',\n",
      "               u'Europe',\n",
      "               u'Former Soviet Union',\n",
      "               u'GAUGE BUCKET',\n",
      "               u'GAUGE POST',\n",
      "               u'NIPHER',\n",
      "               u'Precipitation',\n",
      "               u'Rain',\n",
      "               u'Rain Gauge',\n",
      "               u'Russia',\n",
      "               u'Soviet',\n",
      "               u'State Hydrological Institute',\n",
      "               u'Station',\n",
      "               u'Tretiyakov',\n",
      "               u'Ussr'],\n",
      " u'lang': [u'en-US'],\n",
      " u'title': u'Former Soviet Union Monthly Precipitation Archive, 1891-1993'}\n"
     ]
    }
   ],
   "source": [
    "for rec in records.find()[:2]:\n",
    "    pprint(rec)"
   ]
  },
  {
   "cell_type": "markdown",
   "metadata": {},
   "source": [
    "#### Searching \n",
    "MongoDB queries are represented as JSON-like structures just like documents. To build a query, you just need to specify a dictionary with the properties you want the results to match. For example, let's say we were just interested in publically available satellite data from [NESDIS](http://www.nesdis.noaa.gov/).\n",
    "\n",
    "This query will match all documents in the records collection with keywords code \"NESDIS\"."
   ]
  },
  {
   "cell_type": "code",
   "execution_count": 19,
   "metadata": {
    "collapsed": false
   },
   "outputs": [
    {
     "data": {
      "text/plain": [
       "1117"
      ]
     },
     "execution_count": 19,
     "metadata": {},
     "output_type": "execute_result"
    }
   ],
   "source": [
    "records.find({\"keywords\": \"NESDIS\"}).count()"
   ]
  },
  {
   "cell_type": "markdown",
   "metadata": {},
   "source": [
    "1117 is probably more than we want to print out in a Jupyter Notebook...    \n",
    "\n",
    "We can further narrow our search by adding additional fields"
   ]
  },
  {
   "cell_type": "code",
   "execution_count": 20,
   "metadata": {
    "collapsed": false
   },
   "outputs": [
    {
     "data": {
      "text/plain": [
       "2"
      ]
     },
     "execution_count": 20,
     "metadata": {},
     "output_type": "execute_result"
    }
   ],
   "source": [
    "records.find({\"keywords\": \"NESDIS\",\"keywords\": \"Russia\",\"accessLevel\":\"public\"}).count()"
   ]
  },
  {
   "cell_type": "markdown",
   "metadata": {},
   "source": [
    "Since there's only two, let's check them out:"
   ]
  },
  {
   "cell_type": "code",
   "execution_count": 21,
   "metadata": {
    "collapsed": false
   },
   "outputs": [
    {
     "name": "stdout",
     "output_type": "stream",
     "text": [
      "{u'_id': ObjectId('56d9a92abe18b11a0849df20'),\n",
      " u'accessLevel': u'public',\n",
      " u'description': u'This data set was distributed by NSIDC until October, 2003, when it was withdrawn from distribution because it duplicates the NOAA National Climatic Data Center (NCDC) data set DSI-3720. The NCDC data set is revised and updated beyond what was distributed by NSIDC. This archive consists of monthly precipitation measurements from 622 stations located in the Former Soviet Union.',\n",
      " u'keywords': [u'Continent > Europe > Eastern Europe > Russia',\n",
      "               u'EARTH SCIENCE > Atmosphere > Precipitation > Precipitation Amount',\n",
      "               u'EARTH SCIENCE > Atmosphere > Precipitation > Precipitation Rate',\n",
      "               u'EARTH SCIENCE > Atmosphere > Precipitation > Rain',\n",
      "               u'EARTH SCIENCE > Atmosphere > Precipitation > Snow',\n",
      "               u'EARTH SCIENCE > Terrestrial Hydrosphere > Snow/Ice > Snow Cover',\n",
      "               u'EOSDIS > Earth Observing System Data Information System',\n",
      "               u'ESIP > Earth Science Information Partners Program',\n",
      "               u'Asia',\n",
      "               u'Europe',\n",
      "               u'Former Soviet Union',\n",
      "               u'GAUGE BUCKET',\n",
      "               u'GAUGE POST',\n",
      "               u'NIPHER',\n",
      "               u'Precipitation',\n",
      "               u'Rain',\n",
      "               u'Rain Gauge',\n",
      "               u'Russia',\n",
      "               u'Soviet',\n",
      "               u'State Hydrological Institute',\n",
      "               u'Station',\n",
      "               u'Tretiyakov',\n",
      "               u'Ussr'],\n",
      " u'lang': [u'en-US'],\n",
      " u'title': u'Former Soviet Union Monthly Precipitation Archive, 1891-1993'}\n",
      "{u'_id': ObjectId('56d9a92abe18b11a0849df34'),\n",
      " u'accessLevel': u'public',\n",
      " u'description': u'This data set consists of river ice thickness measurements, and beginning and ending dates for river freeze-up events from fifty stations in northern Russia. The data set includes values from 1917 through 1992, however the record length varies for each station. The longest station record covers the period 1917 through 1988 (the station table shows the beginning and end years for measurements at each station). Data were obtained through the U.S.-Russia Working Group VIII of the U.S.-Russia Bilateral Agreement on the Protection of Environmental and Natural Resources.',\n",
      " u'keywords': [u'Continent > Europe > Eastern Europe > Russia',\n",
      "               u'EARTH SCIENCE > Cryosphere > Snow/Ice > Freeze/Thaw',\n",
      "               u'EARTH SCIENCE > Cryosphere > Snow/Ice > River Ice > Duration',\n",
      "               u'EARTH SCIENCE > Cryosphere > Snow/Ice > River Ice > Freeze-Up Events',\n",
      "               u'EARTH SCIENCE > Cryosphere > Snow/Ice > River Ice > Thickness',\n",
      "               u'EARTH SCIENCE > Terrestrial Hydrosphere > Snow/Ice > River Ice > Duration',\n",
      "               u'EARTH SCIENCE > Terrestrial Hydrosphere > Snow/Ice > River Ice > Freeze-Up Events',\n",
      "               u'EARTH SCIENCE > Terrestrial Hydrosphere > Snow/Ice > River Ice > Thickness',\n",
      "               u'Freeze-up',\n",
      "               u'Freeze-up Events',\n",
      "               u'G01187',\n",
      "               u'Ice Duration',\n",
      "               u'Ice Thickness',\n",
      "               u'NOAA',\n",
      "               u'NSIDC',\n",
      "               u'River Ice',\n",
      "               u'Russia',\n",
      "               u'Russian Rivers'],\n",
      " u'lang': [u'en-US'],\n",
      " u'title': u'Russian River Ice Thickness and Duration'}\n"
     ]
    }
   ],
   "source": [
    "for r in records.find({\"keywords\": \"NESDIS\",\"keywords\": \"Russia\",\"accessLevel\":\"public\"}):\n",
    "    pprint(r)"
   ]
  },
  {
   "cell_type": "markdown",
   "metadata": {},
   "source": [
    "### If you already know SQL...\n",
    "\n",
    "The following table provides an overview of common SQL aggregation terms, functions, and concepts and the corresponding MongoDB aggregation operators:    \n",
    "    \n",
    "| SQL Terms, Functions, and Concepts  | MongoDB Aggregation Operators  |\n",
    "| ----------------------------------  |:-------------------------------|\n",
    "| WHERE                               | \\$match                        |\n",
    "| GROUP BY                            | \\$group                        |\n",
    "| HAVING                              | \\$match                        |\n",
    "| SELECT\t                          | \\$project                      |\n",
    "| ORDER BY\t                          | \\$sort                         |\n",
    "| LIMIT                               | \\$limit                        |\n",
    "| SUM()   \t                          | \\$sum                          |\n",
    "| COUNT()\t                          | \\$sum                          |\n",
    "| join\t                              | \\$lookup                       |"
   ]
  },
  {
   "cell_type": "markdown",
   "metadata": {},
   "source": [
    "### Full text search with a text index\n",
    "One of the things that makes MongoDB special is that it enables us to create search indexes. Indexes provide high performance read operations for frequently used queries.\n",
    "\n",
    "In particular, a __text index__ will enable us to search for string content in a collection. _Keep in mind that a collection can have at most one text index._ \n",
    "\n",
    "We will create a text index on the description field so that we can search inside our NOAA records text:"
   ]
  },
  {
   "cell_type": "code",
   "execution_count": 23,
   "metadata": {
    "collapsed": false
   },
   "outputs": [
    {
     "data": {
      "text/plain": [
       "u'description_text'"
      ]
     },
     "execution_count": 23,
     "metadata": {},
     "output_type": "execute_result"
    }
   ],
   "source": [
    "db.records.create_index([('description', 'text')])"
   ]
  },
  {
   "cell_type": "markdown",
   "metadata": {},
   "source": [
    "To test our newly created text index on the description field, we will search documents using the `$text` operator. Let's start by looking for all the documents that have the word 'precipitation' in their description field. "
   ]
  },
  {
   "cell_type": "code",
   "execution_count": 25,
   "metadata": {
    "collapsed": false
   },
   "outputs": [
    {
     "name": "stdout",
     "output_type": "stream",
     "text": [
      "{u'lang': [u'en-US'], u'_id': ObjectId('56d9a92abe18b11a0849df43'), u'description': u\"Integrated Surface Data (ISD) is digital data set DSI-3505, archived at the National Climatic Data Center (NCDC). The ISD database is composed of worldwide surface weather observations from over 20,000 stations, collected and stored from sources such as the Automated Weather Network (AWN), the Global Telecommunications System (GTS), the Automated Surface Observing System (ASOS), and data keyed from paper forms. Most digital observations are decoded either at operational centers and forwarded to the Federal Climate Complex (FCC) in Asheville, NC, or decoded at the FCC. The US Air Force Combat Climatology Center (AFCCC), the National Climatic Data Center (NCDC), and the US Navy's Fleet Numerical Meteorological and Oceanographical Command Detachment (FNMOD), make up the FCC in Asheville. Each agency is responsible for data ingest, quality control, and customer support for surface climatological data. All data are now stored in a single ASCII format. Numerous DOD and civilian customers use this database in climatological applications. ISD refers to the digital database and format in which hourly and synoptic (3-hourly) weather observations are stored. The format conforms to Federal Information Processing Standards (FIPS). The database includes data originating from various codes such as synoptic, airways, METAR (Meteorological Routine Weather Report), and SMARS (Supplementary Marine Reporting Station), as well as observations from automatic weather stations. The data are sorted by station-year-month-day-hour-minute. Parameters included are: air quality, atmospheric pressure, atmospheric temperature/dew point, atmospheric winds, clouds, precipitation, ocean waves, tides and more. ISD Version 1 was released in 2001, with Version 2 (additional quality control applied) in 2003. Since 2003, there have been continued incremental improvements in automated quality control software.\", u'title': u'Integrated Surface Global Hourly Data', u'keywords': [u'Earth Science > Atmosphere > Air Quality > Smog', u'Earth Science > Atmosphere > Air Quality > Tropospheric Ozone', u'Earth Science > Atmosphere > Air Quality > Visibility', u'Earth Science > Atmosphere > Altitude > Geopotential Height', u'Earth Science > Atmosphere > Atmospheric Chemistry > Oxygen Compounds > Ozone', u'Earth Science > Atmosphere > Atmospheric Electricity > Lightning', u'Earth Science > Atmosphere > Atmospheric Phenomena > Cyclones', u'Earth Science > Atmosphere > Atmospheric Phenomena > Drought', u'Earth Science > Atmosphere > Atmospheric Phenomena > Fog', u'Earth Science > Atmosphere > Atmospheric Phenomena > Freeze', u'Earth Science > Atmosphere > Atmospheric Phenomena > Frost', u'Earth Science > Atmosphere > Atmospheric Phenomena > Hurricanes', u'Earth Science > Atmosphere > Atmospheric Phenomena > Lightning', u'Earth Science > Atmosphere > Atmospheric Phenomena > Storms', u'Earth Science > Atmosphere > Atmospheric Phenomena > Tornadoes', u'Earth Science > Atmosphere > Atmospheric Phenomena > Typhoons', u'Earth Science > Atmosphere > Atmospheric Pressure > Anticyclones/Cyclones', u'Earth Science > Atmosphere > Atmospheric Pressure > Atmospheric Pressure Measurements', u'Earth Science > Atmosphere > Atmospheric Pressure > Pressure Tendency', u'Earth Science > Atmosphere > Atmospheric Pressure > Pressure Thickness', u'Earth Science > Atmosphere > Atmospheric Pressure > Sea Level Pressure', u'Earth Science > Atmosphere > Atmospheric Pressure > Surface Pressure', u'Earth Science > Atmosphere > Atmospheric Radiation > Sunshine', u'Earth Science > Atmosphere > Atmospheric Temperature > Air Temperature', u'Earth Science > Atmosphere > Atmospheric Temperature > Atmospheric Stability', u'Earth Science > Atmosphere > Atmospheric Temperature > Maximum/Minimum Temperature', u'Earth Science > Atmosphere > Atmospheric Temperature > Surface Air Temperature', u'Earth Science > Atmosphere > Atmospheric Temperature > Temperature Tendency', u'Earth Science > Atmosphere > Atmospheric Water Vapor > Dew Point Temperature', u'Earth Science > Atmosphere > Atmospheric Water Vapor > Evaporation', u'Earth Science > Atmosphere > Atmospheric Water Vapor > Humidity', u'Earth Science > Atmosphere > Atmospheric Water Vapor > Water Vapor Tendency', u'Earth Science > Atmosphere > Atmospheric Winds > Convection', u'Earth Science > Atmosphere > Atmospheric Winds > Convergence/Divergence', u'Earth Science > Atmosphere > Atmospheric Winds > Surface Winds', u'Earth Science > Atmosphere > Atmospheric Winds > Turbulence', u'Earth Science > Atmosphere > Atmospheric Winds > Upper Level Winds', u'Earth Science > Atmosphere > Atmospheric Winds > Vertical Wind Motion', u'Earth Science > Atmosphere > Atmospheric Winds > Vorticity', u'Earth Science > Atmosphere > Atmospheric Winds > Wind Chill', u'Earth Science > Atmosphere > Atmospheric Winds > Wind Shear', u'Earth Science > Atmosphere > Atmospheric Winds > Wind Tendency', u'Earth Science > Atmosphere > Clouds > Cloud Properties > Cloud Amount/Frequency', u'Earth Science > Atmosphere > Clouds > Cloud Properties > Cloud Ceiling', u'Earth Science > Atmosphere > Clouds > Cloud Properties > Cloud Height', u'Earth Science > Atmosphere > Clouds > Cloud Properties > Cloud Types', u'Earth Science > Atmosphere > Clouds > Cloud Properties > Cloud Vertical Distribution', u'Earth Science > Atmosphere > Precipitation > Freezing Rain', u'Earth Science > Atmosphere > Precipitation > Hail', u'Earth Science > Atmosphere > Precipitation > Precipitation Amount', u'Earth Science > Atmosphere > Precipitation > Precipitation Rate', u'Earth Science > Atmosphere > Precipitation > Rain', u'Earth Science > Atmosphere > Precipitation > Sleet', u'Earth Science > Atmosphere > Precipitation > Snow', u'EARTH SCIENCE > CRYOSPHERE > SEA ICE > SNOW DEPTH', u'Earth Science > Human Dimensions > Natural Hazards > Meteorological Hazards', u'Earth Science > Terrestrial Hydrosphere > Snow/Ice > Snow Depth', u'Earth Science > Terrestrial Hydrosphere > Surface Water > Floods', u'Earth Science > Terrestrial Hydrosphere > Surface Water > Rivers/Streams', u'Earth Science > Oceans > Ocean Waves > Wave Height', u'Earth Science > Oceans > Ocean Waves > Wind Waves', u'Earth Science > Oceans > Ocean Winds > Surface Winds', u'Earth Science > Oceans > Tides > Storm Surge', u'Earth Science > Oceans > Tides > Tidal Height', u'Geographic Region > Global Land', u'Vertical Location > Troposphere', u'Vertical Location > Land Surface', u'Vertical Location > Stratosphere', u'Vertical Location > Sea Surface', u'DOC/NOAA/NESDIS/NCDC > National Climatic Data Center', u'NESDIS', u'NOAA', u'U.S. Department of Commerce'], u'accessLevel': u'public'}\n",
      "{u'lang': [u'en-US'], u'_id': ObjectId('56d9a92bbe18b11a0849e1c2'), u'description': u\"In situ, meteorological, navigational, physical and profile oceanographic data were collected, including AIR TEMPERATURE, BAROMETRIC PRESSURE, CURRENT DIRECTION, CURRENT SPEED, CURRENT SPEED - EAST/WEST COMPONENT (U), CURRENT SPEED - NORTH/SOUTH COMPONENT (V), CURRENT SPEED - UP/DOWN COMPONENT (W), DEPTH - OBSERVATION, HYDROSTATIC PRESSURE, INCOMING SOLAR RADIATION, LATITUDE, LONGITUDE, PRECIPITATION RATE, RELATIVE HUMIDITY, SALINITY, SEA SURFACE TEMPERATURE, SIGMA-THETA, WATER TEMPERATURE, WIND DIRECTION and WIND SPEED from Moored Buoy at the TAO/TRITON Site 0N 165E (T0N165E) using GPS, anemometer, conductivity sensor, current meter, meteorological sensors, pressure sensors, pyranometer, radiometer and thermistor from 1998-01-08 to 2015-08-06. These data were provided to one of the OceanSITES Data Assembly Centers (DAC). The DAC formatted this information into the OceanSITES file format and passed it on to the Global Data Assembly Centers (GDAC).\\n\\nOceanSITES is a worldwide system of long-term, open-ocean reference stations measuring dozens of variables and monitoring the full depth of the ocean from air-sea interactions down to the seafloor. It is a network of stations or observatories measuring many aspects of the ocean's surface and water column using, where possible, automated systems with advanced sensors and telecommunications systems, yielding high time resolution, often in real-time, while building a long record.\", u'title': u'In situ, meteorological, navigational, physical and profile data collected by US DOC; NOAA; NWS; National Data Buoy Center at OceanSITES site T0N165E from 1998-01-08 to 2015-08-06 (NCEI Accession 0130056)', u'keywords': [u'DOC/NOAA/NESDIS/NODC > National Oceanographic Data Center', u'NESDIS', u'NOAA', u'U.S. Department of Commerce', u'DOC/NOAA/NESDIS/NCEI > National Centers for Environmental Information', u'NESDIS', u'NOAA', u'U.S. Department of Commerce', u'oceanography', u'EARTH SCIENCE > ATMOSPHERE > ATMOSPHERIC PRESSURE > SEA LEVEL PRESSURE', u'EARTH SCIENCE > ATMOSPHERE > ATMOSPHERIC RADIATION > LONGWAVE RADIATION', u'EARTH SCIENCE > ATMOSPHERE > ATMOSPHERIC RADIATION > SHORTWAVE RADIATION', u'EARTH SCIENCE > ATMOSPHERE > ATMOSPHERIC TEMPERATURE > AIR TEMPERATURE', u'EARTH SCIENCE > ATMOSPHERE > ATMOSPHERIC WATER VAPOR > HUMIDITY', u'EARTH SCIENCE > ATMOSPHERE > ATMOSPHERIC WINDS > SURFACE WINDS', u'WIND SPEED/WIND DIRECTION', u'EARTH SCIENCE > ATMOSPHERE > PRECIPITATION > PRECIPITATION AMOUNT', u'PRECIPITATION RATE', u'EARTH SCIENCE > CLIMATE INDICATORS > ATMOSPHERIC/OCEAN INDICATORS > TELECONNECTIONS > EL NINO SOUTHERN OSCILLATION (ENSO)', u'ENSO', u'EARTH SCIENCE > OCEANS > OCEAN CIRCULATION > BUOY POSITION', u'EARTH SCIENCE > OCEANS > OCEAN CIRCULATION > OCEAN CURRENTS', u'EARTH SCIENCE > OCEANS > OCEAN HEAT BUDGET > LONGWAVE RADIATION', u'EARTH SCIENCE > OCEANS > OCEAN HEAT BUDGET > SHORTWAVE RADIATION', u'EARTH SCIENCE > OCEANS > OCEAN PRESSURE > SEA LEVEL PRESSURE', u'EARTH SCIENCE > OCEANS > OCEAN PRESSURE > WATER PRESSURE', u'EARTH SCIENCE > OCEANS > OCEAN TEMPERATURE > WATER TEMPERATURE', u'SEA SURFACE TEMPERATURE', u'EARTH SCIENCE > OCEANS > OCEAN WINDS > SURFACE WINDS', u'EARTH SCIENCE > OCEANS > SALINITY/DENSITY > SALINITY', u'DENSITY', u'air_pressure_at_sea_level', u'air_temperature', u'depth', u'direction_of_sea_water_velocity', u'eastward_sea_water_velocity', u'eastward_wind', u'height', u'latitude', u'longitude', u'northward_sea_water_velocity', u'northward_wind', u'rainfall_rate', u'relative_humidity', u'sea_surface_temperature', u'sea_water_practical_salinity', u'sea_water_pressure', u'sea_water_sigma_theta', u'sea_water_speed', u'sea_water_temperature', u'surface_downwelling_longwave_flux_in_air', u'surface_downwelling_shortwave_flux_in_air', u'time', u'upward_sea_water_velocity', u'wind_speed', u'wind_to_direction', u'AIRT', u'AIRT_DM', u'AIRT_QC', u'ATMS', u'ATMS_DM', u'ATMS_QC', u'CDIR', u'CSPD', u'CSPD_DM', u'CSPD_QC', u'DEPTH', u'HEIGHT', u'HEIGHT_WIND', u'LATITUDE', u'LONGITUDE', u'LW', u'LW_DM', u'LW_QC', u'PRES', u'PRES_DM', u'PRES_QC', u'PSAL', u'PSAL_DM', u'PSAL_QC', u'RAIN', u'RAIN_DM', u'RAIN_QC', u'RELH', u'RELH_DM', u'RELH_QC', u'SIGT', u'SIGT_DM', u'SIGT_QC', u'SST', u'SST_DM', u'SST_QC', u'SW', u'SW_DM', u'SW_QC', u'TEMP', u'TEMP_DM', u'TEMP_QC', u'TIME', u'TIME_BNDS', u'UCUR', u'UCUR_DM', u'UCUR_QC', u'UWND', u'VCUR', u'VWND', u'WCUR', u'WDIR', u'WDIR_DM', u'WDIR_QC', u'WSPD', u'WSPD_DM', u'WSPD_QC'], u'accessLevel': u'public'}\n",
      "{u'lang': [u'en-US'], u'_id': ObjectId('56d9a92bbe18b11a0849e201'), u'description': u\"In situ, meteorological, navigational, physical and profile oceanographic data were collected, including AIR TEMPERATURE, BAROMETRIC PRESSURE, CURRENT DIRECTION, CURRENT SPEED, CURRENT SPEED - EAST/WEST COMPONENT (U), CURRENT SPEED - NORTH/SOUTH COMPONENT (V), CURRENT SPEED - UP/DOWN COMPONENT (W), DEPTH - OBSERVATION, HYDROSTATIC PRESSURE, INCOMING SOLAR RADIATION, LATITUDE, LONGITUDE, PRECIPITATION RATE, RELATIVE HUMIDITY, SALINITY, SEA SURFACE TEMPERATURE, SIGMA-THETA, WATER TEMPERATURE, WIND DIRECTION and WIND SPEED from Moored Buoy at the TAO/TRITON Site 0N 110W (T0N110W) using GPS, anemometer, conductivity sensor, current meter, meteorological sensors, pressure sensors, pyranometer, radiometer and thermistor from 1998-10-27 to 2015-08-06. These data were provided to one of the OceanSITES Data Assembly Centers (DAC). The DAC formatted this information into the OceanSITES file format and passed it on to the Global Data Assembly Centers (GDAC).\\n\\nOceanSITES is a worldwide system of long-term, open-ocean reference stations measuring dozens of variables and monitoring the full depth of the ocean from air-sea interactions down to the seafloor. It is a network of stations or observatories measuring many aspects of the ocean's surface and water column using, where possible, automated systems with advanced sensors and telecommunications systems, yielding high time resolution, often in real-time, while building a long record.\", u'title': u'In situ, meteorological, navigational, physical and profile data collected by US DOC; NOAA; NWS; National Data Buoy Center at OceanSITES site T0N110W from 1998-10-27 to 2015-08-06 (NCEI Accession 0130052)', u'keywords': [u'DOC/NOAA/NESDIS/NODC > National Oceanographic Data Center', u'NESDIS', u'NOAA', u'U.S. Department of Commerce', u'DOC/NOAA/NESDIS/NCEI > National Centers for Environmental Information', u'NESDIS', u'NOAA', u'U.S. Department of Commerce', u'oceanography', u'EARTH SCIENCE > ATMOSPHERE > ATMOSPHERIC PRESSURE > SEA LEVEL PRESSURE', u'EARTH SCIENCE > ATMOSPHERE > ATMOSPHERIC RADIATION > LONGWAVE RADIATION', u'EARTH SCIENCE > ATMOSPHERE > ATMOSPHERIC RADIATION > SHORTWAVE RADIATION', u'EARTH SCIENCE > ATMOSPHERE > ATMOSPHERIC TEMPERATURE > AIR TEMPERATURE', u'EARTH SCIENCE > ATMOSPHERE > ATMOSPHERIC WATER VAPOR > HUMIDITY', u'EARTH SCIENCE > ATMOSPHERE > ATMOSPHERIC WINDS > SURFACE WINDS', u'WIND SPEED/WIND DIRECTION', u'EARTH SCIENCE > ATMOSPHERE > PRECIPITATION > PRECIPITATION AMOUNT', u'PRECIPITATION RATE', u'EARTH SCIENCE > CLIMATE INDICATORS > ATMOSPHERIC/OCEAN INDICATORS > TELECONNECTIONS > EL NINO SOUTHERN OSCILLATION (ENSO)', u'ENSO', u'EARTH SCIENCE > OCEANS > OCEAN CIRCULATION > BUOY POSITION', u'EARTH SCIENCE > OCEANS > OCEAN CIRCULATION > OCEAN CURRENTS', u'EARTH SCIENCE > OCEANS > OCEAN HEAT BUDGET > LONGWAVE RADIATION', u'EARTH SCIENCE > OCEANS > OCEAN HEAT BUDGET > SHORTWAVE RADIATION', u'EARTH SCIENCE > OCEANS > OCEAN PRESSURE > SEA LEVEL PRESSURE', u'EARTH SCIENCE > OCEANS > OCEAN PRESSURE > WATER PRESSURE', u'EARTH SCIENCE > OCEANS > OCEAN TEMPERATURE > WATER TEMPERATURE', u'SEA SURFACE TEMPERATURE', u'EARTH SCIENCE > OCEANS > OCEAN WINDS > SURFACE WINDS', u'EARTH SCIENCE > OCEANS > SALINITY/DENSITY > SALINITY', u'DENSITY', u'air_pressure_at_sea_level', u'air_temperature', u'depth', u'direction_of_sea_water_velocity', u'eastward_sea_water_velocity', u'eastward_wind', u'height', u'latitude', u'longitude', u'northward_sea_water_velocity', u'northward_wind', u'rainfall_rate', u'relative_humidity', u'sea_surface_temperature', u'sea_water_practical_salinity', u'sea_water_pressure', u'sea_water_sigma_theta', u'sea_water_speed', u'sea_water_temperature', u'surface_downwelling_longwave_flux_in_air', u'surface_downwelling_shortwave_flux_in_air', u'time', u'upward_sea_water_velocity', u'wind_speed', u'wind_to_direction', u'AIRT', u'AIRT_DM', u'AIRT_QC', u'ATMS', u'ATMS_DM', u'ATMS_QC', u'CDIR', u'CSPD', u'CSPD_DM', u'CSPD_QC', u'DEPTH', u'HEIGHT', u'HEIGHT_WIND', u'LATITUDE', u'LONGITUDE', u'LW', u'LW_DM', u'LW_QC', u'PRES', u'PRES_DM', u'PRES_QC', u'PSAL', u'PSAL_DM', u'PSAL_QC', u'RAIN', u'RAIN_DM', u'RAIN_QC', u'RELH', u'RELH_DM', u'RELH_QC', u'SIGT', u'SIGT_DM', u'SIGT_QC', u'SST', u'SST_DM', u'SST_QC', u'SW', u'SW_DM', u'SW_QC', u'TEMP', u'TEMP_DM', u'TEMP_QC', u'TIME', u'TIME_BNDS', u'UCUR', u'UCUR_DM', u'UCUR_QC', u'UWND', u'VCUR', u'VWND', u'WCUR', u'WDIR', u'WDIR_DM', u'WDIR_QC', u'WSPD', u'WSPD_DM', u'WSPD_QC'], u'accessLevel': u'public'}\n",
      "{u'lang': [u'en-US'], u'_id': ObjectId('56d9a92bbe18b11a0849e3d8'), u'description': u\"In situ, meteorological, navigational, physical and profile oceanographic data were collected, including AIR TEMPERATURE, BAROMETRIC PRESSURE, CURRENT DIRECTION, CURRENT SPEED, CURRENT SPEED - EAST/WEST COMPONENT (U), CURRENT SPEED - NORTH/SOUTH COMPONENT (V), DEPTH - OBSERVATION, DYNAMIC HEIGHT, INCOMING SOLAR RADIATION, LATITUDE, LONGITUDE, PRECIPITATION RATE, RELATIVE HUMIDITY, SALINITY, SIGMA-THETA, WATER TEMPERATURE, WIND DIRECTION and WIND SPEED from Moored Buoy at the Pilot Research Moored Array in the Tropical Atlantic (PIRATA) at 12N 23W (P12N23W) using ADCP, CTD - moored CTD, anemometer, barometers, meteorological sensors, pyranometer and thermistor from 2006-06-08 to 2013-02-27. These data were provided to one of the OceanSITES Data Assembly Centers (DAC). The DAC formatted this information into the OceanSITES file format and passed it on to the Global Data Assembly Centers (GDAC).\\n\\nOceanSITES is a worldwide system of long-term, open-ocean reference stations measuring dozens of variables and monitoring the full depth of the ocean from air-sea interactions down to the seafloor. It is a network of stations or observatories measuring many aspects of the ocean's surface and water column using, where possible, automated systems with advanced sensors and telecommunications systems, yielding high time resolution, often in real-time, while building a long record.\", u'title': u'In situ, meteorological, navigational, physical and profile data collected by US DOC; NOAA; OAR; Pacific Marine Environmental Laboratory at OceanSITES site P12N23W from 2006-06-08 to 2013-02-27 (NCEI Accession 0130047)', u'keywords': [u'DOC/NOAA/NESDIS/NODC > National Oceanographic Data Center', u'NESDIS', u'NOAA', u'U.S. Department of Commerce', u'DOC/NOAA/NESDIS/NCEI > National Centers for Environmental Information', u'NESDIS', u'NOAA', u'U.S. Department of Commerce', u'oceanography', u'air_pressure_at_sea_level', u'air_temperature', u'depth', u'direction_of_sea_water_velocity', u'dynamic_height', u'eastward_sea_water_velocity', u'eastward_wind', u'heat_content', u'height', u'isotherm_depth', u'latitude', u'longitude', u'northward_sea_water_velocity', u'northward_wind', u'rainfall_rate', u'relative_humidity', u'sea_water_salinity', u'sea_water_sigma_theta', u'sea_water_speed', u'sea_water_temperature', u'surface_downwelling_longwave_flux_in_air', u'surface_downwelling_shortwave_flux_in_air', u'time', u'wind_speed', u'wind_to_direction', u'AIRT', u'AIRT_DM', u'AIRT_QC', u'ATMS', u'ATMS_DM', u'ATMS_QC', u'CDIR', u'CDIR_DM', u'CDIR_QC', u'CSPD', u'CSPD_DM', u'CSPD_QC', u'DEN', u'DEN_DM', u'DEN_QC', u'DEPCUR', u'DEPDEN', u'DEPPSAL', u'DEPTH', u'DYNHT', u'HEAT', u'HEIGHTAIRT', u'HEIGHTATMS', u'HEIGHTLW', u'HEIGHTRAIN', u'HEIGHTRELH', u'HEIGHTSW', u'HEIGHTWIND', u'HEIGHTXY', u'ISO', u'LATITUDE', u'LONGITUDE', u'LW', u'LW_DM', u'LW_QC', u'PSAL', u'PSAL_DM', u'PSAL_QC', u'RAIN', u'RAIN_DM', u'RAIN_QC', u'RELH', u'RELH_DM', u'RELH_QC', u'SW', u'SW_DM', u'SW_QC', u'TEMP', u'TEMP_DM', u'TEMP_QC', u'TIME', u'UCUR', u'UWND', u'VCUR', u'VWND', u'WDIR', u'WDIR_DM', u'WDIR_QC', u'WSPD', u'WSPD_DM', u'WSPD_QC', u'XPOS', u'YPOS'], u'accessLevel': u'public'}\n",
      "{u'lang': [u'en-US'], u'_id': ObjectId('56d9a92bbe18b11a0849e1f0'), u'description': u\"In situ, meteorological, navigational, physical and profile oceanographic data were collected, including AIR TEMPERATURE, CURRENT DIRECTION, CURRENT SPEED, CURRENT SPEED - EAST/WEST COMPONENT (U), CURRENT SPEED - NORTH/SOUTH COMPONENT (V), DEPTH - OBSERVATION, HYDROSTATIC PRESSURE, INCOMING SOLAR RADIATION, LATITUDE, LONGITUDE, PRECIPITATION RATE, RELATIVE HUMIDITY, SALINITY, SEA SURFACE TEMPERATURE, SIGMA-THETA, WATER TEMPERATURE, WIND DIRECTION and WIND SPEED from Moored Buoy at the TAO/TRITON Site 0N 125W (T0N125W) using GPS, anemometer, conductivity sensor, current meter, meteorological sensors, pressure sensors, pyranometer and thermistor from 1996-06-24 to 2015-08-06. These data were provided to one of the OceanSITES Data Assembly Centers (DAC). The DAC formatted this information into the OceanSITES file format and passed it on to the Global Data Assembly Centers (GDAC).\\n\\nOceanSITES is a worldwide system of long-term, open-ocean reference stations measuring dozens of variables and monitoring the full depth of the ocean from air-sea interactions down to the seafloor. It is a network of stations or observatories measuring many aspects of the ocean's surface and water column using, where possible, automated systems with advanced sensors and telecommunications systems, yielding high time resolution, often in real-time, while building a long record.\", u'title': u'In situ, meteorological, navigational, physical and profile data collected by US DOC; NOAA; NWS; National Data Buoy Center at OceanSITES site T0N125W from 1996-06-24 to 2015-08-06 (NCEI Accession 0130053)', u'keywords': [u'DOC/NOAA/NESDIS/NODC > National Oceanographic Data Center', u'NESDIS', u'NOAA', u'U.S. Department of Commerce', u'DOC/NOAA/NESDIS/NCEI > National Centers for Environmental Information', u'NESDIS', u'NOAA', u'U.S. Department of Commerce', u'oceanography', u'EARTH SCIENCE > ATMOSPHERE > ATMOSPHERIC RADIATION > SHORTWAVE RADIATION', u'EARTH SCIENCE > ATMOSPHERE > ATMOSPHERIC TEMPERATURE > AIR TEMPERATURE', u'EARTH SCIENCE > ATMOSPHERE > ATMOSPHERIC WATER VAPOR > HUMIDITY', u'EARTH SCIENCE > ATMOSPHERE > ATMOSPHERIC WINDS > SURFACE WINDS', u'WIND SPEED/WIND DIRECTION', u'EARTH SCIENCE > ATMOSPHERE > PRECIPITATION > PRECIPITATION AMOUNT', u'PRECIPITATION RATE', u'EARTH SCIENCE > CLIMATE INDICATORS > ATMOSPHERIC/OCEAN INDICATORS > TELECONNECTIONS > EL NINO SOUTHERN OSCILLATION (ENSO)', u'ENSO', u'EARTH SCIENCE > OCEANS > OCEAN CIRCULATION > BUOY POSITION', u'EARTH SCIENCE > OCEANS > OCEAN CIRCULATION > OCEAN CURRENTS', u'EARTH SCIENCE > OCEANS > OCEAN HEAT BUDGET > SHORTWAVE RADIATION', u'EARTH SCIENCE > OCEANS > OCEAN PRESSURE > WATER PRESSURE', u'EARTH SCIENCE > OCEANS > OCEAN TEMPERATURE > WATER TEMPERATURE', u'SEA SURFACE TEMPERATURE', u'EARTH SCIENCE > OCEANS > OCEAN WINDS > SURFACE WINDS', u'EARTH SCIENCE > OCEANS > SALINITY/DENSITY > SALINITY', u'DENSITY', u'air_temperature', u'depth', u'direction_of_sea_water_velocity', u'eastward_sea_water_velocity', u'eastward_wind', u'height', u'latitude', u'longitude', u'northward_sea_water_velocity', u'northward_wind', u'rainfall_rate', u'relative_humidity', u'sea_surface_temperature', u'sea_water_practical_salinity', u'sea_water_pressure', u'sea_water_sigma_theta', u'sea_water_speed', u'sea_water_temperature', u'surface_downwelling_shortwave_flux_in_air', u'time', u'wind_speed', u'wind_to_direction', u'AIRT', u'AIRT_DM', u'AIRT_QC', u'CDIR', u'CSPD', u'CSPD_DM', u'CSPD_QC', u'DEPTH', u'HEIGHT', u'HEIGHT_WIND', u'LATITUDE', u'LONGITUDE', u'PRES', u'PRES_DM', u'PRES_QC', u'PSAL', u'PSAL_DM', u'PSAL_QC', u'RAIN', u'RAIN_DM', u'RAIN_QC', u'RELH', u'RELH_DM', u'RELH_QC', u'SIGT', u'SIGT_DM', u'SIGT_QC', u'SST', u'SST_DM', u'SST_QC', u'SW', u'SW_DM', u'SW_QC', u'TEMP', u'TEMP_DM', u'TEMP_QC', u'TIME', u'TIME_BNDS', u'UCUR', u'UCUR_DM', u'UCUR_QC', u'UWND', u'VCUR', u'VWND', u'WDIR', u'WDIR_DM', u'WDIR_QC', u'WSPD', u'WSPD_DM', u'WSPD_QC'], u'accessLevel': u'public'}\n",
      "{u'lang': [u'en-US'], u'_id': ObjectId('56d9a92abe18b11a0849e144'), u'description': u'Monthly global soil moisture, runoff, and evaporation data sets produced by the Leaky Bucket model at 0.5? ? 0.5? resolution for the period from 1948 to the present. The land model is a one?layer ?bucket? water balance model, while the driving input fields are Climate Prediction Center monthly global precipitation over land, which uses over 17,000 gauges worldwide, and monthly global temperature from GHCN-CAMS (Fan and Van den Dool 2008). The output consists of global monthly soil moisture, evaporation, and runoff, starting from January 1948. A distinguishing feature of this data set is that all fields are updated monthly, which greatly enhances utility for near real time purposes. Data validation shows that the land model does well; both the simulated annual cycle and interannual variability of soil moisture are reasonably good against the limited observations in different regions. Refer to these papers: Fan, Y. and H. van den Dool (2004), Climate Prediction Center global monthly soil moisture data set at 0.5? resolution for 1948 to present, J. Geophys. Res., 109, D10102, doi:10.1029/2003JD004345. Fan, Y. and H. van den Dool (2008), A global monthly land surface air temperature analysis for 1948?present, J. Geophys. Res., 113, D01103, doi:10.1029/2007JD008470.', u'title': u'Climate Prediction Center (CPC) Global Monthly Leaky Bucket Soil Moisture Analysis', u'keywords': [u'Atmosphere > Precipitation > Precipitation Amount', u'Agriculture > Soils > Soil Moisture/Water Content', u'Terrestrial Hydrosphere > Surface Water > Runoff', u'global soil moisture data', u'Leaky Bucket model output', u'soil moisture flood monitoring data', u'drought and flood prediction', u'global soil moisture gridded data', u'global soil moisture GIS data', u'NOAA soil moisture data', u'Geographic Region > Global', u'Vertical Location > Boundary layer', u'climatologyMeteorologyAtmosphere', u'Atmosphere > Atmospheric Water Vapor > Evaporation'], u'accessLevel': u'public'}\n",
      "{u'lang': [u'en-US'], u'_id': ObjectId('56d9a92bbe18b11a0849e291'), u'description': u\"In situ, meteorological, navigational, physical and profile oceanographic data were collected, including AIR TEMPERATURE, BAROMETRIC PRESSURE, CURRENT DIRECTION, CURRENT SPEED, CURRENT SPEED - EAST/WEST COMPONENT (U), CURRENT SPEED - NORTH/SOUTH COMPONENT (V), DEPTH - OBSERVATION, INCOMING SOLAR RADIATION, LATITUDE, LONGITUDE, PRECIPITATION RATE, RELATIVE HUMIDITY, SALINITY, SIGMA-THETA, WATER TEMPERATURE, WIND DIRECTION and WIND SPEED from Moored Buoy at the Research Moored Array for African-Asian-Australian Monsoon Analysis and Prediction (RAMA) using ADCP, CTD - moored CTD, anemometer, barometers, meteorological sensors, pyranometer and thermistor from 1993-07-25 to 2015-08-05. These data were provided to one of the OceanSITES Data Assembly Centers (DAC). The DAC formatted this information into the OceanSITES file format and passed it on to the Global Data Assembly Centers (GDAC).\\n\\nOceanSITES is a worldwide system of long-term, open-ocean reference stations measuring dozens of variables and monitoring the full depth of the ocean from air-sea interactions down to the seafloor. It is a network of stations or observatories measuring many aspects of the ocean's surface and water column using, where possible, automated systems with advanced sensors and telecommunications systems, yielding high time resolution, often in real-time, while building a long record.\", u'title': u'Gridded in situ, meteorological, navigational, physical and profile data collected by US DOC; NOAA; OAR; Pacific Marine Environmental Laboratory at OceanSITES site RAMA from 1993-07-25 to 2015-08-05 (NCEI Accession 0130544)', u'keywords': [u'DOC/NOAA/NESDIS/NODC > National Oceanographic Data Center', u'NESDIS', u'NOAA', u'U.S. Department of Commerce', u'DOC/NOAA/NESDIS/NCEI > National Centers for Environmental Information', u'NESDIS', u'NOAA', u'U.S. Department of Commerce', u'oceanography', u'air_pressure_at_sea_level', u'air_temperature', u'depth', u'direction_of_sea_water_velocity', u'eastward_sea_water_velocity', u'eastward_wind', u'height', u'latitude', u'longitude', u'northward_sea_water_velocity', u'northward_wind', u'rainfall_rate', u'relative_humidity', u'sea_water_salinity', u'sea_water_sigma_theta', u'sea_water_speed', u'sea_water_temperature', u'surface_downwelling_longwave_flux_in_air', u'surface_downwelling_shortwave_flux_in_air', u'time', u'wind_speed', u'wind_to_direction', u'AIRT', u'AIRT_DM', u'AIRT_QC', u'ATMS', u'ATMS_DM', u'ATMS_QC', u'CDIR', u'CDIR_DM', u'CDIR_QC', u'CSPD', u'CSPD_DM', u'CSPD_QC', u'DEN', u'DEN_DM', u'DEN_QC', u'DEPCUR', u'DEPDEN', u'DEPPSAL', u'DEPTH', u'HEIGHTAIRT', u'HEIGHTATMS', u'HEIGHTLW', u'HEIGHTRAIN', u'HEIGHTRELH', u'HEIGHTSW', u'HEIGHTWIND', u'HEIGHTXY', u'LATITUDE', u'LONGITUDE', u'LW', u'LW_DM', u'LW_QC', u'PSAL', u'PSAL_DM', u'PSAL_QC', u'RAIN', u'RAIN_DM', u'RAIN_QC', u'RELH', u'RELH_DM', u'RELH_QC', u'SW', u'SW_DM', u'SW_QC', u'TEMP', u'TEMP_DM', u'TEMP_QC', u'TIME', u'UCUR', u'UWND', u'VCUR', u'VWND', u'WDIR', u'WDIR_DM', u'WDIR_QC', u'WSPD', u'WSPD_DM', u'WSPD_QC', u'XPOS', u'YPOS'], u'accessLevel': u'public'}\n",
      "{u'lang': [u'en-US'], u'_id': ObjectId('56d9a92bbe18b11a0849e284'), u'description': u\"In situ, meteorological, navigational, physical and profile oceanographic data were collected, including AIR TEMPERATURE, BAROMETRIC PRESSURE, CURRENT DIRECTION, CURRENT SPEED, CURRENT SPEED - EAST/WEST COMPONENT (U), CURRENT SPEED - NORTH/SOUTH COMPONENT (V), DEPTH - OBSERVATION, INCOMING SOLAR RADIATION, LATITUDE, LONGITUDE, PRECIPITATION RATE, RELATIVE HUMIDITY, SALINITY, SIGMA-THETA, WATER TEMPERATURE, WIND DIRECTION and WIND SPEED from Moored Buoy at the Pilot Research Moored Array in the Tropical Atlantic (PIRATA) using ADCP, CTD - moored CTD, anemometer, barometers, meteorological sensors, pyranometer and thermistor from 1997-09-11 to 2015-08-05. These data were provided to one of the OceanSITES Data Assembly Centers (DAC). The DAC formatted this information into the OceanSITES file format and passed it on to the Global Data Assembly Centers (GDAC).\\n\\nOceanSITES is a worldwide system of long-term, open-ocean reference stations measuring dozens of variables and monitoring the full depth of the ocean from air-sea interactions down to the seafloor. It is a network of stations or observatories measuring many aspects of the ocean's surface and water column using, where possible, automated systems with advanced sensors and telecommunications systems, yielding high time resolution, often in real-time, while building a long record.\", u'title': u'Gridded in situ, meteorological, navigational, physical and profile data collected by US DOC; NOAA; OAR; Pacific Marine Environmental Laboratory at OceanSITES site PIRATA from 1997-09-11 to 2015-08-05 (NCEI Accession 0130543)', u'keywords': [u'DOC/NOAA/NESDIS/NODC > National Oceanographic Data Center', u'NESDIS', u'NOAA', u'U.S. Department of Commerce', u'DOC/NOAA/NESDIS/NCEI > National Centers for Environmental Information', u'NESDIS', u'NOAA', u'U.S. Department of Commerce', u'oceanography', u'air_pressure_at_sea_level', u'air_temperature', u'depth', u'direction_of_sea_water_velocity', u'eastward_sea_water_velocity', u'eastward_wind', u'height', u'latitude', u'longitude', u'northward_sea_water_velocity', u'northward_wind', u'rainfall_rate', u'relative_humidity', u'sea_water_salinity', u'sea_water_sigma_theta', u'sea_water_speed', u'sea_water_temperature', u'surface_downwelling_longwave_flux_in_air', u'surface_downwelling_shortwave_flux_in_air', u'time', u'wind_speed', u'wind_to_direction', u'AIRT', u'AIRT_DM', u'AIRT_QC', u'ATMS', u'ATMS_DM', u'ATMS_QC', u'CDIR', u'CDIR_DM', u'CDIR_QC', u'CSPD', u'CSPD_DM', u'CSPD_QC', u'DEN', u'DEN_DM', u'DEN_QC', u'DEPCUR', u'DEPDEN', u'DEPPSAL', u'DEPTH', u'HEIGHTAIRT', u'HEIGHTATMS', u'HEIGHTLW', u'HEIGHTRAIN', u'HEIGHTRELH', u'HEIGHTSW', u'HEIGHTWIND', u'HEIGHTXY', u'LATITUDE', u'LONGITUDE', u'LW', u'LW_DM', u'LW_QC', u'PSAL', u'PSAL_DM', u'PSAL_QC', u'RAIN', u'RAIN_DM', u'RAIN_QC', u'RELH', u'RELH_DM', u'RELH_QC', u'SW', u'SW_DM', u'SW_QC', u'TEMP', u'TEMP_DM', u'TEMP_QC', u'TIME', u'UCUR', u'UWND', u'VCUR', u'VWND', u'WDIR', u'WDIR_DM', u'WDIR_QC', u'WSPD', u'WSPD_DM', u'WSPD_QC', u'XPOS', u'YPOS'], u'accessLevel': u'public'}\n",
      "{u'lang': [u'en-US'], u'_id': ObjectId('56d9a92bbe18b11a0849e402'), u'description': u'The Global Historical Climatology Network - Daily (GHCN-Daily) dataset integrates daily climate observations from approximately 30 different data sources. Version 3 was released in September 2012 with the addition of data from two additional station networks. Changes to the processing system associated with the version 3 release also allowed for updates to occur 7 days a week rather than only on most weekdays. Version 3 contains station-based measurements from well over 90,000 land-based stations worldwide, about two thirds of which are for precipitation measurement only. Other meteorological elements include, but are not limited to, daily maximum and minimum temperature, temperature at the time of observation, snowfall and snow depth. Over 25,000 stations are regularly updated with observations from within roughly the last month. The dataset is also routinely reconstructed (usually every week) from its roughly 30 data sources to ensure that GHCN-Daily is generally in sync with its growing list of constituent sources. During this process, quality assurance checks are applied to the full dataset. Where possible, GHCN-Daily station data are also updated daily from a variety of data streams. Station values for each daily update also undergo a suite of quality checks.', u'title': u'Global Historical Climatology Network - Daily (GHCN-Daily), Version 3', u'keywords': [u'EARTH SCIENCE > ATMOSPHERE > ATMOSPHERIC TEMPERATURE > MAXIMUM/MINIMUM TEMPERATURE', u'EARTH SCIENCE > ATMOSPHERE > ATMOSPHERIC TEMPERATURE > AIR TEMPERATURE', u'EARTH SCIENCE > ATMOSPHERE > PRECIPITATION > PRECIPITATION AMOUNT', u'EARTH SCIENCE > ATMOSPHERE > PRECIPITATION > SNOW', u'EARTH SCIENCE > TERRESTRIAL HYDROSPHERE > SNOW/ICE > SNOW DEPTH', u'GEOGRAPHIC REGION > GLOBAL LAND', u'VERTICAL LOCATION > LAND SURFACE', u'DOC/NOAA/NESDIS/NCDC > National Climatic Data Center', u'NESDIS', u'NOAA', u'U.S. Department of Commerce'], u'accessLevel': u'public'}\n",
      "{u'lang': [u'en-US'], u'_id': ObjectId('56d9a92bbe18b11a0849e3cc'), u'description': u\"In situ, meteorological, navigational, physical and profile oceanographic data were collected, including AIR TEMPERATURE, DEPTH - OBSERVATION, HYDROSTATIC PRESSURE, INCOMING SOLAR RADIATION, LATITUDE, LONGITUDE, PRECIPITATION RATE, RELATIVE HUMIDITY, SALINITY, SEA SURFACE TEMPERATURE, SIGMA-THETA, WATER TEMPERATURE, WIND DIRECTION and WIND SPEED from Moored Buoy at the TAO/TRITON Site 0N 95W (T0N95W) using GPS, anemometer, conductivity sensor, meteorological sensors, pressure sensors, pyranometer, radiometer and thermistor from 1998-11-06 to 2015-06-25. These data were provided to one of the OceanSITES Data Assembly Centers (DAC). The DAC formatted this information into the OceanSITES file format and passed it on to the Global Data Assembly Centers (GDAC).\\n\\nOceanSITES is a worldwide system of long-term, open-ocean reference stations measuring dozens of variables and monitoring the full depth of the ocean from air-sea interactions down to the seafloor. It is a network of stations or observatories measuring many aspects of the ocean's surface and water column using, where possible, automated systems with advanced sensors and telecommunications systems, yielding high time resolution, often in real-time, while building a long record.\", u'title': u'In situ, meteorological, navigational, physical and profile data collected by US DOC; NOAA; NWS; National Data Buoy Center at OceanSITES site T0N95W from 1998-11-06 to 2015-06-25 (NCEI Accession 0130059)', u'keywords': [u'DOC/NOAA/NESDIS/NODC > National Oceanographic Data Center', u'NESDIS', u'NOAA', u'U.S. Department of Commerce', u'DOC/NOAA/NESDIS/NCEI > National Centers for Environmental Information', u'NESDIS', u'NOAA', u'U.S. Department of Commerce', u'oceanography'], u'accessLevel': u'public'}\n",
      "{u'lang': [u'en-US'], u'_id': ObjectId('56d9a92abe18b11a0849e0e6'), u'description': u\"In situ, meteorological, navigational, physical and profile oceanographic data were collected, including AIR TEMPERATURE, DEPTH - OBSERVATION, HYDROSTATIC PRESSURE, INCOMING SOLAR RADIATION, LATITUDE, LONGITUDE, PRECIPITATION RATE, RELATIVE HUMIDITY, SALINITY, SEA SURFACE TEMPERATURE, SIGMA-THETA, WATER TEMPERATURE, WIND DIRECTION and WIND SPEED from Moored Buoy at the TAO/TRITON Site 2N 140W (T2N140W) using GPS, anemometer, conductivity sensor, meteorological sensors, pressure sensors, pyranometer and thermistor from 1998-09-30 to 2015-08-06. These data were provided to one of the OceanSITES Data Assembly Centers (DAC). The DAC formatted this information into the OceanSITES file format and passed it on to the Global Data Assembly Centers (GDAC).\\n\\nOceanSITES is a worldwide system of long-term, open-ocean reference stations measuring dozens of variables and monitoring the full depth of the ocean from air-sea interactions down to the seafloor. It is a network of stations or observatories measuring many aspects of the ocean's surface and water column using, where possible, automated systems with advanced sensors and telecommunications systems, yielding high time resolution, often in real-time, while building a long record.\", u'title': u'In situ, meteorological, navigational, physical and profile data collected by US DOC; NOAA; NWS; National Data Buoy Center at OceanSITES site T2N140W from 1998-09-30 to 2015-08-06 (NCEI Accession 0130062)', u'keywords': [u'DOC/NOAA/NESDIS/NODC > National Oceanographic Data Center', u'NESDIS', u'NOAA', u'U.S. Department of Commerce', u'DOC/NOAA/NESDIS/NCEI > National Centers for Environmental Information', u'NESDIS', u'NOAA', u'U.S. Department of Commerce', u'oceanography', u'EARTH SCIENCE > ATMOSPHERE > ATMOSPHERIC RADIATION > SHORTWAVE RADIATION', u'EARTH SCIENCE > ATMOSPHERE > ATMOSPHERIC TEMPERATURE > AIR TEMPERATURE', u'EARTH SCIENCE > ATMOSPHERE > ATMOSPHERIC WATER VAPOR > HUMIDITY', u'EARTH SCIENCE > ATMOSPHERE > ATMOSPHERIC WINDS > SURFACE WINDS', u'WIND SPEED/WIND DIRECTION', u'EARTH SCIENCE > ATMOSPHERE > PRECIPITATION > PRECIPITATION AMOUNT', u'PRECIPITATION RATE', u'EARTH SCIENCE > CLIMATE INDICATORS > ATMOSPHERIC/OCEAN INDICATORS > TELECONNECTIONS > EL NINO SOUTHERN OSCILLATION (ENSO)', u'ENSO', u'EARTH SCIENCE > OCEANS > OCEAN CIRCULATION > BUOY POSITION', u'EARTH SCIENCE > OCEANS > OCEAN HEAT BUDGET > SHORTWAVE RADIATION', u'EARTH SCIENCE > OCEANS > OCEAN PRESSURE > WATER PRESSURE', u'EARTH SCIENCE > OCEANS > OCEAN TEMPERATURE > WATER TEMPERATURE', u'SEA SURFACE TEMPERATURE', u'EARTH SCIENCE > OCEANS > OCEAN WINDS > SURFACE WINDS', u'EARTH SCIENCE > OCEANS > SALINITY/DENSITY > SALINITY', u'DENSITY', u'air_temperature', u'depth', u'eastward_wind', u'height', u'latitude', u'longitude', u'northward_wind', u'rainfall_rate', u'relative_humidity', u'sea_surface_temperature', u'sea_water_practical_salinity', u'sea_water_pressure', u'sea_water_sigma_theta', u'sea_water_temperature', u'surface_downwelling_shortwave_flux_in_air', u'time', u'wind_speed', u'wind_to_direction', u'AIRT', u'AIRT_DM', u'AIRT_QC', u'DEPTH', u'HEIGHT', u'HEIGHT_WIND', u'LATITUDE', u'LONGITUDE', u'PRES', u'PRES_DM', u'PRES_QC', u'PSAL', u'PSAL_DM', u'PSAL_QC', u'RAIN', u'RAIN_DM', u'RAIN_QC', u'RELH', u'RELH_DM', u'RELH_QC', u'SIGT', u'SIGT_DM', u'SIGT_QC', u'SST', u'SST_DM', u'SST_QC', u'SW', u'SW_DM', u'SW_QC', u'TEMP', u'TEMP_DM', u'TEMP_QC', u'TIME', u'TIME_BNDS', u'UWND', u'VWND', u'WDIR', u'WDIR_DM', u'WDIR_QC', u'WSPD', u'WSPD_DM', u'WSPD_QC'], u'accessLevel': u'public'}\n",
      "{u'lang': [u'en-US'], u'_id': ObjectId('56d9a92abe18b11a0849e0e9'), u'description': u\"In situ, meteorological, navigational, physical and profile oceanographic data were collected, including AIR TEMPERATURE, DEPTH - OBSERVATION, HYDROSTATIC PRESSURE, INCOMING SOLAR RADIATION, LATITUDE, LONGITUDE, PRECIPITATION RATE, RELATIVE HUMIDITY, SALINITY, SEA SURFACE TEMPERATURE, SIGMA-THETA, WATER TEMPERATURE, WIND DIRECTION and WIND SPEED from Moored Buoy at the TAO/TRITON Site 2N 165E (T2N165E) using GPS, anemometer, conductivity sensor, meteorological sensors, pressure sensors, pyranometer and thermistor from 1998-01-07 to 2015-08-06. These data were provided to one of the OceanSITES Data Assembly Centers (DAC). The DAC formatted this information into the OceanSITES file format and passed it on to the Global Data Assembly Centers (GDAC).\\n\\nOceanSITES is a worldwide system of long-term, open-ocean reference stations measuring dozens of variables and monitoring the full depth of the ocean from air-sea interactions down to the seafloor. It is a network of stations or observatories measuring many aspects of the ocean's surface and water column using, where possible, automated systems with advanced sensors and telecommunications systems, yielding high time resolution, often in real-time, while building a long record.\", u'title': u'In situ, meteorological, navigational, physical and profile data collected by US DOC; NOAA; NWS; National Data Buoy Center at OceanSITES site T2N165E from 1998-01-07 to 2015-08-06 (NCEI Accession 0130064)', u'keywords': [u'DOC/NOAA/NESDIS/NODC > National Oceanographic Data Center', u'NESDIS', u'NOAA', u'U.S. Department of Commerce', u'DOC/NOAA/NESDIS/NCEI > National Centers for Environmental Information', u'NESDIS', u'NOAA', u'U.S. Department of Commerce', u'oceanography', u'EARTH SCIENCE > ATMOSPHERE > ATMOSPHERIC RADIATION > SHORTWAVE RADIATION', u'EARTH SCIENCE > ATMOSPHERE > ATMOSPHERIC TEMPERATURE > AIR TEMPERATURE', u'EARTH SCIENCE > ATMOSPHERE > ATMOSPHERIC WATER VAPOR > HUMIDITY', u'EARTH SCIENCE > ATMOSPHERE > ATMOSPHERIC WINDS > SURFACE WINDS', u'WIND SPEED/WIND DIRECTION', u'EARTH SCIENCE > ATMOSPHERE > PRECIPITATION > PRECIPITATION AMOUNT', u'PRECIPITATION RATE', u'EARTH SCIENCE > CLIMATE INDICATORS > ATMOSPHERIC/OCEAN INDICATORS > TELECONNECTIONS > EL NINO SOUTHERN OSCILLATION (ENSO)', u'ENSO', u'EARTH SCIENCE > OCEANS > OCEAN CIRCULATION > BUOY POSITION', u'EARTH SCIENCE > OCEANS > OCEAN HEAT BUDGET > SHORTWAVE RADIATION', u'EARTH SCIENCE > OCEANS > OCEAN PRESSURE > WATER PRESSURE', u'EARTH SCIENCE > OCEANS > OCEAN TEMPERATURE > WATER TEMPERATURE', u'SEA SURFACE TEMPERATURE', u'EARTH SCIENCE > OCEANS > OCEAN WINDS > SURFACE WINDS', u'EARTH SCIENCE > OCEANS > SALINITY/DENSITY > SALINITY', u'DENSITY', u'air_temperature', u'depth', u'eastward_wind', u'height', u'latitude', u'longitude', u'northward_wind', u'rainfall_rate', u'relative_humidity', u'sea_surface_temperature', u'sea_water_practical_salinity', u'sea_water_pressure', u'sea_water_sigma_theta', u'sea_water_temperature', u'surface_downwelling_shortwave_flux_in_air', u'time', u'wind_speed', u'wind_to_direction', u'AIRT', u'AIRT_DM', u'AIRT_QC', u'DEPTH', u'HEIGHT', u'HEIGHT_WIND', u'LATITUDE', u'LONGITUDE', u'PRES', u'PRES_DM', u'PRES_QC', u'PSAL', u'PSAL_DM', u'PSAL_QC', u'RAIN', u'RAIN_DM', u'RAIN_QC', u'RELH', u'RELH_DM', u'RELH_QC', u'SIGT', u'SIGT_DM', u'SIGT_QC', u'SST', u'SST_DM', u'SST_QC', u'SW', u'SW_DM', u'SW_QC', u'TEMP', u'TEMP_DM', u'TEMP_QC', u'TIME', u'TIME_BNDS', u'UWND', u'VWND', u'WDIR', u'WDIR_DM', u'WDIR_QC', u'WSPD', u'WSPD_DM', u'WSPD_QC'], u'accessLevel': u'public'}\n",
      "{u'lang': [u'en-US'], u'_id': ObjectId('56d9a92abe18b11a0849e10f'), u'description': u\"In situ, meteorological, navigational, physical and profile oceanographic data were collected, including AIR TEMPERATURE, DEPTH - OBSERVATION, HYDROSTATIC PRESSURE, INCOMING SOLAR RADIATION, LATITUDE, LONGITUDE, PRECIPITATION RATE, RELATIVE HUMIDITY, SALINITY, SEA SURFACE TEMPERATURE, SIGMA-THETA, WATER TEMPERATURE, WIND DIRECTION and WIND SPEED from Moored Buoy at the TAO/TRITON Site 2S 165E (T2S165E) using GPS, anemometer, conductivity sensor, meteorological sensors, pressure sensors, pyranometer and thermistor from 1997-06-15 to 2015-08-06. These data were provided to one of the OceanSITES Data Assembly Centers (DAC). The DAC formatted this information into the OceanSITES file format and passed it on to the Global Data Assembly Centers (GDAC).\\n\\nOceanSITES is a worldwide system of long-term, open-ocean reference stations measuring dozens of variables and monitoring the full depth of the ocean from air-sea interactions down to the seafloor. It is a network of stations or observatories measuring many aspects of the ocean's surface and water column using, where possible, automated systems with advanced sensors and telecommunications systems, yielding high time resolution, often in real-time, while building a long record.\", u'title': u'In situ, meteorological, navigational, physical and profile data collected by US DOC; NOAA; NWS; National Data Buoy Center at OceanSITES site T2S165E from 1997-06-15 to 2015-08-06 (NCEI Accession 0130857)', u'keywords': [u'DOC/NOAA/NESDIS/NODC > National Oceanographic Data Center', u'NESDIS', u'NOAA', u'U.S. Department of Commerce', u'DOC/NOAA/NESDIS/NCEI > National Centers for Environmental Information', u'NESDIS', u'NOAA', u'U.S. Department of Commerce', u'oceanography', u'EARTH SCIENCE > ATMOSPHERE > ATMOSPHERIC RADIATION > SHORTWAVE RADIATION', u'EARTH SCIENCE > ATMOSPHERE > ATMOSPHERIC TEMPERATURE > AIR TEMPERATURE', u'EARTH SCIENCE > ATMOSPHERE > ATMOSPHERIC WATER VAPOR > HUMIDITY', u'EARTH SCIENCE > ATMOSPHERE > ATMOSPHERIC WINDS > SURFACE WINDS', u'WIND SPEED/WIND DIRECTION', u'EARTH SCIENCE > ATMOSPHERE > PRECIPITATION > PRECIPITATION AMOUNT', u'PRECIPITATION RATE', u'EARTH SCIENCE > CLIMATE INDICATORS > ATMOSPHERIC/OCEAN INDICATORS > TELECONNECTIONS > EL NINO SOUTHERN OSCILLATION (ENSO)', u'ENSO', u'EARTH SCIENCE > OCEANS > OCEAN CIRCULATION > BUOY POSITION', u'EARTH SCIENCE > OCEANS > OCEAN HEAT BUDGET > SHORTWAVE RADIATION', u'EARTH SCIENCE > OCEANS > OCEAN PRESSURE > WATER PRESSURE', u'EARTH SCIENCE > OCEANS > OCEAN TEMPERATURE > WATER TEMPERATURE', u'SEA SURFACE TEMPERATURE', u'EARTH SCIENCE > OCEANS > OCEAN WINDS > SURFACE WINDS', u'EARTH SCIENCE > OCEANS > SALINITY/DENSITY > SALINITY', u'DENSITY', u'air_temperature', u'depth', u'eastward_wind', u'height', u'latitude', u'longitude', u'northward_wind', u'rainfall_rate', u'relative_humidity', u'sea_surface_temperature', u'sea_water_practical_salinity', u'sea_water_pressure', u'sea_water_sigma_theta', u'sea_water_temperature', u'surface_downwelling_shortwave_flux_in_air', u'time', u'wind_speed', u'wind_to_direction', u'AIRT', u'AIRT_DM', u'AIRT_QC', u'DEPTH', u'HEIGHT', u'HEIGHT_WIND', u'LATITUDE', u'LONGITUDE', u'PRES', u'PRES_DM', u'PRES_QC', u'PSAL', u'PSAL_DM', u'PSAL_QC', u'RAIN', u'RAIN_DM', u'RAIN_QC', u'RELH', u'RELH_DM', u'RELH_QC', u'SIGT', u'SIGT_DM', u'SIGT_QC', u'SST', u'SST_DM', u'SST_QC', u'SW', u'SW_DM', u'SW_QC', u'TEMP', u'TEMP_DM', u'TEMP_QC', u'TIME', u'TIME_BNDS', u'UWND', u'VWND', u'WDIR', u'WDIR_DM', u'WDIR_QC', u'WSPD', u'WSPD_DM', u'WSPD_QC'], u'accessLevel': u'public'}\n",
      "{u'lang': [u'en-US'], u'_id': ObjectId('56d9a92bbe18b11a0849e220'), u'description': u\"In situ, meteorological, navigational, physical and profile oceanographic data were collected, including AIR TEMPERATURE, DEPTH - OBSERVATION, HYDROSTATIC PRESSURE, LATITUDE, LONGITUDE, PRECIPITATION RATE, RELATIVE HUMIDITY, SALINITY, SEA SURFACE TEMPERATURE, SIGMA-THETA, WATER TEMPERATURE, WIND DIRECTION and WIND SPEED from Moored Buoy at the TAO/TRITON Site 0N 180W (T0N180W) using GPS, anemometer, conductivity sensor, meteorological sensors, pressure sensors and thermistor from 1999-11-28 to 2015-08-06. These data were provided to one of the OceanSITES Data Assembly Centers (DAC). The DAC formatted this information into the OceanSITES file format and passed it on to the Global Data Assembly Centers (GDAC).\\n\\nOceanSITES is a worldwide system of long-term, open-ocean reference stations measuring dozens of variables and monitoring the full depth of the ocean from air-sea interactions down to the seafloor. It is a network of stations or observatories measuring many aspects of the ocean's surface and water column using, where possible, automated systems with advanced sensors and telecommunications systems, yielding high time resolution, often in real-time, while building a long record.\", u'title': u'In situ, meteorological, navigational, physical and profile data collected by US DOC; NOAA; NWS; National Data Buoy Center at OceanSITES site T0N180W from 1999-11-28 to 2015-08-06 (NCEI Accession 0130058)', u'keywords': [u'DOC/NOAA/NESDIS/NODC > National Oceanographic Data Center', u'NESDIS', u'NOAA', u'U.S. Department of Commerce', u'DOC/NOAA/NESDIS/NCEI > National Centers for Environmental Information', u'NESDIS', u'NOAA', u'U.S. Department of Commerce', u'oceanography', u'EARTH SCIENCE > ATMOSPHERE > ATMOSPHERIC TEMPERATURE > AIR TEMPERATURE', u'EARTH SCIENCE > ATMOSPHERE > ATMOSPHERIC WATER VAPOR > HUMIDITY', u'EARTH SCIENCE > ATMOSPHERE > ATMOSPHERIC WINDS > SURFACE WINDS', u'WIND SPEED/WIND DIRECTION', u'EARTH SCIENCE > ATMOSPHERE > PRECIPITATION > PRECIPITATION AMOUNT', u'PRECIPITATION RATE', u'EARTH SCIENCE > CLIMATE INDICATORS > ATMOSPHERIC/OCEAN INDICATORS > TELECONNECTIONS > EL NINO SOUTHERN OSCILLATION (ENSO)', u'ENSO', u'EARTH SCIENCE > OCEANS > OCEAN CIRCULATION > BUOY POSITION', u'EARTH SCIENCE > OCEANS > OCEAN PRESSURE > WATER PRESSURE', u'EARTH SCIENCE > OCEANS > OCEAN TEMPERATURE > WATER TEMPERATURE', u'SEA SURFACE TEMPERATURE', u'EARTH SCIENCE > OCEANS > OCEAN WINDS > SURFACE WINDS', u'EARTH SCIENCE > OCEANS > SALINITY/DENSITY > SALINITY', u'DENSITY', u'air_temperature', u'depth', u'eastward_wind', u'height', u'latitude', u'longitude', u'northward_wind', u'rainfall_rate', u'relative_humidity', u'sea_surface_temperature', u'sea_water_practical_salinity', u'sea_water_pressure', u'sea_water_sigma_theta', u'sea_water_temperature', u'time', u'wind_speed', u'wind_to_direction', u'AIRT', u'AIRT_DM', u'AIRT_QC', u'DEPTH', u'HEIGHT', u'HEIGHT_WIND', u'LATITUDE', u'LONGITUDE', u'PRES', u'PRES_DM', u'PRES_QC', u'PSAL', u'PSAL_DM', u'PSAL_QC', u'RAIN', u'RAIN_DM', u'RAIN_QC', u'RELH', u'RELH_DM', u'RELH_QC', u'SIGT', u'SIGT_DM', u'SIGT_QC', u'SST', u'SST_DM', u'SST_QC', u'TEMP', u'TEMP_DM', u'TEMP_QC', u'TIME', u'TIME_BNDS', u'UWND', u'VWND', u'WDIR', u'WDIR_DM', u'WDIR_QC', u'WSPD', u'WSPD_DM', u'WSPD_QC'], u'accessLevel': u'public'}\n",
      "{u'lang': [u'en-US'], u'_id': ObjectId('56d9a92bbe18b11a0849e221'), u'description': u\"In situ, meteorological, navigational, physical and profile oceanographic data were collected, including AIR TEMPERATURE, DEPTH - OBSERVATION, HYDROSTATIC PRESSURE, LATITUDE, LONGITUDE, PRECIPITATION RATE, RELATIVE HUMIDITY, SALINITY, SEA SURFACE TEMPERATURE, SIGMA-THETA, WATER TEMPERATURE, WIND DIRECTION and WIND SPEED from Moored Buoy at the TAO/TRITON Site 0N 155W (T0N155W) using GPS, anemometer, conductivity sensor, meteorological sensors, pressure sensors and thermistor from 1999-10-28 to 2015-08-06. These data were provided to one of the OceanSITES Data Assembly Centers (DAC). The DAC formatted this information into the OceanSITES file format and passed it on to the Global Data Assembly Centers (GDAC).\\n\\nOceanSITES is a worldwide system of long-term, open-ocean reference stations measuring dozens of variables and monitoring the full depth of the ocean from air-sea interactions down to the seafloor. It is a network of stations or observatories measuring many aspects of the ocean's surface and water column using, where possible, automated systems with advanced sensors and telecommunications systems, yielding high time resolution, often in real-time, while building a long record.\", u'title': u'In situ, meteorological, navigational, physical and profile data collected by US DOC; NOAA; NWS; National Data Buoy Center at OceanSITES site T0N155W from 1999-10-28 to 2015-08-06 (NCEI Accession 0130055)', u'keywords': [u'DOC/NOAA/NESDIS/NODC > National Oceanographic Data Center', u'NESDIS', u'NOAA', u'U.S. Department of Commerce', u'DOC/NOAA/NESDIS/NCEI > National Centers for Environmental Information', u'NESDIS', u'NOAA', u'U.S. Department of Commerce', u'oceanography', u'EARTH SCIENCE > ATMOSPHERE > ATMOSPHERIC TEMPERATURE > AIR TEMPERATURE', u'EARTH SCIENCE > ATMOSPHERE > ATMOSPHERIC WATER VAPOR > HUMIDITY', u'EARTH SCIENCE > ATMOSPHERE > ATMOSPHERIC WINDS > SURFACE WINDS', u'WIND SPEED/WIND DIRECTION', u'EARTH SCIENCE > ATMOSPHERE > PRECIPITATION > PRECIPITATION AMOUNT', u'PRECIPITATION RATE', u'EARTH SCIENCE > CLIMATE INDICATORS > ATMOSPHERIC/OCEAN INDICATORS > TELECONNECTIONS > EL NINO SOUTHERN OSCILLATION (ENSO)', u'ENSO', u'EARTH SCIENCE > OCEANS > OCEAN CIRCULATION > BUOY POSITION', u'EARTH SCIENCE > OCEANS > OCEAN PRESSURE > WATER PRESSURE', u'EARTH SCIENCE > OCEANS > OCEAN TEMPERATURE > WATER TEMPERATURE', u'SEA SURFACE TEMPERATURE', u'EARTH SCIENCE > OCEANS > OCEAN WINDS > SURFACE WINDS', u'EARTH SCIENCE > OCEANS > SALINITY/DENSITY > SALINITY', u'DENSITY', u'air_temperature', u'depth', u'eastward_wind', u'height', u'latitude', u'longitude', u'northward_wind', u'rainfall_rate', u'relative_humidity', u'sea_surface_temperature', u'sea_water_practical_salinity', u'sea_water_pressure', u'sea_water_sigma_theta', u'sea_water_temperature', u'time', u'wind_speed', u'wind_to_direction', u'AIRT', u'AIRT_DM', u'AIRT_QC', u'DEPTH', u'HEIGHT', u'HEIGHT_WIND', u'LATITUDE', u'LONGITUDE', u'PRES', u'PRES_DM', u'PRES_QC', u'PSAL', u'PSAL_DM', u'PSAL_QC', u'RAIN', u'RAIN_DM', u'RAIN_QC', u'RELH', u'RELH_DM', u'RELH_QC', u'SIGT', u'SIGT_DM', u'SIGT_QC', u'SST', u'SST_DM', u'SST_QC', u'TEMP', u'TEMP_DM', u'TEMP_QC', u'TIME', u'TIME_BNDS', u'UWND', u'VWND', u'WDIR', u'WDIR_DM', u'WDIR_QC', u'WSPD', u'WSPD_DM', u'WSPD_QC'], u'accessLevel': u'public'}\n",
      "{u'lang': [u'en-US'], u'_id': ObjectId('56d9a92abe18b11a0849e1a7'), u'description': u\"In situ, meteorological, navigational, physical and profile oceanographic data were collected, including AIR TEMPERATURE, BAROMETRIC PRESSURE, CURRENT DIRECTION, CURRENT SPEED, CURRENT SPEED - EAST/WEST COMPONENT (U), CURRENT SPEED - NORTH/SOUTH COMPONENT (V), CURRENT SPEED - UP/DOWN COMPONENT (W), DEPTH - OBSERVATION, HYDROSTATIC PRESSURE, INCOMING SOLAR RADIATION, LATITUDE, LONGITUDE, PRECIPITATION RATE, RELATIVE HUMIDITY, SALINITY, SEA SURFACE TEMPERATURE, SIGMA-THETA, WATER TEMPERATURE, WIND DIRECTION and WIND SPEED from Moored Buoy at the TAO/TRITON Site 0N 140W (T0N140W) using GPS, anemometer, conductivity sensor, current meter, meteorological sensors, pressure sensors, pyranometer, radiometer and thermistor from 1998-05-10 to 2015-08-06. These data were provided to one of the OceanSITES Data Assembly Centers (DAC). The DAC formatted this information into the OceanSITES file format and passed it on to the Global Data Assembly Centers (GDAC).\\n\\nOceanSITES is a worldwide system of long-term, open-ocean reference stations measuring dozens of variables and monitoring the full depth of the ocean from air-sea interactions down to the seafloor. It is a network of stations or observatories measuring many aspects of the ocean's surface and water column using, where possible, automated systems with advanced sensors and telecommunications systems, yielding high time resolution, often in real-time, while building a long record.\", u'title': u'In situ, meteorological, navigational, physical and profile data collected by US DOC; NOAA; NWS; National Data Buoy Center at OceanSITES site T0N140W from 1998-05-10 to 2015-08-06 (NCEI Accession 0130054)', u'keywords': [u'DOC/NOAA/NESDIS/NODC > National Oceanographic Data Center', u'NESDIS', u'NOAA', u'U.S. Department of Commerce', u'DOC/NOAA/NESDIS/NCEI > National Centers for Environmental Information', u'NESDIS', u'NOAA', u'U.S. Department of Commerce', u'oceanography', u'EARTH SCIENCE > ATMOSPHERE > ATMOSPHERIC PRESSURE > SEA LEVEL PRESSURE', u'EARTH SCIENCE > ATMOSPHERE > ATMOSPHERIC RADIATION > LONGWAVE RADIATION', u'EARTH SCIENCE > ATMOSPHERE > ATMOSPHERIC RADIATION > SHORTWAVE RADIATION', u'EARTH SCIENCE > ATMOSPHERE > ATMOSPHERIC TEMPERATURE > AIR TEMPERATURE', u'EARTH SCIENCE > ATMOSPHERE > ATMOSPHERIC WATER VAPOR > HUMIDITY', u'EARTH SCIENCE > ATMOSPHERE > ATMOSPHERIC WINDS > SURFACE WINDS', u'WIND SPEED/WIND DIRECTION', u'EARTH SCIENCE > ATMOSPHERE > PRECIPITATION > PRECIPITATION AMOUNT', u'PRECIPITATION RATE', u'EARTH SCIENCE > CLIMATE INDICATORS > ATMOSPHERIC/OCEAN INDICATORS > TELECONNECTIONS > EL NINO SOUTHERN OSCILLATION (ENSO)', u'ENSO', u'EARTH SCIENCE > OCEANS > OCEAN CIRCULATION > BUOY POSITION', u'EARTH SCIENCE > OCEANS > OCEAN CIRCULATION > OCEAN CURRENTS', u'EARTH SCIENCE > OCEANS > OCEAN HEAT BUDGET > LONGWAVE RADIATION', u'EARTH SCIENCE > OCEANS > OCEAN HEAT BUDGET > SHORTWAVE RADIATION', u'EARTH SCIENCE > OCEANS > OCEAN PRESSURE > SEA LEVEL PRESSURE', u'EARTH SCIENCE > OCEANS > OCEAN PRESSURE > WATER PRESSURE', u'EARTH SCIENCE > OCEANS > OCEAN TEMPERATURE > WATER TEMPERATURE', u'SEA SURFACE TEMPERATURE', u'EARTH SCIENCE > OCEANS > OCEAN WINDS > SURFACE WINDS', u'EARTH SCIENCE > OCEANS > SALINITY/DENSITY > SALINITY', u'DENSITY', u'air_pressure_at_sea_level', u'air_temperature', u'depth', u'direction_of_sea_water_velocity', u'eastward_sea_water_velocity', u'eastward_wind', u'height', u'latitude', u'longitude', u'northward_sea_water_velocity', u'northward_wind', u'rainfall_rate', u'relative_humidity', u'sea_surface_temperature', u'sea_water_practical_salinity', u'sea_water_pressure', u'sea_water_sigma_theta', u'sea_water_speed', u'sea_water_temperature', u'surface_downwelling_longwave_flux_in_air', u'surface_downwelling_shortwave_flux_in_air', u'time', u'upward_sea_water_velocity', u'wind_speed', u'wind_to_direction', u'AIRT', u'AIRT_DM', u'AIRT_QC', u'ATMS', u'ATMS_DM', u'ATMS_QC', u'CDIR', u'CSPD', u'CSPD_DM', u'CSPD_QC', u'DEPTH', u'HEIGHT', u'HEIGHT_WIND', u'LATITUDE', u'LONGITUDE', u'LW', u'LW_DM', u'LW_QC', u'PRES', u'PRES_DM', u'PRES_QC', u'PSAL', u'PSAL_DM', u'PSAL_QC', u'RAIN', u'RAIN_DM', u'RAIN_QC', u'RELH', u'RELH_DM', u'RELH_QC', u'SIGT', u'SIGT_DM', u'SIGT_QC', u'SST', u'SST_DM', u'SST_QC', u'SW', u'SW_DM', u'SW_QC', u'TEMP', u'TEMP_DM', u'TEMP_QC', u'TIME', u'TIME_BNDS', u'UCUR', u'UCUR_DM', u'UCUR_QC', u'UWND', u'VCUR', u'VWND', u'WCUR', u'WDIR', u'WDIR_DM', u'WDIR_QC', u'WSPD', u'WSPD_DM', u'WSPD_QC'], u'accessLevel': u'public'}\n",
      "{u'lang': [u'en-US'], u'_id': ObjectId('56d9a92bbe18b11a0849e574'), u'description': u'The USA-PRC Joint Program on Air-Sea Interaction Studies in the Tropical Western Pacific is a component of the Protocol on Cooperation in the Field of Marine and Fishery Science and Technology signed by the State Oceanic Administration (SOA), the People\\'s Republic of China and National Oceanic and Atmospheric Administration (NOAA), the United State of America. This program is also a part of the Tropical Ocean and Global Atmosphere Program (TOGA).\\n\\nThe second cruise of the USA-PRC Joint Program was conducted by the R/V Xiangyanghong No.5 of the SOA, PRC from November 15, 1968 through March 5, 1987.\\n\\nSome of the investigation data are published in the form of \"quick look\" data set. Owing to the time limitation, part of the data has not been processed under strict quality control.\\n\\nThere are four reports in the publication:\\n\\nPreliminary CTD Data Report\\nNutrient, Chlorophyll a and Primary Production Preliminary Report\\nMarine Meteorology Data Report\\nPrecipitation Data Report', u'title': u'Cruise and Data Report of USA-PRC Joint Air-Sea Interaction Studies in the Western Pacific Ocean (NCEI Accession 8700374)', u'keywords': [u'DOC/NOAA/NESDIS/NODC > National Oceanographic Data Center', u'NESDIS', u'NOAA', u'U.S. Department of Commerce', u'DOC/NOAA/NESDIS/NCEI > National Centers for Environmental Information', u'NESDIS', u'NOAA', u'U.S. Department of Commerce', u'oceanography'], u'accessLevel': u'public'}\n",
      "{u'lang': [u'en-US'], u'_id': ObjectId('56d9a92abe18b11a0849e1a2'), u'description': u\"In situ, meteorological, navigational, physical and profile oceanographic data were collected, including AIR TEMPERATURE, BAROMETRIC PRESSURE, CURRENT DIRECTION, CURRENT SPEED, CURRENT SPEED - EAST/WEST COMPONENT (U), CURRENT SPEED - NORTH/SOUTH COMPONENT (V), CURRENT SPEED - UP/DOWN COMPONENT (W), DEPTH - OBSERVATION, HYDROSTATIC PRESSURE, INCOMING SOLAR RADIATION, LATITUDE, LONGITUDE, PRECIPITATION RATE, RELATIVE HUMIDITY, SALINITY, SEA SURFACE TEMPERATURE, SIGMA-THETA, WATER TEMPERATURE, WIND DIRECTION and WIND SPEED from Moored Buoy at the TAO/TRITON Site 0N 170W (T0N170W) using GPS, anemometer, conductivity sensor, current meter, meteorological sensors, pressure sensors, pyranometer, radiometer and thermistor from 2000-07-03 to 2015-08-06. These data were provided to one of the OceanSITES Data Assembly Centers (DAC). The DAC formatted this information into the OceanSITES file format and passed it on to the Global Data Assembly Centers (GDAC).\\n\\nOceanSITES is a worldwide system of long-term, open-ocean reference stations measuring dozens of variables and monitoring the full depth of the ocean from air-sea interactions down to the seafloor. It is a network of stations or observatories measuring many aspects of the ocean's surface and water column using, where possible, automated systems with advanced sensors and telecommunications systems, yielding high time resolution, often in real-time, while building a long record.\", u'title': u'In situ, meteorological, navigational, physical and profile data collected by US DOC; NOAA; NWS; National Data Buoy Center at OceanSITES site T0N170W from 2000-07-03 to 2015-08-06 (NCEI Accession 0130057)', u'keywords': [u'DOC/NOAA/NESDIS/NODC > National Oceanographic Data Center', u'NESDIS', u'NOAA', u'U.S. Department of Commerce', u'DOC/NOAA/NESDIS/NCEI > National Centers for Environmental Information', u'NESDIS', u'NOAA', u'U.S. Department of Commerce', u'oceanography', u'EARTH SCIENCE > ATMOSPHERE > ATMOSPHERIC PRESSURE > SEA LEVEL PRESSURE', u'EARTH SCIENCE > ATMOSPHERE > ATMOSPHERIC RADIATION > LONGWAVE RADIATION', u'EARTH SCIENCE > ATMOSPHERE > ATMOSPHERIC RADIATION > SHORTWAVE RADIATION', u'EARTH SCIENCE > ATMOSPHERE > ATMOSPHERIC TEMPERATURE > AIR TEMPERATURE', u'EARTH SCIENCE > ATMOSPHERE > ATMOSPHERIC WATER VAPOR > HUMIDITY', u'EARTH SCIENCE > ATMOSPHERE > ATMOSPHERIC WINDS > SURFACE WINDS', u'WIND SPEED/WIND DIRECTION', u'EARTH SCIENCE > ATMOSPHERE > PRECIPITATION > PRECIPITATION AMOUNT', u'PRECIPITATION RATE', u'EARTH SCIENCE > CLIMATE INDICATORS > ATMOSPHERIC/OCEAN INDICATORS > TELECONNECTIONS > EL NINO SOUTHERN OSCILLATION (ENSO)', u'ENSO', u'EARTH SCIENCE > OCEANS > OCEAN CIRCULATION > BUOY POSITION', u'EARTH SCIENCE > OCEANS > OCEAN CIRCULATION > OCEAN CURRENTS', u'EARTH SCIENCE > OCEANS > OCEAN HEAT BUDGET > LONGWAVE RADIATION', u'EARTH SCIENCE > OCEANS > OCEAN HEAT BUDGET > SHORTWAVE RADIATION', u'EARTH SCIENCE > OCEANS > OCEAN PRESSURE > SEA LEVEL PRESSURE', u'EARTH SCIENCE > OCEANS > OCEAN PRESSURE > WATER PRESSURE', u'EARTH SCIENCE > OCEANS > OCEAN TEMPERATURE > WATER TEMPERATURE', u'SEA SURFACE TEMPERATURE', u'EARTH SCIENCE > OCEANS > OCEAN WINDS > SURFACE WINDS', u'EARTH SCIENCE > OCEANS > SALINITY/DENSITY > SALINITY', u'DENSITY', u'air_pressure_at_sea_level', u'air_temperature', u'depth', u'direction_of_sea_water_velocity', u'eastward_sea_water_velocity', u'eastward_wind', u'height', u'latitude', u'longitude', u'northward_sea_water_velocity', u'northward_wind', u'rainfall_rate', u'relative_humidity', u'sea_surface_temperature', u'sea_water_practical_salinity', u'sea_water_pressure', u'sea_water_sigma_theta', u'sea_water_speed', u'sea_water_temperature', u'surface_downwelling_longwave_flux_in_air', u'surface_downwelling_shortwave_flux_in_air', u'time', u'upward_sea_water_velocity', u'wind_speed', u'wind_to_direction', u'AIRT', u'AIRT_DM', u'AIRT_QC', u'ATMS', u'ATMS_DM', u'ATMS_QC', u'CDIR', u'CSPD', u'CSPD_DM', u'CSPD_QC', u'DEPTH', u'HEIGHT', u'HEIGHT_WIND', u'LATITUDE', u'LONGITUDE', u'LW', u'LW_DM', u'LW_QC', u'PRES', u'PRES_DM', u'PRES_QC', u'PSAL', u'PSAL_DM', u'PSAL_QC', u'RAIN', u'RAIN_DM', u'RAIN_QC', u'RELH', u'RELH_DM', u'RELH_QC', u'SIGT', u'SIGT_DM', u'SIGT_QC', u'SST', u'SST_DM', u'SST_QC', u'SW', u'SW_DM', u'SW_QC', u'TEMP', u'TEMP_DM', u'TEMP_QC', u'TIME', u'TIME_BNDS', u'UCUR', u'UCUR_DM', u'UCUR_QC', u'UWND', u'VCUR', u'VWND', u'WCUR', u'WDIR', u'WDIR_DM', u'WDIR_QC', u'WSPD', u'WSPD_DM', u'WSPD_QC'], u'accessLevel': u'public'}\n",
      "{u'lang': [u'en-US'], u'_id': ObjectId('56d9a92bbe18b11a0849e28d'), u'description': u\"In situ, meteorological, navigational, physical and profile oceanographic data were collected, including AIR TEMPERATURE, BAROMETRIC PRESSURE, CURRENT DIRECTION, CURRENT SPEED, CURRENT SPEED - EAST/WEST COMPONENT (U), CURRENT SPEED - NORTH/SOUTH COMPONENT (V), DEPTH - OBSERVATION, HYDROSTATIC PRESSURE, INCOMING SOLAR RADIATION, LATITUDE, LONGITUDE, PRECIPITATION RATE, RELATIVE HUMIDITY, SALINITY, SIGMA-THETA, WATER TEMPERATURE, WIND DIRECTION and WIND SPEED from Moored Buoy at the NOAA Kuroshio Extension Observatory (KEO) using ADCP, CTD - moored CTD, anemometer, barometers, meteorological sensors, pyranometer and thermistor from 2004-06-16 to 2015-08-06. These data were provided to one of the OceanSITES Data Assembly Centers (DAC). The DAC formatted this information into the OceanSITES file format and passed it on to the Global Data Assembly Centers (GDAC).\\n\\nOceanSITES is a worldwide system of long-term, open-ocean reference stations measuring dozens of variables and monitoring the full depth of the ocean from air-sea interactions down to the seafloor. It is a network of stations or observatories measuring many aspects of the ocean's surface and water column using, where possible, automated systems with advanced sensors and telecommunications systems, yielding high time resolution, often in real-time, while building a long record.\", u'title': u'Gridded in situ, meteorological, navigational, physical and profile data collected by US DOC; NOAA; OAR; Pacific Marine Environmental Laboratory at OceanSITES site KEO from 2004-06-16 to 2015-08-06 (NCEI Accession 0130542)', u'keywords': [u'DOC/NOAA/NESDIS/NODC > National Oceanographic Data Center', u'NESDIS', u'NOAA', u'U.S. Department of Commerce', u'DOC/NOAA/NESDIS/NCEI > National Centers for Environmental Information', u'NESDIS', u'NOAA', u'U.S. Department of Commerce', u'oceanography', u'air_pressure_at_sea_level', u'air_temperature', u'depth', u'direction_of_sea_water_velocity', u'eastward_sea_water_velocity', u'eastward_wind', u'height', u'latitude', u'longitude', u'northward_sea_water_velocity', u'northward_wind', u'rainfall_rate', u'relative_humidity', u'sea_water_pressure', u'sea_water_salinity', u'sea_water_sigma_theta', u'sea_water_speed', u'sea_water_temperature', u'surface_downwelling_longwave_flux_in_air', u'surface_downwelling_shortwave_flux_in_air', u'surface_downwelling_shortwave_flux_in_air_standard_deviation', u'time', u'wind_speed', u'wind_to_direction', u'AIRT', u'AIRT_DM', u'AIRT_QC', u'ATMS', u'ATMS_DM', u'ATMS_QC', u'CDIR', u'CDIR_DM', u'CDIR_QC', u'CSPD', u'CSPD_DM', u'CSPD_QC', u'DEN', u'DEN_DM', u'DEN_QC', u'DEPCUR', u'DEPDEN', u'DEPPSAL', u'DEPTEMP', u'DEPTH', u'HEIGHTAIRT', u'HEIGHTATMS', u'HEIGHTLW', u'HEIGHTRAIN', u'HEIGHTRELH', u'HEIGHTSW', u'HEIGHTWIND', u'HEIGHTXY', u'LATITUDE', u'LONGITUDE', u'LW', u'LW_DM', u'LW_QC', u'PRES', u'PRES_DM', u'PRES_QC', u'PSAL', u'PSAL_DM', u'PSAL_QC', u'RAIN', u'RAIN_DM', u'RAIN_QC', u'RELH', u'RELH_DM', u'RELH_QC', u'SW', u'SWDEV', u'SWSPD', u'SW_DM', u'SW_QC', u'TEMP', u'TEMP_DM', u'TEMP_QC', u'TIME', u'UCUR', u'UWND', u'VCUR', u'VWND', u'WDIR', u'WDIR_DM', u'WDIR_QC', u'WSPD', u'WSPD_DM', u'WSPD_QC', u'XPOS', u'YPOS'], u'accessLevel': u'public'}\n",
      "{u'lang': [u'en-US'], u'_id': ObjectId('56d9a92bbe18b11a0849e3f6'), u'description': u\"In situ, meteorological, navigational, physical and profile oceanographic data were collected, including AIR TEMPERATURE, CONDUCTIVITY, DEPTH - OBSERVATION, HYDROSTATIC PRESSURE, INCOMING SOLAR RADIATION, LATITUDE, LONGITUDE, PRECIPITATION RATE, RELATIVE HUMIDITY, SALINITY, SIGMA-THETA, WATER TEMPERATURE, WIND DIRECTION and WIND SPEED from Moored Buoy at the NOAA Kuroshio Extension Observatory (KEO) using anemometer, conductivity sensor, meteorological sensors, pressure sensors, pyranometer and thermistor from 2004-06-16 to 2005-05-27. These data were provided to one of the OceanSITES Data Assembly Centers (DAC). The DAC formatted this information into the OceanSITES file format and passed it on to the Global Data Assembly Centers (GDAC).\\n\\nOceanSITES is a worldwide system of long-term, open-ocean reference stations measuring dozens of variables and monitoring the full depth of the ocean from air-sea interactions down to the seafloor. It is a network of stations or observatories measuring many aspects of the ocean's surface and water column using, where possible, automated systems with advanced sensors and telecommunications systems, yielding high time resolution, often in real-time, while building a long record.\", u'title': u'In situ, meteorological, navigational, physical and profile data collected by US DOC; NOAA; OAR; Pacific Marine Environmental Laboratory at OceanSITES site KEO from 2004-06-16 to 2005-05-27 (NCEI Accession 0130037)', u'keywords': [u'DOC/NOAA/NESDIS/NODC > National Oceanographic Data Center', u'NESDIS', u'NOAA', u'U.S. Department of Commerce', u'DOC/NOAA/NESDIS/NCEI > National Centers for Environmental Information', u'NESDIS', u'NOAA', u'U.S. Department of Commerce', u'oceanography', u'air_temperature', u'depth', u'eastward_wind', u'height', u'latitude', u'longitude', u'northward_wind', u'rainfall_rate', u'relative_humidity', u'sea_water_electrical_conductivity', u'sea_water_pressure', u'sea_water_salinity', u'sea_water_sigma_theta', u'sea_water_temperature', u'surface_downwelling_longwave_flux_in_air', u'surface_downwelling_shortwave_flux_in_air', u'time', u'wind_speed', u'wind_to_direction', u'AIRT', u'AIRT_QC', u'CNDC', u'CNDC_QC', u'DENS', u'DEPTH_CNDC', u'DEPTH_PRES', u'DEPTH_PSAL', u'DEPTH_TEMP', u'HEIGHT_AIRT', u'HEIGHT_LW', u'HEIGHT_RAIN', u'HEIGHT_RELH', u'HEIGHT_SW', u'HEIGHT_WIND', u'LATITUDE', u'LONGITUDE', u'LW', u'LW_QC', u'PRES', u'PRES_QC', u'PSAL', u'PSAL_QC', u'RAIN', u'RAIN_QC', u'RELH', u'RELH_QC', u'SW', u'SW_QC', u'TEMP', u'TEMP_QC', u'TIME', u'UWND', u'VWND', u'WDIR', u'WDIR_QC', u'WSPD', u'WSPD_QC'], u'accessLevel': u'public'}\n",
      "{u'lang': [u'en-US'], u'_id': ObjectId('56d9a92abe18b11a0849e156'), u'description': u'Monthly U.S. reported precipitation amounts in hundredths of inches (ex 100 is 1.00 inches) generated from the GTS metar(hourly) and synoptic(6-hourly)observations for selected cities based on the Weekly Weather and Crop Bulletin station list', u'title': u'Climate Prediction Center (CPC) Monthly U.S. Selected Cities Precipitation Summary', u'keywords': [u'Atmosphere > Precipitation > Rainfall', u'Precipitation', u'Total monthly precipitation', u'24hr max total precipitation', u'Precipitation departure', u'Geographic Region > United States', u'Vertical Location > Boundary Layer', u'climatologyMeteorologyAtmosphere', u'Atmosphere > Precipitation > Total Rainfall'], u'accessLevel': u'public'}\n",
      "{u'lang': [u'en-US'], u'_id': ObjectId('56d9a92abe18b11a0849df20'), u'description': u'This data set was distributed by NSIDC until October, 2003, when it was withdrawn from distribution because it duplicates the NOAA National Climatic Data Center (NCDC) data set DSI-3720. The NCDC data set is revised and updated beyond what was distributed by NSIDC. This archive consists of monthly precipitation measurements from 622 stations located in the Former Soviet Union.', u'title': u'Former Soviet Union Monthly Precipitation Archive, 1891-1993', u'keywords': [u'Continent > Europe > Eastern Europe > Russia', u'EARTH SCIENCE > Atmosphere > Precipitation > Precipitation Amount', u'EARTH SCIENCE > Atmosphere > Precipitation > Precipitation Rate', u'EARTH SCIENCE > Atmosphere > Precipitation > Rain', u'EARTH SCIENCE > Atmosphere > Precipitation > Snow', u'EARTH SCIENCE > Terrestrial Hydrosphere > Snow/Ice > Snow Cover', u'EOSDIS > Earth Observing System Data Information System', u'ESIP > Earth Science Information Partners Program', u'Asia', u'Europe', u'Former Soviet Union', u'GAUGE BUCKET', u'GAUGE POST', u'NIPHER', u'Precipitation', u'Rain', u'Rain Gauge', u'Russia', u'Soviet', u'State Hydrological Institute', u'Station', u'Tretiyakov', u'Ussr'], u'accessLevel': u'public'}\n",
      "{u'lang': [u'en-US'], u'_id': ObjectId('56d9a92abe18b11a0849df26'), u'description': u'This data set contains monthly mean precipitation sums from Russian arctic stations. Precipitation measurements were acquired using a Tretyakov precipitation gauge. Data have not been adjusted for wind bias. Data from 1967 and later are corrected for wetting loss (this correction was made by observers as they recorded the station data). Precipitation measurements from 216 stations are available. An analysis of existing precipitation data sets confirmed that data from these stations are not, at the time of publication, available in other commonly used precipitation data sets. Most data records begin in 1966 and end in 1990. The data are in tab-delimited ASCII format and available via FTP.', u'title': u'Monthly Mean Precipitation Sums at Russian Arctic Stations, 1966-1990', u'keywords': [u'Continent > Europe > Eastern Europe > Russia', u'Geographic Region > Arctic', u'Geographic Region > Northern Hemisphere', u'EARTH SCIENCE > Atmosphere > Precipitation > Precipitation Amount', u'Arctic', u'NOAA', u'Russian Arctic', u'SEARCH > Study of Environmental Arctic Change'], u'accessLevel': u'public'}\n",
      "{u'lang': [u'en-US'], u'_id': ObjectId('56d9a92abe18b11a0849e175'), u'description': u'Weekly U.S. minimum and maximum temperatures in whole degrees Fahrenheit and reported and estimated precipitation amounts in hundredths of inches(ex 100 is 1.00 inches) generated from the Global Telecommunications System(GTS) metar(hourly) and synoptic(6-hourly)observations', u'title': u'Climate Prediction Center (CPC)Weekly U.S. Precipitation and Temperature Summary', u'keywords': [u'Atmosphere > Atmospheric Temperature > Air Temperature', u'Atmosphere > Precipitation > Rain', u'Atmosphere > Precipitation > Precipitation Amount', u'Temperature', u'Precipitation', u'Normal temperature', u'Normal precipitation', u'Geographic Region > United States', u'Vertical Location > Boundary Layer', u'climatologyMeteorologyAtmosphere'], u'accessLevel': u'public'}\n",
      "{u'lang': [u'en-US'], u'_id': ObjectId('56d9a92bbe18b11a0849e3d5'), u'description': u\"In situ, meteorological, navigational, physical and profile oceanographic data were collected, including AIR TEMPERATURE, BAROMETRIC PRESSURE, CONDUCTIVITY, CURRENT DIRECTION, CURRENT SPEED, CURRENT SPEED - EAST/WEST COMPONENT (U), CURRENT SPEED - NORTH/SOUTH COMPONENT (V), DEPTH - OBSERVATION, HYDROSTATIC PRESSURE, INCOMING SOLAR RADIATION, LATITUDE, LONGITUDE, PRECIPITATION RATE, RELATIVE HUMIDITY, SALINITY, SIGMA-THETA, WATER TEMPERATURE, WIND DIRECTION and WIND SPEED from Moored Buoy at the Ocean Station Papa (PAPA) using GPS, anemometer, conductivity sensor, current meter, meteorological sensors, pressure sensors, pyranometer and thermistor from 2009-06-13 to 2010-06-15. These data were provided to one of the OceanSITES Data Assembly Centers (DAC). The DAC formatted this information into the OceanSITES file format and passed it on to the Global Data Assembly Centers (GDAC).\\n\\nOceanSITES is a worldwide system of long-term, open-ocean reference stations measuring dozens of variables and monitoring the full depth of the ocean from air-sea interactions down to the seafloor. It is a network of stations or observatories measuring many aspects of the ocean's surface and water column using, where possible, automated systems with advanced sensors and telecommunications systems, yielding high time resolution, often in real-time, while building a long record.\", u'title': u'In situ, meteorological, navigational, physical and profile data collected by US DOC; NOAA; OAR; Pacific Marine Environmental Laboratory at OceanSITES site PAPA from 2009-06-13 to 2010-06-15 (NCEI Accession 0130049)', u'keywords': [u'DOC/NOAA/NESDIS/NODC > National Oceanographic Data Center', u'NESDIS', u'NOAA', u'U.S. Department of Commerce', u'DOC/NOAA/NESDIS/NCEI > National Centers for Environmental Information', u'NESDIS', u'NOAA', u'U.S. Department of Commerce', u'oceanography', u'air_pressure', u'air_temperature', u'depth', u'direction_of_sea_water_velocity', u'eastward_sea_water_velocity', u'eastward_wind', u'height', u'latitude', u'longitude', u'northward_sea_water_velocity', u'northward_wind', u'rainfall_rate', u'relative_humidity', u'sea_water_electrical_conductivity', u'sea_water_pressure', u'sea_water_salinity', u'sea_water_sigma_theta', u'sea_water_speed', u'sea_water_temperature', u'surface_downwelling_longwave_flux_in_air', u'surface_downwelling_shortwave_flux_in_air', u'time', u'wind_speed', u'wind_to_direction', u'AIRT', u'AIRT2', u'AIRT2_QC', u'AIRT_QC', u'ATMP', u'ATMP_QC', u'CDIR', u'CDIR_QC', u'CNDC', u'CNDC2', u'CNDC2_QC', u'CNDC_QC', u'CSPD', u'CSPD_QC', u'DENS', u'DEPTH', u'DEPTH_CNDC', u'DEPTH_CNDC2', u'DEPTH_PRES', u'DEPTH_PSAL', u'DEPTH_TEMP', u'DEPTH_TEMP2', u'GPS_LATITUDE', u'GPS_LONGITUDE', u'HEIGHT_AIRT', u'HEIGHT_AIRT2', u'HEIGHT_ATMP', u'HEIGHT_LW', u'HEIGHT_LW2', u'HEIGHT_RAIN', u'HEIGHT_RAIN2', u'HEIGHT_RELH', u'HEIGHT_RELH2', u'HEIGHT_SW', u'HEIGHT_SW2', u'HEIGHT_WIND', u'HEIGHT_WIND2', u'LATITUDE', u'LONGITUDE', u'LW', u'LW2', u'LW2_QC', u'LW_QC', u'PRES', u'PRES_QC', u'PSAL', u'PSAL_QC', u'RAIN', u'RAIN2', u'RAIN2_QC', u'RAIN_QC', u'RELH', u'RELH2', u'RELH2_QC', u'RELH_QC', u'SW', u'SW2', u'SW2_QC', u'SW_QC', u'TEMP', u'TEMP2', u'TEMP2_QC', u'TEMP_QC', u'TIME', u'UCUR', u'UWND', u'UWND2', u'VCUR', u'VWND', u'VWND2', u'WDIR', u'WDIR2', u'WDIR2_QC', u'WDIR_QC', u'WSPD', u'WSPD2', u'WSPD2_QC', u'WSPD_QC'], u'accessLevel': u'public'}\n",
      "{u'lang': [u'en-US'], u'_id': ObjectId('56d9a92abe18b11a0849e17d'), u'description': u'Monthly U.S. minimum and maximum temperatures in whole degrees Fahrenheit and reported and estimated precipitation amounts in hundredths of inches(ex 100 is 1.00 inches) generated from the Global Telecommunications System (GTS) metar(hourly) and synoptic(6-hourly)observations', u'title': u'Climate Prediction Center(CPC) Monthly U.S. Precipitation and Temperature Summary', u'keywords': [u'Atmosphere > Atmospheric Temperature > Air Temperature', u'Atmosphere > Precipitation > Rain', u'Atmosphere > Precipitation > Precipitation Amount', u'Temperature', u'Precipitation', u'Normal temperature', u'Normal precipitation', u'Geographic Region > United States', u'Vertical Location > Boundary Layer', u'climatologyMeteorologyAtmosphere'], u'accessLevel': u'public'}\n",
      "{u'lang': [u'en-US'], u'_id': ObjectId('56d9a92abe18b11a0849e152'), u'description': u'Atmospheric blocking is commonly referred to as the situation when the normal zonal flow is interrupted by strong and persistent meridional flow. The normal eastward progression of synoptic disturbances is obstructed leading to episodes of prolonged extreme weather conditions. On intraseasonal time scales the persistent weather extremes can last from several days up to a few weeks, often accompanied by significant temperature and precipitation anomalies. Numerous definitions of blocking exist in the literature and all involve a level if subjectivity. We use the blocking index of Tibaldi and Molteni (1990) modified from that of Lejenas and Okland (1983). This product displays the daily observed blocking index for the past 3 months up to and including the present day. Additionally, outlookss of the blocking index and the 500 hPa geopotential height field anomalies are generated form the NCEP Global Forecast System (GFS) model. The outlooks mare displayed for days 1-9 for both the northern and southern Hemispheres. The product is not archived so a historical time series is not available. To produce a time series it is recommended that the methodology of Tibaldi and Molteni (1990) be applied using the reanalysis dataset of choice. Blocking frequency over the 1950-2000 time period and composites as a function of ENSO phase are also provided.', u'title': u'Climate Prediction Center (CPC) Northern and Southern Hemisphere Blocking Index', u'keywords': [u'Climate Indicators > Teleconnections > Blocking Index', u'Blocking Index', u'500 hPa Geopotential Height', u'intraseasonal climate variability', u'Persistent weather anomalies', u'atmospheric patterns', u'atmospheric teleconnections', u'Geographic Region > Global', u'Vertical Location > troposphere', u'climatologyMeteorologyAtmosphere'], u'accessLevel': u'public'}\n",
      "{u'lang': [u'en-US'], u'_id': ObjectId('56d9a92abe18b11a0849df32'), u'description': u'This data set contains precipitation data originally recorded in log books at 65 coastal and island meteorological stations, and later digitized at the Arctic and Antarctic Research Institute (AARI), St. Petersburg, Russia, under the direction of Vladimir Radionov. Records from most stations begin in 1940. Instrumentation was generally a rain gauge with Nipher shield until the early 1950s (for most stations), when the Tretyakov precipitation gauge replaced earlier instrumentation.  Data have not been adjusted for gauge type or wind bias. Observers corrected the data from 1967-1990 for wetting loss as they recorded the station data.', u'title': u'Daily Precipitation Sums at Coastal and Island Russian Arctic Stations, 1940-1990', u'keywords': [u'Continent > Europe > Eastern Europe > Russia', u'Geographic Region > Arctic', u'EARTH SCIENCE > Atmosphere > Precipitation > Precipitation Amount', u'AARI', u'coastal precipitation', u'island precipitation', u'land-sea boundary', u'NOAA'], u'accessLevel': u'public'}\n",
      "{u'lang': [u'en-US'], u'_id': ObjectId('56d9a92abe18b11a0849e188'), u'description': u'Weekly U.S. reported precipitation amounts in hundredths of inches (ex 100 is 1.00 inches) generated from the GTS metar(hourly) and synoptic(6-hourly)observations for selected cities based on the Weekly Weather and Crop Bulletin station list', u'title': u'Climate Prediction Center (CPC) Weekly U.S. Selected Cities Precipitation Summary', u'keywords': [u'Atmosphere > Precipitation > Rainfall', u'Precipitation', u'Geographic Region > United States', u'Vertical Location > Boundary Layer', u'climatologyMeteorologyAtmosphere', u'Atmosphere > Precipitation > Total Rainfall'], u'accessLevel': u'public'}\n",
      "{u'lang': [u'en-US'], u'_id': ObjectId('56d9a92abe18b11a0849e18b'), u'description': u'As of 2012, a new gridded, daily 30 year precipitation estimation dataset centered over Africa at 0.1? spatial resolution has been developed. The Africa Rainfall Climatology version 2 (ARC2) is a revision of the first version of the ARC and is consistent with the operational Rainfall Estimation, version 2, algorithm (RFE2). ARC2 uses inputs from two sources: 1) 3-hourly geostationary infrared (IR) data centered over Africa from the European Organization for the Exploitation of Meteorological Satellites (EUMETSAT) and 2) quality controlled Global Telecommunication System (GTS) gauge observations reporting 24-hour rainfall accumulations over Africa. The main difference between with ARC2 resides in the recalibration of all Meteosat First Generation (MFG) IR data (1983-2005). Validation and inter-comparison results show that ARC2 is a major improvement over ARC1, and is consistent with other long-term historical datasets such as Global Precipitation Climatology Project (GPCP) and Climate Prediction Center Merged Analysis of Precipitation (CMAP).', u'title': u'Climate Prediction Center (CPC) Africa Rainfall Climatology Version 2.0 (ARC2)', u'keywords': [u'Atmosphere > Precipitation > Precipitation Amount', u'Atmosphere > Precipitation > Rain', u'Atmosphere > Precipitation > Precipitation Rate', u'EARTH SCIENCE', u'ATMOSPHERE', u'PRECIPITATION', u'RAIN', u'DROUGHT', u'FLOODING', u'Continent > Africa', u'climatologyMeteorologyAtmosphere'], u'accessLevel': u'public'}\n",
      "{u'lang': [u'en-US'], u'_id': ObjectId('56d9a92abe18b11a0849e155'), u'description': u'The Climate Prediction Center (CPC) issues 8 to 14 day probabilistic precipitation outlooks for the United States. The 8-14 day Outlook gives the confidence that a forecaster has, given as a probability, that the observed precipitation, totaled over upcoming days 8, 9, 10, 11, 12, 13, and 14 will be in the range of one of three possible categories: below median (B), near median (N), or above median (A). For any calendar 7-day period, these categories can be defined by fitting a Gamma distribution to the 30 years of the climatology period, 1981-2010, and dividing this distribution into equally likely partitions (below median, near median, and above median). Note that the base period for the thirty year climatology (currently beginning in 1981 and ending in 2010) is updated once per decade. Because each of these categories occurs 1/3 of the time for any particular calendar 7-day period, the probability of any category being selected at random from the 1981-2010 set of 30 observations is one in three (1/3), or 33.33%. This is also called the climatological probability. The sum of the climatological probabilities of the three categories is 100%.', u'title': u'Climate Prediction Center (CPC) 8 to 14 Day Probabilistic Precipitation Outlook for the Contiguous United States and Alaska', u'keywords': [u'Atmosphere > Precipitation > Precipitation Amount', u'climate outlooks', u'8 to 14 day outlook', u'8 to 14 day forecast', u'8-14 day outlook', u'8-14 day forecast', u'8-14 day precipitation outlook', u'8-14 day precipitation forecast', u'8 to 14 day precipitation outlook', u'8 to 14 day precipitation forecast', u'extended weather forecast', u'two week weather forecast', u'climate forecast', u'2 week forecast', u'8-14 day weather outlook', u'Continent > North America > United States of America', u'Vertical Location > Boundary layer', u'climatologyMeteorologyAtmosphere'], u'accessLevel': u'public'}\n",
      "{u'lang': [u'en-US'], u'_id': ObjectId('56d9a92abe18b11a0849e14b'), u'description': u'This global monthly precipitation analysis is called the Climate Prediction Center (CPC) Precipitation Reconstruction (PREC). This analysis consists of two components, the land analysis PREC/L and oceanic analysis PREC/O. The land analysis is defined by interpolation of gauge observations from the Global Historical Climatology Network (GHCN) version 2, and the Climate Prediction Center Climate Anomaly Monitoring System (CAMS) dataset through the Optimal Interpolation (OI) algorithm. The oceanic analysis is defined by Empirical Orthogonal Function (EOF) reconstruction of historical gauge observation from islands and atolls and land. The output resolutions are 0.5deg, 1.0deg, and 2.5deg latitude/longitude for the PREC/L, and 2.5deg latitude/longitude for PREC/O. The analysis covers time period from 1948 to current and is updated on real time basis. The data set is available at format of ASCII and binary.', u'title': u'Climate Prediction Center(CPC) Monthly Precipitation Reconstruction (PREC)at Spatial Resolution of 0.5 degree.', u'keywords': [u'Atmosphere > Precipitation > Precipitation Amount', u'precipitation', u'drought', u'flood', u'Geographic Region > Global', u'Vertical Location > Land Surface', u'climatologyMeteorologyAtmosphere'], u'accessLevel': u'public'}\n",
      "{u'lang': [u'en-US'], u'_id': ObjectId('56d9a92abe18b11a0849e014'), u'description': u\"The National Digital Forecast Database (NDFD) contains a seamless mosaic of the National Weather Service's (NWS) digital forecasts of precipitation probabilities. In collaboration with NWS National Centers for Environmental Prediction (NCEP) and NWS Weather Forecast Offices (WFO), the central NDFD server ingests 5-km, 2-dimensional grids of precipitation probabilities, and creates experimental forecast data mosaics for the coterminous United States (CONUS), Alaska, Hawaii, and Guam.\", u'title': u\"48-Hour Forecast of 12 Hour Probability of Precipitation from the National Weather Service's National Digital Forecast Database (NDFD)\", u'keywords': [u'precipitation', u'weather', u'forecasts', u'United States'], u'accessLevel': u'public'}\n",
      "{u'lang': [u'en-US'], u'_id': ObjectId('56d9a92abe18b11a0849e166'), u'description': u'This global monthly precipitation analysis is called the Climate Prediction Center (CPC) Precipitation Reconstruction (PREC). This analysis consists of two components, the land analysis PREC/L and oceanic analysis PREC/O. The land analysis is defined by interpolation of gauge observations from the Global Historical Climatology Network (GHCN) version 2, and the Climate Prediction Center Climate Anomaly Monitoring System (CAMS) dataset through the Optimal Interpolation (OI) algorithm. The oceanic analysis is defined by Empirical Orthogonal Function (EOF) reconstruction of historical gauge observation from islands and atolls and land. The output resolutions are 0.5deg, 1.0deg, and 2.5deg latitude/longitude for the PREC/L, and 2.5deg latitude/longitude for PREC/O. The analysis covers time period from 1948 to current and is updated on real time basis. The data set is available at format of ascii and binary.', u'title': u'Climate Prediction Center (CPC)Monthly Precipitation Reconstruction (PREC) Spatial Resolution of 2.5 degree', u'keywords': [u'Atmosphere > Precipitation > Precipitation Amount', u'precipitation', u'drought', u'flood', u'Geographic Region > Global', u'Vertical Location > Land Surface', u'climatologyMeteorologyAtmosphere'], u'accessLevel': u'public'}\n",
      "{u'lang': [u'en-US'], u'_id': ObjectId('56d9a92abe18b11a0849e151'), u'description': u'GOES Precipitation Index (GPI) is a precipitation estimation algorithm. The GPI technique estimates tropical rainfall using cloud-top temperature as the sole predictor. The daily data are available from October 1996.', u'title': u'Climate Prediction Center(CPC)Daily GOES Precipitation Index (GPI)', u'keywords': [u'Atmosphere > Precipitation > Precipitation Amount', u'precipitation', u'Index', u'geostationary', u'Geographic Region > Tropics', u'Vertical Location > Boundary layer', u'climatologyMeteorologyAtmosphere'], u'accessLevel': u'public'}\n",
      "{u'lang': [u'en-US'], u'_id': ObjectId('56d9a92bbe18b11a0849e3dd'), u'description': u\"In situ, meteorological, navigational, physical and profile oceanographic data were collected, including AIR TEMPERATURE, BAROMETRIC PRESSURE, DEPTH - OBSERVATION, HYDROSTATIC PRESSURE, INCOMING SOLAR RADIATION, LATITUDE, LONGITUDE, PRECIPITATION RATE, RELATIVE HUMIDITY, SALINITY, WATER TEMPERATURE, WIND DIRECTION and WIND SPEED from Moored Buoy at the JAMSTEC Kuroshio Extension Observatory (JKEO) using CTD - moored CTD, anemometer, barometers, meteorological sensors, pyranometer and thermistor from 2008-02-29 to 2012-06-23. These data were provided to one of the OceanSITES Data Assembly Centers (DAC). The DAC formatted this information into the OceanSITES file format and passed it on to the Global Data Assembly Centers (GDAC).\\n\\nOceanSITES is a worldwide system of long-term, open-ocean reference stations measuring dozens of variables and monitoring the full depth of the ocean from air-sea interactions down to the seafloor. It is a network of stations or observatories measuring many aspects of the ocean's surface and water column using, where possible, automated systems with advanced sensors and telecommunications systems, yielding high time resolution, often in real-time, while building a long record.\", u'title': u'In situ, meteorological, navigational, physical and profile data collected by Japan Agency for Marine-Earth Science and Technology (JAMSTEC) at OceanSITES site JKEO from 2008-02-29 to 2012-06-23 (NCEI Accession 0130035)', u'keywords': [u'DOC/NOAA/NESDIS/NODC > National Oceanographic Data Center', u'NESDIS', u'NOAA', u'U.S. Department of Commerce', u'DOC/NOAA/NESDIS/NCEI > National Centers for Environmental Information', u'NESDIS', u'NOAA', u'U.S. Department of Commerce', u'oceanography', u'Latitude of each location', u'Latitude of each position', u'Longitude of each location', u'Longitude of each position', u'air_pressure_at_sea_level', u'air_temperature', u'depth', u'eastward_wind', u'latitude', u'longitude', u'northward_wind', u'quality flag for air_temperature', u'quality flag for eastward_wind', u'quality flag for northward_wind', u'quality flag for rainfall_rate', u'quality flag for relative_humidity', u'quality flag for sea water pressure', u'quality flag for sea_water_salinity', u'quality flag for sea_water_temperature', u'quality flag for surface_downwelling_longwave_flux_in_air', u'quality flag for surface_downwelling_shortwave_flux_in_air', u'quality flag for wind_direction', u'quality flag for wind_speed', u'rainfall_rate', u'relative_humidity', u'sea water pressure', u'sea_water_pressure', u'sea_water_salinity', u'sea_water_temperature', u'surface_downwelling_longwave_flux_in_air', u'surface_downwelling_shortwave_flux_in_air', u'time', u'wind_direction', u'wind_speed', u'AIRT', u'AIRT_QC', u'DEPTH', u'LAT', u'LATITUDE', u'LON', u'LONGITUDE', u'LW', u'LW_QC', u'PRES', u'PRES_QC', u'PSAL', u'PSAL_QC', u'RAIN', u'RAIN_QC', u'RELH', u'RELH_QC', u'SLP', u'SST', u'SW', u'SW_QC', u'TEMP', u'TEMP_QC', u'TIME', u'UWND', u'UWND_QC', u'VWND', u'VWND_QC', u'WDIR', u'WDIR_QC', u'WSPD', u'WSPD_QC'], u'accessLevel': u'public'}\n",
      "{u'lang': [u'en-US'], u'_id': ObjectId('56d9a92abe18b11a0849e150'), u'description': u'Observational reports of daily precipitation (1200 UTC to 1200 UTC) are made by members of the NWS Automated Surface Observing Systems (ASOS) network; NWS Cooperative Observer Network (COOP); the Hydrometeorological Automated Data System (HADS) network; the SNOTEL (SNOwpack TELemetry) network; and the Integrated Flood Observing and Warning System (IFLOWS) network. Reports from approximately 9,000 stations across the US including Alaska, Hawaii, and Puerto Rico are sent on a daily basis to the Climate Prediction Center (CPC). During the winter season when the type of precipitation is frozen, the amount reported is the liquid equivalent. CPC processes these reports once per day. All reports for the same day are put into an ASCII text file whose name includes the date of observation. These data are used by CPC in its role of supporting the Joint Agricultural Weather Facility (JAWF).', u'title': u'Climate Prediction Center (CPC) U.S. Daily Precipitation Observations', u'keywords': [u'Atmosphere > Precipitation > Precipitation Amount', u'Atmosphere > Precipitation > Rain', u'Rainfall', u'Geographic Region > Continent > North America > United States of America', u'Vertical Location > Boundary layer', u'climatologyMeteorologyAtmosphere'], u'accessLevel': u'public'}\n",
      "{u'lang': [u'en-US'], u'_id': ObjectId('56d9a92abe18b11a0849e14c'), u'description': u'This ASCII dataset contains monthly total precipitation for 102 Forecast Divisions within the conterminous U.S. It is derived from the monthly NCDC climate division data. These data are from daily reports from cooperative observers as well as first order stations. The CPC forecast division data combine NCDC climate divisions to yield regions of approximately equal area throughout the conterminous U.S. Data represent the approximate area average total monthly precipitation within each forecast division.', u'title': u'Monthly Total Precipitation Observation for Climate Prediction Center (CPC)Forecast Divisions', u'keywords': [u'Atmosphere > Precipitation > Precipitation Amount', u'Monthly total precipitation', u'Continent>North America>United States of America', u'Vertical Location > Land Surface', u'climatologyMeteorologyAtmosphere'], u'accessLevel': u'public'}\n",
      "{u'lang': [u'en-US'], u'_id': ObjectId('56d9a92abe18b11a0849e149'), u'description': u'The Ensemble Canonical Correlation Analysis (ECCA) precipitation forecast is a 90-day (seasonal) outlook of US surface precipitation anomalies. The ECCA uses Canonical Correlation Analysis (CCA), an empirical statistical method that finds patterns of predictors (variables used to make the prediction) and predictands (variables to be predicted) that maximize the correlation between them. The most recent available predictor data for different atmospheric/oceanic variables are projected onto the loading patterns to create forecasts. The ensemble refers to forecasts produced by using each predictor separately to create a forecast. The final forecast is an equally weighted average of the ensemble of forecasts. The model is trained from 1953 to the year before the present year to create the loading patterns. The available forecasts are rotated, meaning that only the most recently created forecasts are available. Previously made forecasts are not archived. For each produced forecast, 13 different leads (0.5 months with increment of 1 month for subsequent leads of forecasts are created each with a different valid date).', u'title': u'Climate Prediction Center (CPC)Ensemble Canonical Correlation Analysis 90-Day Seasonal Forecast of Precipitation', u'keywords': [u'Atmosphere > Precipitation > Precipitation Anomalies', u'precipitation', u'precipitation anomalies', u'statistical outlook', u'seasonal outlook', u'Continent > North America > United States of America', u'Vertical Location > Land Surface', u'climatologyMeteorologyAtmosphere'], u'accessLevel': u'public'}\n",
      "{u'lang': [u'en-US'], u'_id': ObjectId('56d9a92abe18b11a0849dfa3'), u'description': u\"The National Digital Forecast Database (NDFD) contains a seamless mosaic of the National Weather Service's (NWS) digital forecasts of precipitation probabilities. In collaboration with NWS National Centers for Environmental Prediction (NCEP) and NWS Weather Forecast Offices (WFO), the central NDFD server ingests 5-km, 2-dimensional grids of precipitation probabilities, and creates experimental forecast data mosaics for the coterminous United States (CONUS), Alaska, Hawaii, and Guam.\", u'title': u\"24-Hour Forecast of 12 Hour Probability of Precipitation from the National Weather Service's National Digital Forecast Database (NDFD)\", u'keywords': [u'precipitation', u'weather', u'forecasts', u'United States'], u'accessLevel': u'public'}\n",
      "{u'lang': [u'en-US'], u'_id': ObjectId('56d9a92abe18b11a0849dff2'), u'description': u\"The National Digital Forecast Database (NDFD) contains a seamless mosaic of the National Weather Service's (NWS) digital forecasts of precipitation amounts. In collaboration with NWS National Centers for Environmental Prediction (NCEP) and NWS Weather Forecast Offices (WFO), the central NDFD server ingests 5-km, 2-dimensional grids of precipitation amounts, and creates experimental forecast data mosaics for the coterminous United States (CONUS), Alaska, Hawaii, and Guam.\", u'title': u\"48-Hour Forecast of Precipitation Amounts from the National Weather Service's National Digital Forecast Database (NDFD)\", u'keywords': [u'precipitation', u'weather', u'forecasts', u'United States'], u'accessLevel': u'public'}\n",
      "{u'lang': [u'en-US'], u'_id': ObjectId('56d9a92abe18b11a0849e118'), u'description': u\"In situ, meteorological, navigational, physical and profile oceanographic data were collected, including AIR TEMPERATURE, DEPTH - OBSERVATION, HYDROSTATIC PRESSURE, INCOMING SOLAR RADIATION, LATITUDE, LONGITUDE, PRECIPITATION RATE, RELATIVE HUMIDITY, SALINITY, SEA SURFACE TEMPERATURE, SIGMA-THETA, WATER TEMPERATURE, WIND DIRECTION and WIND SPEED from Moored Buoy at the TAO/TRITON Site 2N 95W (T2N95W) using GPS, anemometer, conductivity sensor, meteorological sensors, pressure sensors, pyranometer, radiometer and thermistor from 1999-11-28 to 2015-06-17. These data were provided to one of the OceanSITES Data Assembly Centers (DAC). The DAC formatted this information into the OceanSITES file format and passed it on to the Global Data Assembly Centers (GDAC).\\n\\nOceanSITES is a worldwide system of long-term, open-ocean reference stations measuring dozens of variables and monitoring the full depth of the ocean from air-sea interactions down to the seafloor. It is a network of stations or observatories measuring many aspects of the ocean's surface and water column using, where possible, automated systems with advanced sensors and telecommunications systems, yielding high time resolution, often in real-time, while building a long record.\", u'title': u'In situ, meteorological, navigational, physical and profile data collected by US DOC; NOAA; NWS; National Data Buoy Center at OceanSITES site T2N95W from 1999-11-28 to 2015-06-17 (NCEI Accession 0130852)', u'keywords': [u'DOC/NOAA/NESDIS/NODC > National Oceanographic Data Center', u'NESDIS', u'NOAA', u'U.S. Department of Commerce', u'DOC/NOAA/NESDIS/NCEI > National Centers for Environmental Information', u'NESDIS', u'NOAA', u'U.S. Department of Commerce', u'oceanography', u'EARTH SCIENCE > ATMOSPHERE > ATMOSPHERIC RADIATION > LONGWAVE RADIATION', u'EARTH SCIENCE > ATMOSPHERE > ATMOSPHERIC RADIATION > SHORTWAVE RADIATION', u'EARTH SCIENCE > ATMOSPHERE > ATMOSPHERIC TEMPERATURE > AIR TEMPERATURE', u'EARTH SCIENCE > ATMOSPHERE > ATMOSPHERIC WATER VAPOR > HUMIDITY', u'EARTH SCIENCE > ATMOSPHERE > ATMOSPHERIC WINDS > SURFACE WINDS', u'WIND SPEED/WIND DIRECTION', u'EARTH SCIENCE > ATMOSPHERE > PRECIPITATION > PRECIPITATION AMOUNT', u'PRECIPITATION RATE', u'EARTH SCIENCE > CLIMATE INDICATORS > ATMOSPHERIC/OCEAN INDICATORS > TELECONNECTIONS > EL NINO SOUTHERN OSCILLATION (ENSO)', u'ENSO', u'EARTH SCIENCE > OCEANS > OCEAN CIRCULATION > BUOY POSITION', u'EARTH SCIENCE > OCEANS > OCEAN HEAT BUDGET > LONGWAVE RADIATION', u'EARTH SCIENCE > OCEANS > OCEAN HEAT BUDGET > SHORTWAVE RADIATION', u'EARTH SCIENCE > OCEANS > OCEAN PRESSURE > WATER PRESSURE', u'EARTH SCIENCE > OCEANS > OCEAN TEMPERATURE > WATER TEMPERATURE', u'SEA SURFACE TEMPERATURE', u'EARTH SCIENCE > OCEANS > OCEAN WINDS > SURFACE WINDS', u'EARTH SCIENCE > OCEANS > SALINITY/DENSITY > SALINITY', u'DENSITY', u'air_temperature', u'depth', u'eastward_wind', u'height', u'latitude', u'longitude', u'northward_wind', u'rainfall_rate', u'relative_humidity', u'sea_surface_temperature', u'sea_water_practical_salinity', u'sea_water_pressure', u'sea_water_sigma_theta', u'sea_water_temperature', u'surface_downwelling_longwave_flux_in_air', u'surface_downwelling_shortwave_flux_in_air', u'time', u'wind_speed', u'wind_to_direction', u'AIRT', u'AIRT_DM', u'AIRT_QC', u'DEPTH', u'HEIGHT', u'HEIGHT_WIND', u'LATITUDE', u'LONGITUDE', u'LW', u'LW_DM', u'LW_QC', u'PRES', u'PRES_DM', u'PRES_QC', u'PSAL', u'PSAL_DM', u'PSAL_QC', u'RAIN', u'RAIN_DM', u'RAIN_QC', u'RELH', u'RELH_DM', u'RELH_QC', u'SIGT', u'SIGT_DM', u'SIGT_QC', u'SST', u'SST_DM', u'SST_QC', u'SW', u'SW_DM', u'SW_QC', u'TEMP', u'TEMP_DM', u'TEMP_QC', u'TIME', u'TIME_BNDS', u'UWND', u'VWND', u'WDIR', u'WDIR_DM', u'WDIR_QC', u'WSPD', u'WSPD_DM', u'WSPD_QC'], u'accessLevel': u'public'}\n",
      "{u'lang': [u'en-US'], u'_id': ObjectId('56d9a92abe18b11a0849e022'), u'description': u\"The National Digital Forecast Database (NDFD) contains a seamless mosaic of the National Weather Service's (NWS) digital forecasts of precipitation probabilities. In collaboration with NWS National Centers for Environmental Prediction (NCEP) and NWS Weather Forecast Offices (WFO), the central NDFD server ingests 5-km, 2-dimensional grids of precipitation probabilities, and creates experimental forecast data mosaics for the coterminous United States (CONUS), Alaska, Hawaii, and Guam.\", u'title': u\"24-Hour Forecast of 12 Hour Probability of Precipitation from the National Weather Service's National Digital Forecast Database (NDFD)\", u'keywords': [u'precipitation', u'weather', u'forecasts', u'United States'], u'accessLevel': u'public'}\n",
      "{u'lang': [u'en-US'], u'_id': ObjectId('56d9a92abe18b11a0849e051'), u'description': u\"The National Digital Forecast Database (NDFD) contains a seamless mosaic of the National Weather Service's (NWS) digital forecasts of precipitation amounts. In collaboration with NWS National Centers for Environmental Prediction (NCEP) and NWS Weather Forecast Offices (WFO), the central NDFD server ingests 5-km, 2-dimensional grids of precipitation amounts, and creates experimental forecast data mosaics for the coterminous United States (CONUS), Alaska, Hawaii, and Guam.\", u'title': u\"24-Hour Forecast of Precipitation Amounts from the National Weather Service's National Digital Forecast Database (NDFD)\", u'keywords': [u'precipitation', u'weather', u'forecasts', u'United States'], u'accessLevel': u'public'}\n",
      "{u'lang': [u'en-US'], u'_id': ObjectId('56d9a92abe18b11a0849e187'), u'description': u'The Climate Prediction Center (CPC) issues a series of thirteen probabilistic three-month precipitation outlooks for the United States. CPC issues the thirteen outlooks each month with lead times from 0.5 months to 12.5 months. For example, in mid-January, CPC will issue Three-Month Precipitation Outlooks for February through April, March through May, April through June, and so on into February through April of the following year. A new set of outlooks would then be released in mid-February for March through May, April through June, and so on into March through May of the following year. CPC expresses the outlooks in a 3-category probabilistic format as the chance the total precipitation for the period will be above, below, or near median. CPC bases its definition of above median, near median, and below median by fitting a Gamma distribution to a thirty year climatology and dividing this distribution into equally likely thirds. Note that the base period for the thirty year climatology (currently beginning in 1981 and ending in 2010) is updated once per decade. CPC indicates the probability of the most likely category with shaded contours and labels the centers of maximum probability with the letters \"A\" (for Above Median), \"B\" (for Below Median), or \"N\" (for Near Median). For areas where a favored category cannot be determined, CPC indicates those areas with an \"EC\" meaning \"Equal Chances\". CPC also accompanies the outlook maps with a technical discussion of the meteorological and climatological basis for the outlooks. CPC may include analysis of statistical and numerical models, meteorological and sea-surface temperature patterns, trends and past analogs, and confidence factors in this technical discussion.', u'title': u'Climate Prediction Center (CPC) Three Month Probabilistic Precipitation Outlook for the Contiguous United States and Alaska', u'keywords': [u'Atmosphere > Precipitation > Precipitation Amount', u'Atmosphere > Precipitation > Precipitation Anomalies', u'Atmosphere > Precipitation > Precipitation Rate', u'Precipitation Anomalies', u'Precipitation Probabilities', u'Seasonal Outlooks', u'Seasonal Precipitation', u'Three Month Outlooks', u'Three Month Precipitation', u'Precipitation Categories', u'Precipitation', u'precipitation Categories', u'long range weather forecast', u'long range forecast', u'long term weather forecast', u'noaa long range forecast', u'long range weather forecast noaa', u'long range forecast noaa', u'long term forecast', u'noaa long range', u'long term weather forecast noaa', u'noaa long term forecast', u'national weather service long range forecast', u'noaa long range weather forecast', u'long range weather', u'90 day forecast', u'90 day weather forecast', u'nws long range forecast', u'long term weather outlook', u'climate forecast', u'climate outlook', u'long term forecast noaa', u'Continent > North America > United States of America', u'Vertical Location > Boundary layer', u'climatologyMeteorologyAtmosphere'], u'accessLevel': u'public'}\n",
      "{u'lang': [u'en-US'], u'_id': ObjectId('56d9a92abe18b11a0849e02e'), u'description': u\"The National Digital Forecast Database (NDFD) contains a seamless mosaic of the National Weather Service's (NWS) digital forecasts of precipitation probabilities. In collaboration with NWS National Centers for Environmental Prediction (NCEP) and NWS Weather Forecast Offices (WFO), the central NDFD server ingests 5-km, 2-dimensional grids of precipitation probabilities, and creates experimental forecast data mosaics for the coterminous United States (CONUS), Alaska, Hawaii, and Guam.\", u'title': u\"48-Hour Forecast of 12 Hour Probability of Precipitation from the National Weather Service's National Digital Forecast Database (NDFD)\", u'keywords': [u'precipitation', u'weather', u'forecasts', u'United States'], u'accessLevel': u'public'}\n",
      "{u'lang': [u'en-US'], u'_id': ObjectId('56d9a92abe18b11a0849e16e'), u'description': u'The Climate Prediction Center (CPC) issues a probabilistic one-month precipitation outlook for the United States twice a month. CPC issues an initial monthly outlook with a lead time of 0.5 months on the third Thursday of every month. CPC issues an updated version of the monthly outlook with a lead time of 0.0 months on the last day of each month. For example, in mid-January, CPC will issue a One-Month Probabilistic Precipitation Outlook for February. An updated version of this outlook (valid for February) would then be issued at the end of January. New outlooks, valid for March, would then be released in mid-February and the end of February, respectively. CPC expresses the outlooks in a 3-category probabilistic format as the chance the total precipitation for the period will be above, below, or near median. CPC bases its definition of above median, near median, and below median by fitting a Gamma distribution to a thirty year climatology and dividing this distribution into equally likely thirds. Note that the base period for the thirty year climatology (currently beginning in 1981 and ending in 2010) is updated once per decade. CPC indicates the probability of the most likely category with shaded contours and labels the centers of maximum probability with the letters \"A\" (for Above Median), \"B\" (for Below Median), or \"N\" (for Near Median). For areas where a favored category cannot be determined, CPC indicates those areas with an \"EC\" meaning \"Equal Chances\". CPC also accompanies the outlook maps with a technical discussion of the meteorological and climatological basis for the outlooks. CPC may include analysis of statistical and numerical models, meteorological and sea-surface temperature patterns, trends and past analogs, and confidence factors in this technical discussion.', u'title': u'Climate Prediction Center (CPC) One Month Probabilistic Precipitation Outlook for the Contiguous United States and Alaska', u'keywords': [u'Atmosphere > Precipitation > Precipitation Amount', u'Atmosphere > Precipitation > Precipitation Anomalies', u'Atmosphere > Precipitation > Precipitation Rate', u'Precipitation Anomalies', u'Precipitation Probabilities', u'Seasonal Outlooks', u'Seasonal Precipitation', u'Monthly Outlooks', u'Monthly Precipitation', u'One Month Outlooks', u'One Month Precipitation', u'Precipitation Categories', u'Precipitation', u'precipitation Categories', u'long range weather forecast', u'long range forecast', u'long term weather forecast', u'noaa long range forecast', u'long range weather forecast noaa', u'long range forecast noaa', u'long term forecast', u'noaa long range', u'long term weather forecast noaa', u'noaa long term forecast', u'national weather service long range forecast', u'noaa long range weather forecast', u'long range weather', u'30 day forecast', u'30 day weather forecast', u'nws long range forecast', u'long term weather outlook', u'climate forecast', u'climate outlook', u'long term forecast noaa', u'Continent > North America > United States of America', u'Vertical Location > Boundary layer', u'climatologyMeteorologyAtmosphere'], u'accessLevel': u'public'}\n",
      "{u'lang': [u'en-US'], u'_id': ObjectId('56d9a92abe18b11a0849e0f4'), u'description': u\"In situ, meteorological, navigational, physical and profile oceanographic data were collected, including AIR TEMPERATURE, CURRENT DIRECTION, CURRENT SPEED, CURRENT SPEED - EAST/WEST COMPONENT (U), CURRENT SPEED - NORTH/SOUTH COMPONENT (V), DEPTH - OBSERVATION, HYDROSTATIC PRESSURE, LATITUDE, LONGITUDE, PRECIPITATION RATE, RELATIVE HUMIDITY, SALINITY, SEA SURFACE TEMPERATURE, SIGMA-THETA, WATER TEMPERATURE, WIND DIRECTION and WIND SPEED from Moored Buoy at the TAO/TRITON Site 2S 140W (T2S140W) using GPS, anemometer, conductivity sensor, current meter, meteorological sensors, pressure sensors and thermistor from 2000-09-22 to 2015-08-06. These data were provided to one of the OceanSITES Data Assembly Centers (DAC). The DAC formatted this information into the OceanSITES file format and passed it on to the Global Data Assembly Centers (GDAC).\\n\\nOceanSITES is a worldwide system of long-term, open-ocean reference stations measuring dozens of variables and monitoring the full depth of the ocean from air-sea interactions down to the seafloor. It is a network of stations or observatories measuring many aspects of the ocean's surface and water column using, where possible, automated systems with advanced sensors and telecommunications systems, yielding high time resolution, often in real-time, while building a long record.\", u'title': u'In situ, meteorological, navigational, physical and profile data collected by US DOC; NOAA; NWS; National Data Buoy Center at OceanSITES site T2S140W from 2000-09-22 to 2015-08-06 (NCEI Accession 0130855)', u'keywords': [u'DOC/NOAA/NESDIS/NODC > National Oceanographic Data Center', u'NESDIS', u'NOAA', u'U.S. Department of Commerce', u'DOC/NOAA/NESDIS/NCEI > National Centers for Environmental Information', u'NESDIS', u'NOAA', u'U.S. Department of Commerce', u'oceanography', u'EARTH SCIENCE > ATMOSPHERE > ATMOSPHERIC TEMPERATURE > AIR TEMPERATURE', u'EARTH SCIENCE > ATMOSPHERE > ATMOSPHERIC WATER VAPOR > HUMIDITY', u'EARTH SCIENCE > ATMOSPHERE > ATMOSPHERIC WINDS > SURFACE WINDS', u'WIND SPEED/WIND DIRECTION', u'EARTH SCIENCE > ATMOSPHERE > PRECIPITATION > PRECIPITATION AMOUNT', u'PRECIPITATION RATE', u'EARTH SCIENCE > CLIMATE INDICATORS > ATMOSPHERIC/OCEAN INDICATORS > TELECONNECTIONS > EL NINO SOUTHERN OSCILLATION (ENSO)', u'ENSO', u'EARTH SCIENCE > OCEANS > OCEAN CIRCULATION > BUOY POSITION', u'EARTH SCIENCE > OCEANS > OCEAN CIRCULATION > OCEAN CURRENTS', u'EARTH SCIENCE > OCEANS > OCEAN PRESSURE > WATER PRESSURE', u'EARTH SCIENCE > OCEANS > OCEAN TEMPERATURE > WATER TEMPERATURE', u'SEA SURFACE TEMPERATURE', u'EARTH SCIENCE > OCEANS > OCEAN WINDS > SURFACE WINDS', u'EARTH SCIENCE > OCEANS > SALINITY/DENSITY > SALINITY', u'DENSITY', u'air_temperature', u'depth', u'direction_of_sea_water_velocity', u'eastward_sea_water_velocity', u'eastward_wind', u'height', u'latitude', u'longitude', u'northward_sea_water_velocity', u'northward_wind', u'rainfall_rate', u'relative_humidity', u'sea_surface_temperature', u'sea_water_practical_salinity', u'sea_water_pressure', u'sea_water_sigma_theta', u'sea_water_speed', u'sea_water_temperature', u'time', u'wind_speed', u'wind_to_direction', u'AIRT', u'AIRT_DM', u'AIRT_QC', u'CDIR', u'CSPD', u'CSPD_DM', u'CSPD_QC', u'DEPTH', u'HEIGHT', u'HEIGHT_WIND', u'LATITUDE', u'LONGITUDE', u'PRES', u'PRES_DM', u'PRES_QC', u'PSAL', u'PSAL_DM', u'PSAL_QC', u'RAIN', u'RAIN_DM', u'RAIN_QC', u'RELH', u'RELH_DM', u'RELH_QC', u'SIGT', u'SIGT_DM', u'SIGT_QC', u'SST', u'SST_DM', u'SST_QC', u'TEMP', u'TEMP_DM', u'TEMP_QC', u'TIME', u'TIME_BNDS', u'UCUR', u'UCUR_DM', u'UCUR_QC', u'UWND', u'VCUR', u'VWND', u'WDIR', u'WDIR_DM', u'WDIR_QC', u'WSPD', u'WSPD_DM', u'WSPD_QC'], u'accessLevel': u'public'}\n",
      "{u'lang': [u'en-US'], u'_id': ObjectId('56d9a92abe18b11a0849e176'), u'description': u'This global monthly precipitation analysis is called the Climate Prediction Center (CPC) Precipitation Reconstruction (PREC). This analysis consists of two components, the land analysis PREC/L and oceanic analysis PREC/O. The land analysis is defined by interpolation of gauge observations from the Global Historical Climatology Network (GHCN) version 2, and the Climate Prediction Center Climate Anomaly Monitoring System (CAMS) dataset through the Optimal Interpolation (OI) algorithm. The oceanic analysis is defined by Empirical Orthogonal Function (EOF) reconstruction of historical gauge observation from islands and atolls and land. The output resolutions are 0.5deg, 1.0deg, and 2.5deg latitude/longitude for the PREC/L, and 2.5deg latitude/longitude for PREC/O. The analysis covers time period from 1948 to current and is updated on real time basis. The data set is available at format of big endian binary, little endian binary, and ascii.', u'title': u'Climate Prediction Center (CPC)Monthly Precipitation Reconstruction (PREC) at Spatial Resolution of 1 degree.', u'keywords': [u'Atmosphere > Precipitation > Precipitation Amount', u'precipitation', u'drought', u'flood', u'Geographic Region > Global', u'Vertical Location > Land Surface', u'climatologyMeteorologyAtmosphere'], u'accessLevel': u'public'}\n",
      "{u'lang': [u'en-US'], u'_id': ObjectId('56d9a92abe18b11a0849e016'), u'description': u\"The National Digital Forecast Database (NDFD) contains a seamless mosaic of the National Weather Service's (NWS) digital forecasts of precipitation amounts. In collaboration with NWS National Centers for Environmental Prediction (NCEP) and NWS Weather Forecast Offices (WFO), the central NDFD server ingests 5-km, 2-dimensional grids of precipitation amounts, and creates experimental forecast data mosaics for the coterminous United States (CONUS), Alaska, Hawaii, and Guam.\", u'title': u\"24-Hour Forecast of Precipitation Amounts from the National Weather Service's National Digital Forecast Database (NDFD)\", u'keywords': [u'precipitation', u'weather', u'forecasts', u'United States'], u'accessLevel': u'public'}\n",
      "{u'lang': [u'en-US'], u'_id': ObjectId('56d9a92abe18b11a0849e191'), u'description': u'Patterns of totals (or means) and their anomalies in the past week (or pentad for precipitation and outgoing longwave radiation - OLR), month, and season are shown for sea surface temperature (SST), 200-mb winds, 850-mb winds, 200-mb velocity potential, soil moisture, precipitation, OLR, and 2-meter air temperature.', u'title': u'Climate Prediction Center (CPC) Monitoring of Global Monsoons', u'keywords': [u'Atmosphere > Atmospheric Phenomena > Monsoons', u'Atmosphere > Atmospheric Phenomena > Drought', u'Atmosphere > Atmospheric Pressure > Anticyclones/Cyclones', u'Atmosphere > Atmospheric Temperature > Surface Air Temperature', u'Atmosphere > Atmospheric Pressure > Temperature Anomalies', u'Atmosphere > Atmospheric Winds > Convection', u'Atmosphere > Atmospheric Winds > Convergence/Divergence', u'Atmosphere > Atmospheric Precipitation > Precipitation Amount', u'Atmosphere > Atmospheric Precipitation > Precipitation Anomalies', u'Atmosphere > Atmospheric Precipitation > Precipitation Rate', u'Atmosphere > Atmospheric Precipitation > Rain', u'monsoon circulation', u'monsoon precipitation', u'atmosphere', u'oceans', u'land', u'Total values and anomalies', u'monitoring', u'Geographical Region > Global', u'Vertical Location > Troposphere', u'climatologyMeteorologyAtmosphere', u'004'], u'accessLevel': u'public'}\n",
      "{u'lang': [u'en-US'], u'_id': ObjectId('56d9a92abe18b11a0849e069'), u'description': u\"The National Digital Forecast Database (NDFD) contains a seamless mosaic of the National Weather Service's (NWS) digital forecasts of precipitation probabilities. In collaboration with NWS National Centers for Environmental Prediction (NCEP) and NWS Weather Forecast Offices (WFO), the central NDFD server ingests 5-km, 2-dimensional grids of precipitation probabilities, and creates experimental forecast data mosaics for the coterminous United States (CONUS), Alaska, Hawaii, and Guam.\", u'title': u\"72-Hour Forecast of 12 Hour Probability of Precipitation from the National Weather Service's National Digital Forecast Database (NDFD)\", u'keywords': [u'precipitation', u'weather', u'forecasts', u'United States'], u'accessLevel': u'public'}\n",
      "{u'lang': [u'en-US'], u'_id': ObjectId('56d9a92abe18b11a0849e157'), u'description': u'The Global Forecast System (GFS) forecast precipitation data at 37.5km resolution is created at the NOAA Climate Prediction Center for the purpose of near real-time usage by the national and international relief agencies and the general public. The users of this data include the U.S. Geological Survey (USGS), the U.S. Agency for International Development (USAID), the Joint Agricultural Weather Facility (JAWF) and the national Meteorological Centers in Africa, Asia and South America. The data is disseminated in the binary format as well as in the form of shape and tiff files for use by the GIS community. This data has seven individual 24-hour accumulated precipitation amounts (in millimeters) corresponding to the seven forecast days and one for the grand total of accumulated 7day total precipitation (in millimeters). Thus, the represented forecast fields have 8 Geotiff files and 8 shape files. All these files are zipped into a single file (per day).', u'title': u'Climate Prediction Center (CPC) NCEP-Global Forecast System (GFS) Precipitation Forecast Product', u'keywords': [u'Atmosphere > Precipitation > Precipitation Amount', u'Geographic Region > Global', u'Vertical Location > Land Surface', u'Vertical Location > Sea Surface', u'climatologyMeteorologyAtmosphere'], u'accessLevel': u'public'}\n",
      "{u'lang': [u'en-US'], u'_id': ObjectId('56d9a92abe18b11a0849e171'), u'description': u'The Climate Prediction Center releases a US Hazards Outlook daily, Monday through Friday. The product highlights regions of anticipated hazardous weather during the next 3-7 and 8-14 days and examples include heavy snow, high winds, flooding, extreme heat and cold and severe thunderstorms. The product highlights regions of anticipated hazardous weather during the next 3-7 and 8-14 days. Three separate files are available for download for each time period. A soils shapefile (and KMZ) contain severe drought and enhanced wildfire risk hazards. A temperature file contains temperature, wind, and wave hazards, and a precipitation file contains rain, snow, and severe weather hazards. The contents of these file are mashed up to create one composite graphic per time period as well as being displayed on an interactive Google Map', u'title': u'Climate Prediction Center (CPC) U.S. Hazards Outlook', u'keywords': [u'Atmosphere > Precipitation > Precipitation Amount', u'Atmosphere > Atmospheric Temperature > Surface Air Temperature', u'Atmosphere > Atmospheric Winds > Boundary Layer Winds', u'Atmosphere > Atmospheric Phenomena > Drought', u'Atmosphere > Atmospheric Phenomena > Storms', u'Hazards', u'drought', u'severe weather', u'flooding', u'Continent > North America > United States of America', u'Vertical Location > Boundary layer', u'climatologyMeteorologyAtmosphere'], u'accessLevel': u'public'}\n",
      "{u'lang': [u'en-US'], u'_id': ObjectId('56d9a92abe18b11a0849e15d'), u'description': u'This global monthly precipitation analysis is called the Climate Prediction Center (CPC) Precipitation Reconstruction (PREC). This analysis consists of two components, the land analysis (PREC/L) and oceanic analysis (PREC/O). The land analysis is defined by interpolation of gauge observations from the Global Historical Climatology Network (GHCN) version 2, and the Climate Prediction Center Climate Anomaly Monitoring System (CAMS) dataset through the Optimal Interpolation (OI) algorithm. The oceanic analysis is defined by Empirical Orthogonal Function (EOF) reconstruction of historical gauge observation from islands and atolls and land. The output resolutions are 0.5deg, 1.0deg, and 2.5deg latitude/longitude for the PREC/L, and 2.5deg latitude/longitude for PREC/O. The analysis covers time period from 1948 to current and is updated on real time basis. The data set is available at format of ASCII and binary.', u'title': u'Climate Prediction Center (CPC) Monthly Precipitation Reconstruction of Ocean(PRECO)at Spatial Resolution of 2.5 degree.', u'keywords': [u'Atmosphere > Precipitation > Precipitation Amount', u'precipitation', u'drought', u'flood', u'Geographic Region > Global', u'Vertical Location > Land Surface', u'Vertical Location > Sea Surface', u'climatologyMeteorologyAtmosphere'], u'accessLevel': u'public'}\n",
      "{u'lang': [u'en-US'], u'_id': ObjectId('56d9a92abe18b11a0849e185'), u'description': u'Climate Prediction Center (CPC) Palmer Drought Severity and Crop Moisture Indices are computed for the 344 U.S. Climate Divisions on a weekly basis based on a minimum of the previous 4 weeks (1 month) of observed temperatures and precipitation. Each climate division record includes a weekly averaged atmospheric temperature, precipitation, soil moisture in the upper and lower layers, percentage of flood capacity, potential evaporation, runoff, crop moisture and change from previous week, monthly moisture anomaly, preliminary or final Palmer Drought Severity Index (PDSI), and precipitation needed to end drought value. The CPC preliminary data are collected in near real-time from ground stations throughout the U.S., and are displayed in tabular form. The preliminary values are replaced by quality controlled data from the National Climatic Data Center with an approximate time lag of 3 to 6 months.', u'title': u'Climate Prediction Center (CPC) Palmer Drought and Crop Moisture Indices', u'keywords': [u'Climate Indicators > Drought/Precipitation Indices > Palmer Drought Crop Moisture Index', u'Atmosphere > Atmospheric Phenomena > Drought', u'Climate Indicators > Drought/Precipitation Indices > Crop Moisture Index', u'Climate Indicators > Drought/Precipitation Indices > Palmer Drought Severity Index', u'Climate Indicators > Drought/Precipitation Indices > PDSI', u'Atmosphere > Atmospheric Temperature > Air Temperature', u'Atmosphere > Atmospheric Temperature > Surface Air Temperature', u'Atmosphere > Precipitation > Precipitation Amount', u'precipitation', u'temperature', u'drought', u'Crop Moisture Index', u'Palmer Drought Severity Index', u'Z Index', u'Continent > North America > United States of America', u'Vertical Location > Land Surface', u'limatologyMeteorologyAtmosphere'], u'accessLevel': u'public'}\n",
      "{u'lang': [u'en-US'], u'_id': ObjectId('56d9a92abe18b11a0849dffb'), u'description': u'The Office of Hydrologic Development of the National Weather Service operates HADS, the Hydrometeorological Automated Data System. This data set contains the last 48 hours worth of hydrometeorological measurements collected by Hydrometeorological Automated Data System. These basic measurements include air and water temperature, dew point temperature, river discharge, precipitation accumulator, actual increment precipitation, river/lake height, wind speed and direction, peak wind speed and direction, dissolved oxygen, ph, water turbidity, water velocity, water conductance, and salinity. The data set includes reports from many observing networks run by different providers.', u'title': u'Hydrometeorological Automated Data System', u'keywords': [u'River', u'Stream', u'Hydrological', u'Meteorological', u'Water Quality', u'river height', u'lake height', u'river discharge', u'precipitation accumulator', u'air temperature', u'dew point temperature', u'wind direction', u'wind speed', u'peak wind speed', u'peak wind direction', u'water temperature', u'dissolved oxygen', u'ph', u'turbidity', u'velocity', u'conductance', u'salinity', u'United States', u'Gulf of Mexico'], u'accessLevel': u'public'}\n",
      "{u'lang': [u'en-US'], u'_id': ObjectId('56d9a92abe18b11a0849e02d'), u'description': u\"The National Digital Forecast Database (NDFD) contains a seamless mosaic of the National Weather Service's (NWS) digital forecasts of precipitation amounts. In collaboration with NWS National Centers for Environmental Prediction (NCEP) and NWS Weather Forecast Offices (WFO), the central NDFD server ingests 5-km, 2-dimensional grids of precipitation amounts, and creates experimental forecast data mosaics for the coterminous United States (CONUS), Alaska, Hawaii, and Guam.\", u'title': u\"72-Hour Forecast of Precipitation Amounts from the National Weather Service's National Digital Forecast Database (NDFD)\", u'keywords': [u'precipitation', u'weather', u'forecasts', u'United States'], u'accessLevel': u'public'}\n",
      "{u'lang': [u'en-US'], u'_id': ObjectId('56d9a92abe18b11a0849e179'), u'description': u'As of January 1, 2001, RFE version 2.0 has been implemented by NOAA?s Climate Prediction Center. Created by Ping-Ping Xie, this replaces RFE 1.0 the previous rainfall estimation algorithm that was operational from 1995 through 2000 (Herman et al., 1997). RFE 2.0 uses additional techniques to better estimate precipitation while continuing the use of cloud top temperature and station rainfall data that formed the basis of RFE 1.0. Meteosat geostationary satellite infrared data is acquired in 30-minute intervals, and areas depicting cloud top temperatures of less than 235K are used to estimate convective rainfall. WMO Global Telecommunication System (GTS) data taken from approx. 1000 stations provide accurate rainfall totals, and are assumed to be the true rainfall near each station. RFE 1.0 used an interpolation method to combine Meteosat and GTS data for daily precipitation estimates, and warm cloud information was included to obtain dekadal (10-day) estimates. The two new satellite rainfall estimation instruments that are incorporated into RFE 2.0 are the Special Sensor Microwave/Imager (SSM/I) on board Defense Meteorological Satellite Program satellites, and the Advanced Microwave Sounding Unit (AMSU). Both estimates are acquired at 6-hour intervals and have a resolution of 0.25 degrees. RFE 2.0 obtains the final daily rainfall estimation using a two part merging process, then sums daily totals to produce dekadal estimates. All satellite data is first combined using a maximum likelihood estimation method, and then GTS station data is used to remove bias. Warm cloud precipitation estimates are not included in RFE 2.0. RFE data is mainly staged for public download in binary format, but is also available in GeoTiff format.', u'title': u'Climate Prediction Center (CPC) Rainfall Estimator (RFE) for Africa', u'keywords': [u'Atmosphere > Precipitation > Precipitation Amount', u'Atmosphere > Precipitation > Rain', u'Atmosphere > Precipitation > Precipitation Rate', u'EARTH SCIENCE', u'ATMOSPHERE', u'PRECIPITATION', u'RAIN', u'DROUGHT', u'FLOODING', u'Continent > Africa', u'climatologyMeteorologyAtmosphere'], u'accessLevel': u'public'}\n",
      "{u'lang': [u'en-US'], u'_id': ObjectId('56d9a92abe18b11a0849e178'), u'description': u'The global precipitation time series provides time series charts showing observations of daily precipitation as well as accumulated precipitation compared to normal accumulated amounts for various stations around the world. These charts are created for different scales of time (30, 90, 365 days). Each station has a graphic that contains two charts. The first chart in the graphic is a time series in the format of a line graph, representing accumulated precipitation for each day in the time series compared to the accumulated normal amount of precipitation. The second chart is a bar graph displaying actual daily precipitation. The total accumulation and surplus or deficit amounts are displayed as text on the charts representing the entire time scale, in both inches and millimeters. The graphics are updated daily and the graphics reflect the updated observations and accumulated precipitation amounts including the latest daily data available. The available graphics are rotated, meaning that only the most recently created graphics are available. Previously made graphics are not archived.', u'title': u'Climate Prediction Center (CPC) Global Precipitation Time Series', u'keywords': [u'Atmosphere > Precipitation > Precipitation Amount', u'precipitation', u'precipitation amount', u'Geographic Region > Global Land', u'Vertical Location > Land Surface', u'climatologyMeteorologyAtmosphere'], u'accessLevel': u'public'}\n",
      "{u'lang': [u'en-US'], u'_id': ObjectId('56d9a92abe18b11a0849dfe9'), u'description': u\"The National Digital Forecast Database (NDFD) contains a seamless mosaic of the National Weather Service's (NWS) digital forecasts of precipitation amounts. In collaboration with NWS National Centers for Environmental Prediction (NCEP) and NWS Weather Forecast Offices (WFO), the central NDFD server ingests 5-km, 2-dimensional grids of precipitation amounts, and creates experimental forecast data mosaics for the coterminous United States (CONUS), Alaska, Hawaii, and Guam.\", u'title': u\"72-Hour Forecast of Precipitation Amounts from the National Weather Service's National Digital Forecast Database (NDFD)\", u'keywords': [u'precipitation', u'weather', u'forecasts', u'United States'], u'accessLevel': u'public'}\n",
      "{u'lang': [u'en-US'], u'_id': ObjectId('56d9a92abe18b11a0849e02c'), u'description': u'The Office of Hydrologic Development of the National Weather Service operates HADS, the Hydrometeorological Automated Data System. This data set contains the last 48 hours worth of hydrometeorological measurements collected by Hydrometeorological Automated Data System. These basic measurements include air and water temperature, dew point temperature, river discharge, precipitation accumulator, actual increment precipitation, river/lake height, wind speed and direction, peak wind speed and direction, dissolved oxygen, ph, water turbidity, water velocity, water conductance, and salinity. The data set includes reports from many observing networks run by different providers.', u'title': u'Hydrometeorological Automated Data System', u'keywords': [u'River', u'Stream', u'Hydrological', u'Meteorological', u'Water Quality', u'river height', u'lake height', u'river discharge', u'precipitation accumulator', u'air temperature', u'dew point temperature', u'wind direction', u'wind speed', u'peak wind speed', u'peak wind direction', u'water temperature', u'dissolved oxygen', u'ph', u'turbidity', u'velocity', u'conductance', u'salinity', u'United States', u'Gulf of Mexico'], u'accessLevel': u'public'}\n",
      "{u'lang': [u'en-US'], u'_id': ObjectId('56d9a92abe18b11a0849df2f'), u'description': u\"This data set was distributed by NSIDC until October, 2003, when it was withdrawn from distribution because it duplicates the NOAA National Climatic Data Center (NCDC) data set TD-9816 'Canadian Monthly Precipitation' (Groisman, P.Y. 1998. National Climatic Data Center Data Documentation for TD-9816, Canadian Monthly Precipitation. National Climatic Data Center 151 Patton Ave., Asheville, NC. 21 pp.). TD-9816 contains monthly rainfall, snowfall and precipitation (the sum of rainfall and snowfall) values from 6,692 stations in Canada. NCDC investigator Pavel Groisman obtained the original data from the Canadian Atmospheric Environment Service (AES) in the early 1990s and adjusted the measurements to account for inconsistencies and changes in instrumentation over the period of record. TD-9816 contains both the original and adjusted data. Related data are the Historical Adjusted Climate Database for Canada, Version December 2002, and Rehabilitated Precipitation and Homogenized Temperature Data Sets provided by the Climate Monitoring and Data Interpretation Division's Climate Research Branch, Meteorological Service of Canada. Monthly Rehabilitated Precipitation and Homogenized Temperature Data Sets (updated annually) includes an alternative version of this data set using different correction methods. It is distributed by the Meteorological Service of Canada, who also provides a Microsoft Word document that compares the two different data correction methods.\", u'title': u'Adjusted Monthly Precipitation, Snowfall and Rainfall for Canada (1874-1990)', u'keywords': [u'Continent > North America > Canada', u'Geographic Region > Arctic', u'EARTH SCIENCE > Atmosphere > Precipitation > Precipitation Amount', u'EARTH SCIENCE > Atmosphere > Precipitation > Precipitation Rate', u'EARTH SCIENCE > Atmosphere > Precipitation > Rain', u'EARTH SCIENCE > Atmosphere > Precipitation > Snow', u'EARTH SCIENCE > Terrestrial Hydrosphere > Snow/Ice > Snow Cover', u'EOSDIS > Earth Observing System Data Information System', u'ESIP > Earth Science Information Partners Program', u'Adjusted Data', u'Canada', u'Canadian Arctic', u'Corrected Data', u'Evaporation Loss', u'Ground Stations', u'Instrumental Inhomogeneities', u'Mean Monthly Precipitation', u'Mean Monthly Rainfall', u'MEAN MONTHLY SNOWFALL', u'Nipher Rain Gauge', u'Nipher Snow Gauge', u'NOAA', u'Rainfall Adjustment', u'Snowfall Adjustment', u'Snow Ruler', u'Station Data', u'Trace Precipitation', u'Wetting Loss', u'Wind-induced Undercatch'], u'accessLevel': u'public'}\n",
      "{u'lang': [u'en-US'], u'_id': ObjectId('56d9a92abe18b11a0849e011'), u'description': u\"The National Digital Forecast Database (NDFD) contains a seamless mosaic of the National Weather Service's (NWS) digital forecasts of precipitation probabilities. In collaboration with NWS National Centers for Environmental Prediction (NCEP) and NWS Weather Forecast Offices (WFO), the central NDFD server ingests 5-km, 2-dimensional grids of precipitation probabilities, and creates experimental forecast data mosaics for the coterminous United States (CONUS), Alaska, Hawaii, and Guam.\", u'title': u\"72-Hour Forecast of 12 Hour Probability of Precipitation from the National Weather Service's National Digital Forecast Database (NDFD)\", u'keywords': [u'precipitation', u'weather', u'forecasts', u'United States'], u'accessLevel': u'public'}\n",
      "{u'lang': [u'en-US'], u'_id': ObjectId('56d9a92abe18b11a0849e163'), u'description': u'The Climate Prediction Center (CPC) issues 6 to 10 day probabilistic precipitation outlooks for the United States. The 6-10 day Outlook gives the confidence that a forecaster has, given as a probability, that the observed precipitation, totaled over upcoming days 6, 7, 8, 9, and 10 will be in the range of one of three possible categories: below median (B), near median (N), or above median (A). For any calendar 5-day period, these categories can be defined by fitting a Gamma distribution to the 30 years of the climatology period, 1981-2010, and dividing this distribution into equally likely partitions (below median, near median, and above median). Note that the base period for the thirty year climatology (currently beginning in 1981 and ending in 2010) is updated once per decade. Because each of these categories occurs 1/3 of the time for any particular calendar 5-day period, the probability of any category being selected at random from the 1981-2010 set of 30 observations is one in three (1/3), or 33.33%. This is also called the climatological probability. The sum of the climatological probabilities of the three categories is 100%.', u'title': u'Climate Prediction Center (CPC) 6 to 10 Day Probabilistic Precipitation Outlook for the Contiguous United States and Alaska', u'keywords': [u'Atmosphere > Precipitation > Precipitation Amount', u'climate outlooks', u'6 to 10 day outlook', u'6 to 10 day forecast', u'6-10 day outlook', u'6-10 day forecast', u'6-10 day precipitation outlook', u'6-10 day precipitation forecast', u'6 to 10 day precipitation outlook', u'6 to 10 day precipitation forecast', u'extended weather forecast', u'climate forecast', u'6-10 day weather outlook', u'Continent > North America > United States of America', u'Vertical Location > Boundary layer', u'climatologyMeteorologyAtmosphere'], u'accessLevel': u'public'}\n",
      "{u'lang': [u'en-US'], u'_id': ObjectId('56d9a92abe18b11a0849e197'), u'description': u'A new technique is presented in which half-hourly global precipitation estimates derived from passive microwave satellite scans are propagated by motion vectors derived from geostationary satellite infrared data. The Climate Prediction Center morphing method (CMORPH) uses motion vectors derived from half-hourly interval geostationary satellite IR imagery to propagate the relatively high quality precipitation estimates derived from passive microwave data. In addition, the shape and intensity of the precipitation features are modified (morphed) during the time between microwave sensor scans by performing a time-weighted linear interpolation. This process yields spatially and temporally complete microwave-derived precipitation analyses, independent of the infrared temperature field. CMORPH showed substantial improvements over both simple averaging of the microwave estimates and over techniques that blend microwave and infrared information but that derive estimates of precipitation from infrared data when passive microwave information is unavailable. In particular, CMORPH outperforms these blended techniques in terms of daily spatial correlation with a validating rain gauge analysis over Australia by an average of 0.14, 0.27, 0.26, 0.22, and 0.20 for April, May, June to August, September, and October 2003 respectively. CMORPH also yields higher equitable threat scores over Australia for the same periods by an average of 0.11, 0.14, 0.13, 0.14, and 0.13. Over the United States for June to August, September, and October 2003, spatial correlation was higher for CMORPH relative to the average of the same techniques by an average of 0.10, 0.13, and 0.13, respectively, and equitable threat scores were higher by an average of 0.06, 0.09, and 0.10 respectively.', u'title': u'CMORPH 8 Km: A Method that Produces Global Precipitation Estimates from Passive Microwave and Infrared Data at High Spatial and Temporal Resolution', u'keywords': [u'Atmosphere > Precipitation > Precipitation Rate', u'Atmosphere > Precipitation > Hydrometeors', u'Atmosphere > Precipitation > Precipitation Amount', u'Atmosphere > Precipitation > Precipitation Anomalies', u'Atmosphere > Precipitation > Rain', u'precipitation', u'satellite', u'passive microwave', u'morphing', u'Geographic Region > Global', u'Vertical Location > Land Surface', u'Vertical Location > Troposphere', u'ClimatologyMeteorologyAtmosphere'], u'accessLevel': u'public'}\n",
      "{u'lang': [u'en-US'], u'_id': ObjectId('56d9a92bbe18b11a0849e403'), u'description': u'Several different government offices have published the Daily weather maps over its history. The publication has also gone by different names over time.  The U.S. Signal Office began publication of the maps as the War Department maps on Jan. 1, 1871. When the government transferred control of the weather service to the newly-created Weather Bureau in 1891 the title changed to the Department of Agriculture weather map. In 1913 the title became simply Daily weather map. Eventually, in 1969, the Weather Bureau began publishing a weekly compilation of the daily maps with the title Daily weather maps (Weekly series).  The the principal charts are the Surface Weather Map, the 500 Millibar Height Contours Chart, the Highest and Lowest Temperatures chart and the Precipitation Areas and Amounts chart.   This library contains a very small subset of this series: 11Sep1928-31Dec1928, 01Jan1959-30Jun1959, and 06Jan1997-04Jan1998.', u'title': u'Daily Weather Maps', u'keywords': [u'EARTH SCIENCE > ATMOSPHERE > ATMOSPHERIC WINDS > VORTICITY', u'EARTH SCIENCE > ATMOSPHERE > ATMOSPHERIC PRESSURE', u'EARTH SCIENCE > ATMOSPHERE > ATMOSPHERIC TEMPERATURE > AIR TEMPERATURE', u'EARTH SCIENCE > ATMOSPHERE > ATMOSPHERIC TEMPERATURE > MAXIMUM/MINIMUM TEMPERATURE', u'EARTH SCIENCE > ATMOSPHERE > ATMOSPHERIC TEMPERATURE > SURFACE AIR TEMPERATURE', u'EARTH SCIENCE > ATMOSPHERE > PRECIPITATION > PRECIPITATION AMOUNT', u'Atmospheric - Surface - Air Temperature', u'Atmospheric - Surface - Precipitation', u'Atmospheric - Surface - Pressure', u'Atmospheric - Surface - Wind Speed and Direction', u'CONTINENT > NORTH AMERICA > UNITED STATES OF AMERICA', u'DOC/NOAA/NESDIS/NCDC > National Climatic Data Center', u'NESDIS', u'NOAA', u'U.S. Department of Commerce', u'BAROMETERS', u'THERMOMETERS', u'ANEMOMETERS', u'RAIN GAUGES', u'BALLOONS', u'METEOROLOGICAL STATIONS', u'RADIOSONDES', u'PIBAL > Pilot Balloons'], u'accessLevel': u'public'}\n",
      "{u'lang': [u'en-US'], u'_id': ObjectId('56d9a92bbe18b11a0849e279'), u'description': u\"In situ, meteorological, navigational, physical and profile oceanographic data were collected, including AIR TEMPERATURE, BAROMETRIC PRESSURE, CURRENT DIRECTION, CURRENT SPEED, CURRENT SPEED - EAST/WEST COMPONENT (U), CURRENT SPEED - NORTH/SOUTH COMPONENT (V), DEPTH - OBSERVATION, INCOMING SOLAR RADIATION, LATITUDE, LONGITUDE, PRECIPITATION RATE, RELATIVE HUMIDITY, SALINITY, SIGMA-THETA, WATER TEMPERATURE, WIND DIRECTION and WIND SPEED from Moored Buoy at the Ocean Station Papa (PAPA) using ADCP, CTD - moored CTD, anemometer, barometers, meteorological sensors, pyranometer and thermistor from 2007-06-07 to 2015-08-06. These data were provided to one of the OceanSITES Data Assembly Centers (DAC). The DAC formatted this information into the OceanSITES file format and passed it on to the Global Data Assembly Centers (GDAC).\\n\\nOceanSITES is a worldwide system of long-term, open-ocean reference stations measuring dozens of variables and monitoring the full depth of the ocean from air-sea interactions down to the seafloor. It is a network of stations or observatories measuring many aspects of the ocean's surface and water column using, where possible, automated systems with advanced sensors and telecommunications systems, yielding high time resolution, often in real-time, while building a long record.\", u'title': u'Gridded in situ, meteorological, navigational, physical and profile data collected by US DOC; NOAA; OAR; Pacific Marine Environmental Laboratory at OceanSITES site PAPA from 2007-06-07 to 2015-08-06 (NCEI Accession 0130475)', u'keywords': [u'DOC/NOAA/NESDIS/NODC > National Oceanographic Data Center', u'NESDIS', u'NOAA', u'U.S. Department of Commerce', u'DOC/NOAA/NESDIS/NCEI > National Centers for Environmental Information', u'NESDIS', u'NOAA', u'U.S. Department of Commerce', u'oceanography', u'air_pressure_at_sea_level', u'air_temperature', u'depth', u'direction_of_sea_water_velocity', u'eastward_sea_water_velocity', u'eastward_wind', u'height', u'latitude', u'longitude', u'northward_sea_water_velocity', u'northward_wind', u'rainfall_rate', u'relative_humidity', u'sea_water_salinity', u'sea_water_sigma_theta', u'sea_water_speed', u'sea_water_temperature', u'surface_downwelling_longwave_flux_in_air', u'surface_downwelling_shortwave_flux_in_air', u'surface_downwelling_shortwave_flux_in_air_standard_deviation', u'time', u'wind_speed', u'wind_to_direction', u'ADCP_DM', u'ADCP_QC', u'AIRT', u'AIRT_DM', u'AIRT_QC', u'ATMS', u'ATMS_DM', u'ATMS_QC', u'CDIR', u'CDIR_DM', u'CDIR_QC', u'CSPD', u'CSPD_DM', u'CSPD_QC', u'DEN', u'DEN_DM', u'DEN_QC', u'DEPADCP', u'DEPCUR', u'DEPDEN', u'DEPPSAL', u'DEPTH', u'HEIGHTAIRT', u'HEIGHTATMS', u'HEIGHTLW', u'HEIGHTRAIN', u'HEIGHTRELH', u'HEIGHTSW', u'HEIGHTWIND', u'HEIGHTXY', u'LATITUDE', u'LONGITUDE', u'LW', u'LW_DM', u'LW_QC', u'PSAL', u'PSAL_DM', u'PSAL_QC', u'RAIN', u'RAIN_DM', u'RAIN_QC', u'RELH', u'RELH_DM', u'RELH_QC', u'SW', u'SWDEV', u'SW_DM', u'SW_QC', u'TEMP', u'TEMP_DM', u'TEMP_QC', u'TIME', u'UADCP', u'UCUR', u'UWND', u'VADCP', u'VCUR', u'VWND', u'WDIR', u'WDIR_DM', u'WDIR_QC', u'WSPD', u'WSPD_DM', u'WSPD_QC', u'XPOS', u'YPOS'], u'accessLevel': u'public'}\n",
      "{u'lang': [u'en-US'], u'_id': ObjectId('56d9a92abe18b11a0849e033'), u'description': u\"The National Digital Forecast Database (NDFD) contains a seamless mosaic of the National Weather Service's (NWS) digital forecasts of precipitation amounts. In collaboration with NWS National Centers for Environmental Prediction (NCEP) and NWS Weather Forecast Offices (WFO), the central NDFD server ingests 5-km, 2-dimensional grids of precipitation amounts, and creates experimental forecast data mosaics for the coterminous United States (CONUS), Alaska, Hawaii, and Guam.\", u'title': u\"48-Hour Forecast of Precipitation Amounts from the National Weather Service's National Digital Forecast Database (NDFD)\", u'keywords': [u'precipitation', u'weather', u'forecasts', u'United States'], u'accessLevel': u'public'}\n",
      "{u'lang': [u'en-US'], u'_id': ObjectId('56d9a92abe18b11a0849e190'), u'description': u'Daily U.S. minimum and maximum temperatures in whole degrees Fahrenheit and reported and estimated precipitation amounts in hundredths of inches(ex 100 is 1.00 inches) generated from the Global Telecommunications System (GTS) metar(hourly) and synoptic(6-hourly) observations.', u'title': u'Climate Prediction Center(CPC)Daily U.S. Precipitation and Temperature Summary', u'keywords': [u'Atmosphere > Atmospheric Temperature > Air Temperature', u'Atmosphere > Atmospheric Temperature > Maximum/Minimum Temperature', u'Atmosphere > Precipitation > Rain', u'Atmosphere > Precipitation > Precipitation Amount', u'Temperature', u'Precipitation', u'Geographic Region > United States', u'Vertical Location > Boundary Layer', u'climatologyMeteorologyAtmosphere'], u'accessLevel': u'public'}\n"
     ]
    }
   ],
   "source": [
    "cursor = db.records.find({'$text': {'$search': 'precipitation'}})\n",
    "for rec in cursor:\n",
    "    print rec"
   ]
  },
  {
   "cell_type": "code",
   "execution_count": 26,
   "metadata": {
    "collapsed": false
   },
   "outputs": [
    {
     "data": {
      "text/plain": [
       "11"
      ]
     },
     "execution_count": 26,
     "metadata": {},
     "output_type": "execute_result"
    }
   ],
   "source": [
    "cursor = db.records.find({'$text': {'$search': 'fire'}})\n",
    "cursor.count()"
   ]
  },
  {
   "cell_type": "markdown",
   "metadata": {},
   "source": [
    "If we want to create a new text index, we can do so by first dropping the first text index:"
   ]
  },
  {
   "cell_type": "code",
   "execution_count": 27,
   "metadata": {
    "collapsed": true
   },
   "outputs": [],
   "source": [
    "db.records.drop_index(\"description_text\") "
   ]
  },
  {
   "cell_type": "markdown",
   "metadata": {},
   "source": [
    "We can also create a __wildcard__ text index for scenarios where we want any text fields in the records to be searchable. In such scenarios you can index all the string fields of your document using the $** wildcard specifier.\n",
    "\n",
    "The query would go something like this:"
   ]
  },
  {
   "cell_type": "code",
   "execution_count": 28,
   "metadata": {
    "collapsed": false
   },
   "outputs": [
    {
     "data": {
      "text/plain": [
       "u'$**_text'"
      ]
     },
     "execution_count": 28,
     "metadata": {},
     "output_type": "execute_result"
    }
   ],
   "source": [
    "db.records.create_index([(\"$**\",\"text\")])"
   ]
  },
  {
   "cell_type": "code",
   "execution_count": 29,
   "metadata": {
    "collapsed": false
   },
   "outputs": [
    {
     "name": "stdout",
     "output_type": "stream",
     "text": [
      "{u'_id': ObjectId('56d9a92abe18b11a0849df36'),\n",
      " u'accessLevel': u'public',\n",
      " u'description': u'This film documents the activities that occurred on Drifting Station Alpha in the Arctic Ocean during the International Geophysical Year, 1957 to 1958. The film is narrated by project leader, Norbert Untersteiner, and chronicles the life of the team as they built their camp and set up experiments. Station Alpha was the first long-term scientific base on arctic pack ice operated by a Western country. At the time of its establishment, Russia had already operated six drifting ice camps of this kind. However, due to the strategic importance and sensitivity of the Arctic Basin, little information from these early stations had reached the West. The documentary was filmed and produced by Frans van der Hoeven (Senior Scientist at Station Alpha) and Norbert Untersteiner (Scientific Leader of Station Alpha). Station Alpha drifted in an area of the Arctic ocean located 500 km north of Barrow, Alaska USA from April 1957 to November 1958; the film covers this entire time period. Digitized copies of the film are available on DVD.',\n",
      " u'keywords': [u'Ocean > Arctic Ocean',\n",
      "               u'EARTH SCIENCE > Cryosphere > Sea Ice > Sea Ice Motion',\n",
      "               u'EARTH SCIENCE > Oceans > Sea Ice > Sea Ice Motion',\n",
      "               u'Arctic Sea Ice',\n",
      "               u'Drifting Station',\n",
      "               u'Polar Sea Ice',\n",
      "               u'Sea Ice',\n",
      "               u'Sea Ice Drift',\n",
      "               u'Sea Ice Motion'],\n",
      " u'lang': [u'en-US'],\n",
      " u'title': u'International Geophysical Year, 1957-1958: Drifting Station Alpha Documentary Film'}\n",
      "{u'_id': ObjectId('56d9a92abe18b11a0849df1f'),\n",
      " u'accessLevel': u'public',\n",
      " u'description': u\"This data set contains sea ice and snow measurements collected during aircraft landings associated with the Soviet Union's historical Sever airborne and North Pole drifting station programs. The High-Latitude Airborne Annual Expeditions Sever (Sever means North) took place in 1937, 1941, 1948-1952, and 1954-1993 (Konstantinov and Grachev, 2000). In Spring 1993, the last (45th) Sever expedition finished long-term activity in the Arctic. Snow and sea ice data were collected, along with meteorological and hydrological measurements (the latter are not part of this data set). Up to 202 landings were accomplished each year.  The data set contains measurements of 23 parameters, including ice thickness and snow depth on the runway and surrounding area; ridge, hummock, and sastrugi dimensions and areal coverage; and snow density. The sea ice thickness data are of particular importance, as ice thickness measurements for the Arctic Basin are scarce. These data are a subset of those used to create the atlas Morphometric Characteristics of Ice and Snow in the Arctic Basin, self-published by Ilya P. Romanov in 1993, and republished by Backbone Publishing Company in 1995. Romanov provided these data to the National Snow and Ice Data Center (NSIDC) in 1994.\",\n",
      " u'keywords': [u'Continent > Europe > Eastern Europe > Russia',\n",
      "               u'Geographic Region > Arctic > Arctic Basin',\n",
      "               u'EARTH SCIENCE > Cryosphere > Sea Ice > Ice Deformation',\n",
      "               u'EARTH SCIENCE > Cryosphere > Sea Ice > Ice Depth/Thickness',\n",
      "               u'EARTH SCIENCE > Cryosphere > Sea Ice > Ice Floes > Length',\n",
      "               u'EARTH SCIENCE > Cryosphere > Sea Ice > Ice Floes > Width',\n",
      "               u'EARTH SCIENCE > Cryosphere > Sea Ice > Ice Roughness > Hummocks',\n",
      "               u'EARTH SCIENCE > Cryosphere > Sea Ice > Sea Ice Elevation > Hummocks',\n",
      "               u'EARTH SCIENCE > Cryosphere > Sea Ice > Snow Depth',\n",
      "               u'EARTH SCIENCE > Cryosphere > Snow/Ice > Snow Density',\n",
      "               u'EARTH SCIENCE > Cryosphere > Snow/Ice > Snow Depth',\n",
      "               u'EARTH SCIENCE > Oceans > Sea Ice > Ice Deformation',\n",
      "               u'EARTH SCIENCE > Oceans > Sea Ice > Ice Depth/Thickness',\n",
      "               u'EARTH SCIENCE > Oceans > Sea Ice > Ice Floes > Length',\n",
      "               u'EARTH SCIENCE > Oceans > Sea Ice > Ice Floes > Width',\n",
      "               u'EARTH SCIENCE > Oceans > Sea Ice > Ice Roughness > Hummocks',\n",
      "               u'EARTH SCIENCE > Oceans > Sea Ice > Sea Ice Elevation',\n",
      "               u'EARTH SCIENCE > Oceans > Sea Ice > Snow Depth',\n",
      "               u'EARTH SCIENCE > Terrestrial Hydrosphere > Snow/Ice > Snow Density',\n",
      "               u'EARTH SCIENCE > Terrestrial Hydrosphere > Snow/Ice > Snow Depth',\n",
      "               u'Aircraft',\n",
      "               u'Arctic Basin',\n",
      "               u'Arctic Sea Ice',\n",
      "               u'g02140',\n",
      "               u'NOAA',\n",
      "               u'North Pole',\n",
      "               u'North Pole drifting station',\n",
      "               u'Sever'],\n",
      " u'lang': [u'en-US'],\n",
      " u'title': u'Morphometric Characteristics of Ice and Snow in the Arctic Basin: Aircraft Landing Observations from the Former Soviet Union, 1928-1989'}\n",
      "{u'_id': ObjectId('56d9a92abe18b11a0849e19e'),\n",
      " u'accessLevel': u'public',\n",
      " u'description': u\"The Midwater Assessment and Conservation Engineering (MACE) program of the Alaska Fisheries Science Center (AFSC; NOAA National Marine Fisheries Service) conducted an acoustic-trawl (AT) stock assessment survey in the eastern Bering Sea during the summer of 2010 to estimate the distribution and abundance of walleye pollock (Gadus chalcogrammus). The survey was conducted between 5 June and 7 August, 2010, along the eastern Bering Sea (EBS) shelf and in the Cape Navarin area of Russia. The survey was divided into three segments; leg 1 was 5 June to 24 June, leg 2 was 29 June to 16 July, and leg 3 was 20 July to 7 August, 2010. The survey was conducted onboard NOAA Ship Oscar Dyson, a 64 meter stern trawler equipped with acoustic and oceanographic instrumentation in addition to trawling and biological sampling capabilities. The primary instrumentation for the survey was a Simrad EK60 split-beam echosounder system utilizing five frequencies (18, 38, 70, 120, and 200 kHz) and a Simrad ME70 multibeam echosounder, with the ME70 transmit pulse synchronized to the EK60 system. This data set includes Kongsberg Simrad ME70 raw multibeam data, Seabird CTD data, and ship's navigation/oceanographic/meteorological sensor data.\",\n",
      " u'keywords': [u'EARTH SCIENCE > Oceans > Ocean Acoustics > Acoustic Scattering',\n",
      "               u'EARTH SCIENCE > Oceans > Aquatic Sciences > Fisheries',\n",
      "               u'EARTH SCIENCE > Oceans > Bathymetry/Seafloor Topography > Bathymetry',\n",
      "               u'EARTH SCIENCE > Biosphere > Aquatic Ecosystems',\n",
      "               u'EARTH SCIENCE > Biosphere > Aquatic Ecosystems > Marine Habitat',\n",
      "               u'EARTH SCIENCE > Biosphere > Aquatic Ecosystems > Benthic Habitat',\n",
      "               u'EARTH SCIENCE > Biosphere > Aquatic Ecosystems > Pelagic Habitat',\n",
      "               u'EARTH SCIENCE > Oceans > Bathymetry/Seafloor Topography > Seafloor Topography',\n",
      "               u'Bering Sea',\n",
      "               u'DOC/NOAA/NESDIS/NCEI > National Centers for Environmental Information',\n",
      "               u'NESDIS',\n",
      "               u'NOAA',\n",
      "               u'U.S. Department of Commerce',\n",
      "               u'DOC/NOAA/NMFS > National Marine Fisheries Service',\n",
      "               u'NOAA',\n",
      "               u'U.S. Department of Commerce',\n",
      "               u'Global',\n",
      "               u'Sea Floor',\n",
      "               u'In Situ/Laboratory Instruments > Profilers/Sounders > Acoustic Sounders > WCMS > Water Column Mapping System'],\n",
      " u'lang': [u'en-US'],\n",
      " u'title': u'Eastern Bering Sea Acoustic-Trawl Survey of Walleye Pollock (DY1006)'}\n",
      "{u'_id': ObjectId('56d9a92abe18b11a0849df26'),\n",
      " u'accessLevel': u'public',\n",
      " u'description': u'This data set contains monthly mean precipitation sums from Russian arctic stations. Precipitation measurements were acquired using a Tretyakov precipitation gauge. Data have not been adjusted for wind bias. Data from 1967 and later are corrected for wetting loss (this correction was made by observers as they recorded the station data). Precipitation measurements from 216 stations are available. An analysis of existing precipitation data sets confirmed that data from these stations are not, at the time of publication, available in other commonly used precipitation data sets. Most data records begin in 1966 and end in 1990. The data are in tab-delimited ASCII format and available via FTP.',\n",
      " u'keywords': [u'Continent > Europe > Eastern Europe > Russia',\n",
      "               u'Geographic Region > Arctic',\n",
      "               u'Geographic Region > Northern Hemisphere',\n",
      "               u'EARTH SCIENCE > Atmosphere > Precipitation > Precipitation Amount',\n",
      "               u'Arctic',\n",
      "               u'NOAA',\n",
      "               u'Russian Arctic',\n",
      "               u'SEARCH > Study of Environmental Arctic Change'],\n",
      " u'lang': [u'en-US'],\n",
      " u'title': u'Monthly Mean Precipitation Sums at Russian Arctic Stations, 1966-1990'}\n",
      "{u'_id': ObjectId('56d9a92bbe18b11a0849e53a'),\n",
      " u'accessLevel': u'public',\n",
      " u'description': u'Temperature, salinity, and other data were collected using buoy casts in the Arctic Ocean, Barents Sea and Beaufort Sea from 1948 to 1993. Data were collected by the US Naval Oceanographic Office, Arctic and Antarctic Research Institute of the Russian Federation, US NODC-NOAA, Russia National Ocean Data Center, Canada Institute for Ocean Service, ERIM International, and University of Washington.',\n",
      " u'keywords': [u'DOC/NOAA/NESDIS/NODC > National Oceanographic Data Center',\n",
      "               u'NESDIS',\n",
      "               u'NOAA',\n",
      "               u'U.S. Department of Commerce',\n",
      "               u'DOC/NOAA/NESDIS/NCEI > National Centers for Environmental Information',\n",
      "               u'NESDIS',\n",
      "               u'NOAA',\n",
      "               u'U.S. Department of Commerce',\n",
      "               u'oceanography'],\n",
      " u'lang': [u'en-US'],\n",
      " u'title': u'Temperature, salinity, and other data from buoy casts in the Arctic Ocean, Barents Sea and Beaufort Sea from 1948 to 1993 (NCEI Accession 9800040)'}\n",
      "{u'_id': ObjectId('56d9a92abe18b11a0849df20'),\n",
      " u'accessLevel': u'public',\n",
      " u'description': u'This data set was distributed by NSIDC until October, 2003, when it was withdrawn from distribution because it duplicates the NOAA National Climatic Data Center (NCDC) data set DSI-3720. The NCDC data set is revised and updated beyond what was distributed by NSIDC. This archive consists of monthly precipitation measurements from 622 stations located in the Former Soviet Union.',\n",
      " u'keywords': [u'Continent > Europe > Eastern Europe > Russia',\n",
      "               u'EARTH SCIENCE > Atmosphere > Precipitation > Precipitation Amount',\n",
      "               u'EARTH SCIENCE > Atmosphere > Precipitation > Precipitation Rate',\n",
      "               u'EARTH SCIENCE > Atmosphere > Precipitation > Rain',\n",
      "               u'EARTH SCIENCE > Atmosphere > Precipitation > Snow',\n",
      "               u'EARTH SCIENCE > Terrestrial Hydrosphere > Snow/Ice > Snow Cover',\n",
      "               u'EOSDIS > Earth Observing System Data Information System',\n",
      "               u'ESIP > Earth Science Information Partners Program',\n",
      "               u'Asia',\n",
      "               u'Europe',\n",
      "               u'Former Soviet Union',\n",
      "               u'GAUGE BUCKET',\n",
      "               u'GAUGE POST',\n",
      "               u'NIPHER',\n",
      "               u'Precipitation',\n",
      "               u'Rain',\n",
      "               u'Rain Gauge',\n",
      "               u'Russia',\n",
      "               u'Soviet',\n",
      "               u'State Hydrological Institute',\n",
      "               u'Station',\n",
      "               u'Tretiyakov',\n",
      "               u'Ussr'],\n",
      " u'lang': [u'en-US'],\n",
      " u'title': u'Former Soviet Union Monthly Precipitation Archive, 1891-1993'}\n",
      "{u'_id': ObjectId('56d9a92abe18b11a0849df34'),\n",
      " u'accessLevel': u'public',\n",
      " u'description': u'This data set consists of river ice thickness measurements, and beginning and ending dates for river freeze-up events from fifty stations in northern Russia. The data set includes values from 1917 through 1992, however the record length varies for each station. The longest station record covers the period 1917 through 1988 (the station table shows the beginning and end years for measurements at each station). Data were obtained through the U.S.-Russia Working Group VIII of the U.S.-Russia Bilateral Agreement on the Protection of Environmental and Natural Resources.',\n",
      " u'keywords': [u'Continent > Europe > Eastern Europe > Russia',\n",
      "               u'EARTH SCIENCE > Cryosphere > Snow/Ice > Freeze/Thaw',\n",
      "               u'EARTH SCIENCE > Cryosphere > Snow/Ice > River Ice > Duration',\n",
      "               u'EARTH SCIENCE > Cryosphere > Snow/Ice > River Ice > Freeze-Up Events',\n",
      "               u'EARTH SCIENCE > Cryosphere > Snow/Ice > River Ice > Thickness',\n",
      "               u'EARTH SCIENCE > Terrestrial Hydrosphere > Snow/Ice > River Ice > Duration',\n",
      "               u'EARTH SCIENCE > Terrestrial Hydrosphere > Snow/Ice > River Ice > Freeze-Up Events',\n",
      "               u'EARTH SCIENCE > Terrestrial Hydrosphere > Snow/Ice > River Ice > Thickness',\n",
      "               u'Freeze-up',\n",
      "               u'Freeze-up Events',\n",
      "               u'G01187',\n",
      "               u'Ice Duration',\n",
      "               u'Ice Thickness',\n",
      "               u'NOAA',\n",
      "               u'NSIDC',\n",
      "               u'River Ice',\n",
      "               u'Russia',\n",
      "               u'Russian Rivers'],\n",
      " u'lang': [u'en-US'],\n",
      " u'title': u'Russian River Ice Thickness and Duration'}\n",
      "{u'_id': ObjectId('56d9a92abe18b11a0849df32'),\n",
      " u'accessLevel': u'public',\n",
      " u'description': u'This data set contains precipitation data originally recorded in log books at 65 coastal and island meteorological stations, and later digitized at the Arctic and Antarctic Research Institute (AARI), St. Petersburg, Russia, under the direction of Vladimir Radionov. Records from most stations begin in 1940. Instrumentation was generally a rain gauge with Nipher shield until the early 1950s (for most stations), when the Tretyakov precipitation gauge replaced earlier instrumentation.  Data have not been adjusted for gauge type or wind bias. Observers corrected the data from 1967-1990 for wetting loss as they recorded the station data.',\n",
      " u'keywords': [u'Continent > Europe > Eastern Europe > Russia',\n",
      "               u'Geographic Region > Arctic',\n",
      "               u'EARTH SCIENCE > Atmosphere > Precipitation > Precipitation Amount',\n",
      "               u'AARI',\n",
      "               u'coastal precipitation',\n",
      "               u'island precipitation',\n",
      "               u'land-sea boundary',\n",
      "               u'NOAA'],\n",
      " u'lang': [u'en-US'],\n",
      " u'title': u'Daily Precipitation Sums at Coastal and Island Russian Arctic Stations, 1940-1990'}\n",
      "{u'_id': ObjectId('56d9a92abe18b11a0849e180'),\n",
      " u'accessLevel': u'public',\n",
      " u'description': u'Monthly tabulated index of the East Atlantic/ Western Russia teleconnection pattern. The data spans the period 1950 to present. The index is derived from a rotated principal component analysis (RPCA) of normalized 500-hPa height anomalies from the period 1950-2000. The data source is the NCEP/NCAR Reanalysis. The resulting time series is then re-normalized to coincide with the 1981-2010 base period monthly means. The index is updated monthly. Calculating the index using the RPCA approach is a somewhat complicated process, in that it is not derived independently of the other extratropical teleconnection pattern indices.',\n",
      " u'keywords': [u'Atmosphere > Atmospheric Pressure > Pressure Anomalies',\n",
      "               u'Atmosphere > Atmospheric Pressure > Oscillations',\n",
      "               u'Climate Indicators > Teleconnections > East Atlantic/ West Russia Pattern',\n",
      "               u'East Atlantic/ Western Russia Teleconnection Pattern',\n",
      "               u'East Atlantic/ Western Russia Teleconnection Index',\n",
      "               u'Teleconnection',\n",
      "               u'Climate variability',\n",
      "               u'Geographic Region > Mid-Latitude > Northern Hemisphere',\n",
      "               u'Vertical Location > Troposphere',\n",
      "               u'climatologyMeteorologyAtmosphere'],\n",
      " u'lang': [u'en-US'],\n",
      " u'title': u'Climate Prediction Center (CPC) East Atlantic/ Western Russia Teleconnection Pattern Index'}\n"
     ]
    }
   ],
   "source": [
    "cursor = db.records.find({'$text': {'$search': \"Russia\"}})\n",
    "for rec in cursor:\n",
    "    pprint(rec)"
   ]
  },
  {
   "cell_type": "markdown",
   "metadata": {},
   "source": [
    "### Projections \n",
    "\n",
    "Projections allow you to pass along the documents with only the specified fields to the next stage in the pipeline. The specified fields can be existing fields from the input documents or newly computed fields.\n",
    "\n",
    "For example, let's redo our fulltext Russia search, but project just the titles of the records:"
   ]
  },
  {
   "cell_type": "code",
   "execution_count": 31,
   "metadata": {
    "collapsed": false
   },
   "outputs": [
    {
     "name": "stdout",
     "output_type": "stream",
     "text": [
      "{u'title': u'International Geophysical Year, 1957-1958: Drifting Station Alpha Documentary Film'}\n",
      "{u'title': u'Morphometric Characteristics of Ice and Snow in the Arctic Basin: Aircraft Landing Observations from the Former Soviet Union, 1928-1989'}\n",
      "{u'title': u'Eastern Bering Sea Acoustic-Trawl Survey of Walleye Pollock (DY1006)'}\n",
      "{u'title': u'Monthly Mean Precipitation Sums at Russian Arctic Stations, 1966-1990'}\n",
      "{u'title': u'Temperature, salinity, and other data from buoy casts in the Arctic Ocean, Barents Sea and Beaufort Sea from 1948 to 1993 (NCEI Accession 9800040)'}\n",
      "{u'title': u'Former Soviet Union Monthly Precipitation Archive, 1891-1993'}\n",
      "{u'title': u'Russian River Ice Thickness and Duration'}\n",
      "{u'title': u'Daily Precipitation Sums at Coastal and Island Russian Arctic Stations, 1940-1990'}\n",
      "{u'title': u'Climate Prediction Center (CPC) East Atlantic/ Western Russia Teleconnection Pattern Index'}\n"
     ]
    }
   ],
   "source": [
    "cursor = db.records.find({'$text': {'$search': \"Russia\"}}, {\"title\": 1,\"_id\":0 })\n",
    "for rec in cursor:\n",
    "    print rec"
   ]
  },
  {
   "cell_type": "markdown",
   "metadata": {},
   "source": [
    "### Limit    \n",
    "\n",
    "`.limit()` passes the first _n_ documents unmodified to the pipeline where _n_ is the specified limit. For each input document, this method outputs either one document (for the first _n_ documents) or zero documents (after the first _n_ documents)."
   ]
  },
  {
   "cell_type": "code",
   "execution_count": 41,
   "metadata": {
    "collapsed": false
   },
   "outputs": [
    {
     "name": "stdout",
     "output_type": "stream",
     "text": [
      "{u'title': u'International Geophysical Year, 1957-1958: Drifting Station Alpha Documentary Film'}\n",
      "{u'title': u'Morphometric Characteristics of Ice and Snow in the Arctic Basin: Aircraft Landing Observations from the Former Soviet Union, 1928-1989'}\n"
     ]
    }
   ],
   "source": [
    "cursor = db.records.find({'$text': {'$search': \"Russia\"}}, {\"title\": 1,\"_id\":0 }).limit(2)\n",
    "for rec in cursor:\n",
    "    print rec"
   ]
  },
  {
   "cell_type": "markdown",
   "metadata": {},
   "source": [
    "### Aggregate\n",
    "MongoDB can perform aggregation operations with `.aggregate()`, such as grouping by a specified key and evaluating a total or a count for each distinct group.    \n",
    "\n",
    "Use the `$group` stage to group by a specified key using the \\_id field. `$group` accesses fields by the field path, which is the field name prefixed by a dollar sign.    \n",
    "\n",
    "For example, we can use `$group` to aggregate all the languages of the NOAA records:"
   ]
  },
  {
   "cell_type": "code",
   "execution_count": 43,
   "metadata": {
    "collapsed": false
   },
   "outputs": [
    {
     "name": "stdout",
     "output_type": "stream",
     "text": [
      "{u'_id': [u'en-US'], u'count': 1722}\n"
     ]
    }
   ],
   "source": [
    "cursor = db.records.aggregate(\n",
    "    [\n",
    "        {\"$group\": {\"_id\": \"$lang\", \"count\": {\"$sum\": 1}}}\n",
    "    ]\n",
    ")\n",
    "for document in cursor:\n",
    "    pprint(document)"
   ]
  },
  {
   "cell_type": "markdown",
   "metadata": {},
   "source": [
    "Or we can combine `$match` and `$group` to aggregate the titles of just the public access records that match the word 'Soviet':"
   ]
  },
  {
   "cell_type": "code",
   "execution_count": 44,
   "metadata": {
    "collapsed": false
   },
   "outputs": [
    {
     "name": "stdout",
     "output_type": "stream",
     "text": [
      "{u'_id': u'Climate Prediction Center (CPC) East Atlantic/ Western Russia Teleconnection Pattern Index'}\n",
      "{u'_id': u'Daily Precipitation Sums at Coastal and Island Russian Arctic Stations, 1940-1990'}\n",
      "{u'_id': u'Russian River Ice Thickness and Duration'}\n",
      "{u'_id': u'Former Soviet Union Monthly Precipitation Archive, 1891-1993'}\n",
      "{u'_id': u'Temperature, salinity, and other data from buoy casts in the Arctic Ocean, Barents Sea and Beaufort Sea from 1948 to 1993 (NCEI Accession 9800040)'}\n",
      "{u'_id': u'Eastern Bering Sea Acoustic-Trawl Survey of Walleye Pollock (DY1006)'}\n",
      "{u'_id': u'Morphometric Characteristics of Ice and Snow in the Arctic Basin: Aircraft Landing Observations from the Former Soviet Union, 1928-1989'}\n",
      "{u'_id': u'Monthly Mean Precipitation Sums at Russian Arctic Stations, 1966-1990'}\n",
      "{u'_id': u'International Geophysical Year, 1957-1958: Drifting Station Alpha Documentary Film'}\n"
     ]
    }
   ],
   "source": [
    "cursor = db.records.aggregate(\n",
    "    [\n",
    "        {\"$match\": {'$text': {'$search': \"Russia\"}, \"accessLevel\": \"public\"}},\n",
    "        {\"$group\": {\"_id\": \"$title\"}}\n",
    "    ]\n",
    ")\n",
    "\n",
    "for document in cursor:\n",
    "    pprint(document)"
   ]
  },
  {
   "cell_type": "markdown",
   "metadata": {},
   "source": [
    "### Length    \n",
    "find all that have this length, emphasis nested data structures, can’t do it in relational"
   ]
  },
  {
   "cell_type": "code",
   "execution_count": null,
   "metadata": {
    "collapsed": true
   },
   "outputs": [],
   "source": []
  },
  {
   "cell_type": "code",
   "execution_count": null,
   "metadata": {
    "collapsed": true
   },
   "outputs": [],
   "source": []
  },
  {
   "cell_type": "markdown",
   "metadata": {},
   "source": [
    "### The aggregation pipeline \n",
    "\n",
    "The [aggregation pipeline](https://docs.mongodb.org/manual/core/aggregation-pipeline/) allows MongoDB to provide native aggregation capabilities that corresponds to many common data aggregation operations in SQL.  Here's where you will put the pieces together to aggregate to get results that you can begin to analyze and perform machine learning on."
   ]
  },
  {
   "cell_type": "code",
   "execution_count": null,
   "metadata": {
    "collapsed": true
   },
   "outputs": [],
   "source": [
    "from IPython.display import Image\n",
    "Image(filename='images/mongodb_pipeline.png', width=600, height=300)"
   ]
  },
  {
   "cell_type": "markdown",
   "metadata": {},
   "source": [
    "### Removing data    \n",
    "\n",
    "It's easy (almost too easy) to delete projects, collections, and databases in MongoDB. Before we get rid of anything, let's determine what collections we have in our database:"
   ]
  },
  {
   "cell_type": "code",
   "execution_count": null,
   "metadata": {
    "collapsed": false
   },
   "outputs": [],
   "source": [
    "conn.earthwindfire.collection_names()"
   ]
  },
  {
   "cell_type": "markdown",
   "metadata": {},
   "source": [
    "Now let's delete our records collection and check again to see what collections are in our database:"
   ]
  },
  {
   "cell_type": "code",
   "execution_count": null,
   "metadata": {
    "collapsed": false
   },
   "outputs": [],
   "source": [
    "conn.earthwindfire.drop_collection(\"records\")\n",
    "conn.earthwindfire.collection_names()"
   ]
  },
  {
   "cell_type": "markdown",
   "metadata": {},
   "source": [
    "We can also just drop a database. First let's determine what databases we have:"
   ]
  },
  {
   "cell_type": "code",
   "execution_count": null,
   "metadata": {
    "collapsed": false
   },
   "outputs": [],
   "source": [
    "conn.database_names()"
   ]
  },
  {
   "cell_type": "markdown",
   "metadata": {},
   "source": [
    "Now let's remove the earthwindfire database:"
   ]
  },
  {
   "cell_type": "code",
   "execution_count": null,
   "metadata": {
    "collapsed": false
   },
   "outputs": [],
   "source": [
    "conn.drop_database(\"earthwindfire\")\n",
    "conn.database_names()"
   ]
  },
  {
   "cell_type": "markdown",
   "metadata": {},
   "source": [
    "Nice work!"
   ]
  },
  {
   "cell_type": "markdown",
   "metadata": {},
   "source": [
    "## Miscellaneous\n",
    "\n",
    "### Statistics    \n",
    "\n",
    "The [`dbstats`](https://docs.mongodb.org/manual/reference/method/db.stats/) method returns statistics that reflect the use state of a single database:"
   ]
  },
  {
   "cell_type": "code",
   "execution_count": 45,
   "metadata": {
    "collapsed": false
   },
   "outputs": [
    {
     "data": {
      "text/plain": [
       "{u'avgObjSize': 2284.814814814815,\n",
       " u'collections': 3,\n",
       " u'dataFileVersion': {u'major': 4, u'minor': 22},\n",
       " u'dataSize': 3948160.0,\n",
       " u'db': u'earthwindfire',\n",
       " u'extentFreeList': {u'num': 0, u'totalSize': 0},\n",
       " u'fileSize': 67108864.0,\n",
       " u'indexSize': 5322576.0,\n",
       " u'indexes': 2,\n",
       " u'nsSizeMB': 16,\n",
       " u'numExtents': 8,\n",
       " u'objects': 1728,\n",
       " u'ok': 1.0,\n",
       " u'storageSize': 11194368.0}"
      ]
     },
     "execution_count": 45,
     "metadata": {},
     "output_type": "execute_result"
    }
   ],
   "source": [
    "db.command({'dbstats': 1})"
   ]
  },
  {
   "cell_type": "markdown",
   "metadata": {},
   "source": [
    "[`collStats`](https://docs.mongodb.org/manual/reference/command/collStats/) returns a variety of storage statistics for a given collection. Let's try it out for our NOAA records collection:"
   ]
  },
  {
   "cell_type": "code",
   "execution_count": 46,
   "metadata": {
    "collapsed": false
   },
   "outputs": [
    {
     "data": {
      "text/plain": [
       "{u'avgObjSize': 2292,\n",
       " u'capped': False,\n",
       " u'count': 1722,\n",
       " u'extents': [{u'len': 8192, u'loc: ': {u'file': 0, u'offset': 20480}},\n",
       "  {u'len': 32768, u'loc: ': {u'file': 0, u'offset': 167936}},\n",
       "  {u'len': 131072, u'loc: ': {u'file': 0, u'offset': 200704}},\n",
       "  {u'len': 524288, u'loc: ': {u'file': 0, u'offset': 331776}},\n",
       "  {u'len': 2097152, u'loc: ': {u'file': 0, u'offset': 856064}},\n",
       "  {u'len': 8388608, u'loc: ': {u'file': 0, u'offset': 2953216}}],\n",
       " u'indexDetails': {},\n",
       " u'indexSizes': {u'$**_text': 5257168, u'_id_': 65408},\n",
       " u'lastExtentSize': 8388608.0,\n",
       " u'nindexes': 2,\n",
       " u'ns': u'earthwindfire.records',\n",
       " u'numExtents': 6,\n",
       " u'ok': 1.0,\n",
       " u'paddingFactor': 1.0,\n",
       " u'paddingFactorNote': u'paddingFactor is unused and unmaintained in 3.0. It remains hard coded to 1.0 for compatibility only.',\n",
       " u'size': 3947616,\n",
       " u'storageSize': 11182080,\n",
       " u'totalIndexSize': 5322576,\n",
       " u'userFlags': 1}"
      ]
     },
     "execution_count": 46,
     "metadata": {},
     "output_type": "execute_result"
    }
   ],
   "source": [
    "db.command({'collstats': 'records', 'verbose': 'true' })"
   ]
  }
 ],
 "metadata": {
  "kernelspec": {
   "display_name": "Python 2",
   "language": "python",
   "name": "python2"
  },
  "language_info": {
   "codemirror_mode": {
    "name": "ipython",
    "version": 2
   },
   "file_extension": ".py",
   "mimetype": "text/x-python",
   "name": "python",
   "nbconvert_exporter": "python",
   "pygments_lexer": "ipython2",
   "version": "2.7.9"
  }
 },
 "nbformat": 4,
 "nbformat_minor": 0
}
